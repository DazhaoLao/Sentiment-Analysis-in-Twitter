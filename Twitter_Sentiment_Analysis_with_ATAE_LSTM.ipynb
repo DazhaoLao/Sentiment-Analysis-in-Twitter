{
  "nbformat": 4,
  "nbformat_minor": 0,
  "metadata": {
    "colab": {
      "name": "Twitter_Sentiment_Analysis_with_ATAE_LSTM.ipynb",
      "provenance": [],
      "collapsed_sections": [],
      "toc_visible": true
    },
    "kernelspec": {
      "name": "python3",
      "display_name": "Python 3"
    },
    "language_info": {
      "name": "python"
    },
    "accelerator": "GPU"
  },
  "cells": [
    {
      "cell_type": "code",
      "metadata": {
        "colab": {
          "base_uri": "https://localhost:8080/"
        },
        "id": "FrGEMNfm6yW9",
        "outputId": "18f79dbd-3f7c-43d3-db0b-9a740aab3e3f"
      },
      "source": [
        "import torch\n",
        "import torch.nn as nn\n",
        "import torch.nn.functional as F\n",
        "import pandas as pd\n",
        "import os\n",
        "from torch.nn import init\n",
        "from torchtext.legacy import data\n",
        "from torchtext.vocab import Vectors\n",
        "from torchtext.vocab import GloVe\n",
        "import time\n",
        "import nltk\n",
        "from collections import defaultdict\n",
        "import numpy as np\n",
        "\n",
        "nltk.download('punkt')"
      ],
      "execution_count": 1,
      "outputs": [
        {
          "output_type": "stream",
          "text": [
            "[nltk_data] Downloading package punkt to /root/nltk_data...\n",
            "[nltk_data]   Package punkt is already up-to-date!\n"
          ],
          "name": "stdout"
        },
        {
          "output_type": "execute_result",
          "data": {
            "text/plain": [
              "True"
            ]
          },
          "metadata": {
            "tags": []
          },
          "execution_count": 1
        }
      ]
    },
    {
      "cell_type": "markdown",
      "metadata": {
        "id": "yesgU_pc7Pwe"
      },
      "source": [
        "## Data Preprocessing\n"
      ]
    },
    {
      "cell_type": "code",
      "metadata": {
        "colab": {
          "base_uri": "https://localhost:8080/",
          "height": 195
        },
        "id": "3T2Ua9I8ilay",
        "outputId": "5bcb5dd5-dafa-434e-ce60-d83e23634d6d"
      },
      "source": [
        "df=pd.read_csv('/content/train.tsv',sep='\\t')\n",
        "df.head()"
      ],
      "execution_count": 2,
      "outputs": [
        {
          "output_type": "execute_result",
          "data": {
            "text/html": [
              "<div>\n",
              "<style scoped>\n",
              "    .dataframe tbody tr th:only-of-type {\n",
              "        vertical-align: middle;\n",
              "    }\n",
              "\n",
              "    .dataframe tbody tr th {\n",
              "        vertical-align: top;\n",
              "    }\n",
              "\n",
              "    .dataframe thead th {\n",
              "        text-align: right;\n",
              "    }\n",
              "</style>\n",
              "<table border=\"1\" class=\"dataframe\">\n",
              "  <thead>\n",
              "    <tr style=\"text-align: right;\">\n",
              "      <th></th>\n",
              "      <th>id</th>\n",
              "      <th>topic</th>\n",
              "      <th>score</th>\n",
              "      <th>text</th>\n",
              "    </tr>\n",
              "  </thead>\n",
              "  <tbody>\n",
              "    <tr>\n",
              "      <th>0</th>\n",
              "      <td>636404876847656960</td>\n",
              "      <td>seinfeld</td>\n",
              "      <td>1</td>\n",
              "      <td>Stay up late, watch Seinfeld, make Steve drive...</td>\n",
              "    </tr>\n",
              "    <tr>\n",
              "      <th>1</th>\n",
              "      <td>641214034977628160</td>\n",
              "      <td>obama</td>\n",
              "      <td>-1</td>\n",
              "      <td>Y #FireBoehner? He fully funded Obama's #amnes...</td>\n",
              "    </tr>\n",
              "    <tr>\n",
              "      <th>2</th>\n",
              "      <td>640929313005682688</td>\n",
              "      <td>sarah palin</td>\n",
              "      <td>-1</td>\n",
              "      <td>Saturday Night Live is going to have to find a...</td>\n",
              "    </tr>\n",
              "    <tr>\n",
              "      <th>3</th>\n",
              "      <td>625865025585053697</td>\n",
              "      <td>kurt cobain</td>\n",
              "      <td>0</td>\n",
              "      <td>I hate Jon for making me watch the Kurt Cobain...</td>\n",
              "    </tr>\n",
              "    <tr>\n",
              "      <th>4</th>\n",
              "      <td>638976726597406720</td>\n",
              "      <td>nokia</td>\n",
              "      <td>1</td>\n",
              "      <td>OMG. It's the 15th birthday of the Nokia 3310....</td>\n",
              "    </tr>\n",
              "  </tbody>\n",
              "</table>\n",
              "</div>"
            ],
            "text/plain": [
              "                   id  ...                                               text\n",
              "0  636404876847656960  ...  Stay up late, watch Seinfeld, make Steve drive...\n",
              "1  641214034977628160  ...  Y #FireBoehner? He fully funded Obama's #amnes...\n",
              "2  640929313005682688  ...  Saturday Night Live is going to have to find a...\n",
              "3  625865025585053697  ...  I hate Jon for making me watch the Kurt Cobain...\n",
              "4  638976726597406720  ...  OMG. It's the 15th birthday of the Nokia 3310....\n",
              "\n",
              "[5 rows x 4 columns]"
            ]
          },
          "metadata": {
            "tags": []
          },
          "execution_count": 2
        }
      ]
    },
    {
      "cell_type": "code",
      "metadata": {
        "id": "IdhNrrfp6-bp"
      },
      "source": [
        "from nltk.tokenize import word_tokenize\n",
        "\n",
        "TEXT = data.Field(sequential=True, tokenize=word_tokenize, lower=True)\n",
        "ASPECT = data.Field(sequential=False, lower=True)\n",
        "LABEL = data.Field(sequential=False, use_vocab=False)"
      ],
      "execution_count": 4,
      "outputs": []
    },
    {
      "cell_type": "code",
      "metadata": {
        "id": "uq3V9eHLRqFi"
      },
      "source": [
        "train, val, test = data.TabularDataset.splits(path='/content/',\n",
        "                      skip_header=True,\n",
        "                      train='train.tsv',\n",
        "                      validation='val.tsv',\n",
        "                      test='test.tsv',\n",
        "                      format='tsv',\n",
        "                      fields=[('id',LABEL),\n",
        "                          ('topic', ASPECT),\n",
        "                          ('score', LABEL),\n",
        "                          ('text', TEXT)])"
      ],
      "execution_count": 4,
      "outputs": []
    },
    {
      "cell_type": "code",
      "metadata": {
        "id": "rZ_kB7vL_hMs"
      },
      "source": [
        "TEXT.build_vocab(train, val, test, vectors=GloVe(name='6B', dim=300))\n",
        "ASPECT.build_vocab(train, val, test, vectors=GloVe(name='6B', dim=300))\n",
        "LABEL.build_vocab(train, val, test)"
      ],
      "execution_count": 5,
      "outputs": []
    },
    {
      "cell_type": "code",
      "metadata": {
        "colab": {
          "base_uri": "https://localhost:8080/"
        },
        "id": "PxfhxKeJji7o",
        "outputId": "534ebead-7c7b-4280-c3e7-4749a7f7f061"
      },
      "source": [
        "TEXT.vocab.freqs.most_common(10)"
      ],
      "execution_count": 6,
      "outputs": [
        {
          "output_type": "execute_result",
          "data": {
            "text/plain": [
              "[('the', 16721),\n",
              " ('.', 14365),\n",
              " (':', 10298),\n",
              " (',', 9779),\n",
              " ('to', 9161),\n",
              " ('@', 7707),\n",
              " ('i', 7352),\n",
              " ('a', 6119),\n",
              " ('in', 5931),\n",
              " ('!', 5764)]"
            ]
          },
          "metadata": {
            "tags": []
          },
          "execution_count": 6
        }
      ]
    },
    {
      "cell_type": "code",
      "metadata": {
        "colab": {
          "base_uri": "https://localhost:8080/"
        },
        "id": "abqb8-ucUqWo",
        "outputId": "53ae118d-e082-41a6-e91d-c7956c1289b1"
      },
      "source": [
        "print(TEXT.vocab.vectors.shape)\n",
        "print(ASPECT.vocab.vectors.shape)"
      ],
      "execution_count": 7,
      "outputs": [
        {
          "output_type": "stream",
          "text": [
            "torch.Size([40911, 300])\n",
            "torch.Size([177, 300])\n"
          ],
          "name": "stdout"
        }
      ]
    },
    {
      "cell_type": "code",
      "metadata": {
        "id": "odOCXtxAU_Nx"
      },
      "source": [
        "batch_size=64\n",
        "device = torch.device('cuda:0')\n",
        "\n",
        "train_iter = data.Iterator(dataset=train, batch_size=batch_size, shuffle=True, sort_within_batch=False, repeat=False, device=device)\n",
        "val_iter = data.Iterator(dataset=val, batch_size=batch_size, repeat=False, device=device)\n",
        "test_iter = data.Iterator(dataset=test, batch_size=batch_size, repeat=False, device=device)"
      ],
      "execution_count": 8,
      "outputs": []
    },
    {
      "cell_type": "code",
      "metadata": {
        "id": "h4fNNVI2WGn9"
      },
      "source": [
        "text_vocab_size = len(TEXT.vocab)\n",
        "aspect_vocab_size = len(ASPECT.vocab)\n",
        "text_vector=TEXT.vocab.vectors\n",
        "aspect_vector=ASPECT.vocab.vectors"
      ],
      "execution_count": 9,
      "outputs": []
    },
    {
      "cell_type": "code",
      "metadata": {
        "colab": {
          "base_uri": "https://localhost:8080/"
        },
        "id": "gVTJc2LtWMAQ",
        "outputId": "6f55781f-cba7-4c50-8f49-bdd485bd689c"
      },
      "source": [
        "batch = next(iter(train_iter))\n",
        "print(batch.text.shape)#(seq_len,batch_size)\n",
        "print(batch.topic.shape)\n",
        "print(batch.score.shape)"
      ],
      "execution_count": 10,
      "outputs": [
        {
          "output_type": "stream",
          "text": [
            "torch.Size([34, 64])\n",
            "torch.Size([64])\n",
            "torch.Size([64])\n"
          ],
          "name": "stdout"
        }
      ]
    },
    {
      "cell_type": "markdown",
      "metadata": {
        "id": "cJMm840EWmTB"
      },
      "source": [
        "## Model"
      ]
    },
    {
      "cell_type": "code",
      "metadata": {
        "id": "HrPv5oEVWP5K"
      },
      "source": [
        "class ATAE_LSTM(nn.Module):\n",
        "  def __init__(self, embedding_dim, num_hiddens, num_layers):\n",
        "    super(ATAE_LSTM, self).__init__()\n",
        "    self.text_embeddings = nn.Embedding(text_vocab_size, embedding_dim)\n",
        "    self.aspect_embeddings = nn.Embedding(aspect_vocab_size, embedding_dim)\n",
        "    self.text_embeddings = nn.Embedding.from_pretrained(text_vector,freeze=False)\n",
        "    self.aspect_embeddings = nn.Embedding.from_pretrained(aspect_vector,freeze=False)\n",
        "    self.lstm = nn.LSTM(input_size=2 * embedding_dim,\n",
        "              hidden_size=num_hiddens,\n",
        "              num_layers=num_layers,\n",
        "              batch_first=True,\n",
        "              bidirectional=True)\n",
        "    self.wh = nn.Parameter(torch.Tensor(num_hiddens * 2, num_hiddens * 2))\n",
        "    self.wv = nn.Parameter(torch.Tensor(embedding_dim, embedding_dim))\n",
        "    self.omega = nn.Parameter(torch.Tensor(1, embedding_dim*2))\n",
        "    self.wp = nn.Parameter(torch.Tensor(num_hiddens * 2, num_hiddens * 2))\n",
        "    self.wx = nn.Parameter(torch.Tensor(num_hiddens * 2, num_hiddens * 2))\n",
        "    self.ws = nn.Parameter(torch.Tensor(5, num_hiddens * 2))\n",
        "    nn.init.uniform_(self.wh, -0.1, 0.1)\n",
        "    nn.init.uniform_(self.wv, -0.1, 0.1)\n",
        "    nn.init.uniform_(self.omega, -0.1, 0.1)\n",
        "    nn.init.uniform_(self.wp, -0.1, 0.1)\n",
        "    nn.init.uniform_(self.wx, -0.1, 0.1)\n",
        "    nn.init.uniform_(self.ws, -0.1, 0.1)\n",
        "    self.bs = nn.Parameter(torch.zeros((5, 1)))\n",
        "\n",
        "  def forward(self, text, aspect):\n",
        "    seq_len = len(text.t())\n",
        "    e1 = self.text_embeddings(text)\n",
        "    e2 = self.aspect_embeddings(aspect).expand(e1.size())\n",
        "    wv = torch.cat((e1, e2), dim=2)\n",
        "    out, (h, c) = self.lstm(wv)  # output, (h, c)\n",
        "\n",
        "    H = out.permute(0, 2, 1)\n",
        "    #print(H.shape)\n",
        "    #print(self.wh.shape)\n",
        "\n",
        "    Wh_H = torch.matmul(self.wh, H)\n",
        "    #print('Wh_H: ', Wh_H.shape)\n",
        "    Wv_Va_eN = torch.matmul(\n",
        "        self.wv,\n",
        "        self.aspect_embeddings(aspect).permute(0, 2, 1).expand(-1, embedding_dim, seq_len))\n",
        "    #print('Wv_Va_eN: ', Wv_Va_eN.shape)\n",
        "\n",
        "    vh = torch.cat((Wh_H, Wv_Va_eN), dim=1)\n",
        "    #print('vh: ', vh.shape)\n",
        "\n",
        "    M = torch.tanh(vh)\n",
        "    #print('M: ', M.shape)\n",
        "\n",
        "    alpha = F.softmax(torch.matmul(self.omega, M),dim=2)\n",
        "    #print('alpha: ', alpha.shape)\n",
        "\n",
        "    r = torch.matmul(H, alpha.permute(0, 2, 1))\n",
        "    #print('r: ', r.shape)\n",
        "\n",
        "    h_star = torch.tanh(\n",
        "        torch.matmul(self.wp, r) +\n",
        "        torch.matmul(self.wx, torch.unsqueeze(H[:, :, -1], 2)))\n",
        "    #print('h_star: ', h_star.shape)\n",
        "\n",
        "    y = torch.matmul(self.ws, h_star) + self.bs\n",
        "    \n",
        "    y = y.reshape([-1, 5])\n",
        "    #print('y: ', y.shape)\n",
        "\n",
        "    return y"
      ],
      "execution_count": 13,
      "outputs": []
    },
    {
      "cell_type": "code",
      "metadata": {
        "colab": {
          "base_uri": "https://localhost:8080/"
        },
        "id": "ubLGGVR5bPFD",
        "outputId": "efcee7a2-3ca9-4d7c-e602-a3fe789b3d60"
      },
      "source": [
        "embedding_dim, num_hiddens, num_layers = 300, 150, 1\n",
        "net = ATAE_LSTM(embedding_dim, num_hiddens, num_layers)\n",
        "net = net.to(device)\n",
        "print(net)"
      ],
      "execution_count": 14,
      "outputs": [
        {
          "output_type": "stream",
          "text": [
            "ATAE_LSTM(\n",
            "  (text_embeddings): Embedding(40911, 300)\n",
            "  (aspect_embeddings): Embedding(177, 300)\n",
            "  (lstm): LSTM(600, 150, batch_first=True, bidirectional=True)\n",
            ")\n"
          ],
          "name": "stdout"
        }
      ]
    },
    {
      "cell_type": "markdown",
      "metadata": {
        "id": "yT9LupR-bh9h"
      },
      "source": [
        "## Train"
      ]
    },
    {
      "cell_type": "code",
      "metadata": {
        "id": "MpvO5einbRlQ"
      },
      "source": [
        "def evaluate_accuracy(data_iter, net, loss):\n",
        "  acc_sum, n = 0.0, 0\n",
        "  loss_sum = 0\n",
        "  batch_count = 0\n",
        "  with torch.no_grad():\n",
        "    for batch_idx, batch in enumerate(data_iter):\n",
        "      X1, X2, y = batch.text, batch.topic, batch.score.to(device)\n",
        "      X1 = X1.permute(1, 0).to(device)\n",
        "      X2 = X2.unsqueeze(1).to(device)\n",
        "      y.data.add_(2)\n",
        "\n",
        "      if isinstance(net, torch.nn.Module):\n",
        "        net.eval()\n",
        "        y_hat = net(X1,X2)\n",
        "        acc_sum += (y_hat.argmax(dim=1) == y).float().sum().item()\n",
        "        net.train()\n",
        "      else:\n",
        "        if ('is_training' in net.__code__.co_varnames):\n",
        "          yhat = net(X1, X2, is_training=False)\n",
        "          acc_sum += (yhat.argmax(dim=1) == y).float().sum().item()\n",
        "        else:\n",
        "          y_hat = net(X1,X2)\n",
        "          acc_sum += (y_hat.argmax(dim=1) == y).float().sum().item()\n",
        "\n",
        "      n += y.shape[0]\n",
        "      loss_sum += loss(y_hat, y).item()\n",
        "      batch_count += 1\n",
        "  return acc_sum/n, loss_sum/batch_count"
      ],
      "execution_count": 15,
      "outputs": []
    },
    {
      "cell_type": "code",
      "metadata": {
        "id": "7zLVKq6QcBif"
      },
      "source": [
        "def train(train_iter, test_iter, net, loss, optimizer, num_epochs):\n",
        "    history = defaultdict(list)\n",
        "    batch_count = 0\n",
        "    for epoch in range(num_epochs):\n",
        "        train_l_sum, train_acc_sum, n, start = 0.0, 0.0, 0, time.time()\n",
        "        for batch_idx, batch in enumerate(train_iter):\n",
        "            X1, X2, y = batch.text, batch.topic, batch.score.to(device)\n",
        "            X1 = X1.permute(1, 0).to(device)\n",
        "            X2 = X2.unsqueeze(1).to(device)\n",
        "            y.data.add_(2)\n",
        "            y_hat = net(X1,X2)\n",
        "            l = loss(y_hat, y)\n",
        "            optimizer.zero_grad()\n",
        "            l.backward()\n",
        "            optimizer.step()\n",
        "            train_l_sum += l.item()\n",
        "            train_acc_sum += (y_hat.argmax(dim=1) == y).sum().item()\n",
        "            n += y.shape[0]\n",
        "            batch_count += 1\n",
        "        val_acc,val_loss = evaluate_accuracy(test_iter, net, loss)\n",
        "\n",
        "        history['train_acc'].append(train_acc_sum / n)\n",
        "        history['train_loss'].append(train_l_sum / batch_count)\n",
        "        history['val_acc'].append(val_acc)\n",
        "        history['val_loss'].append(val_loss)\n",
        "\n",
        "        print(\n",
        "            'epoch %d, train loss %.4f, train acc %.3f, val loss %.4f, val acc %.3f, time %.1f sec'\n",
        "            % (epoch + 1, train_l_sum / batch_count, train_acc_sum / n,\n",
        "               val_loss,val_acc, time.time() - start))\n",
        "    return history"
      ],
      "execution_count": 16,
      "outputs": []
    },
    {
      "cell_type": "code",
      "metadata": {
        "colab": {
          "base_uri": "https://localhost:8080/"
        },
        "id": "43qAhNkCdDaO",
        "outputId": "ee8e7a6f-6a3f-49f0-c6c1-6d774da57ebe"
      },
      "source": [
        "lr, num_epochs = 0.01, 50\n",
        "optimizer = torch.optim.Adam(net.parameters(), lr=lr)\n",
        "loss = nn.CrossEntropyLoss().to(device)\n",
        "history = train(train_iter, val_iter, net, loss, optimizer, num_epochs)"
      ],
      "execution_count": 17,
      "outputs": [
        {
          "output_type": "stream",
          "text": [
            "epoch 1, train loss 1.2474, train acc 0.511, val loss 1.2310, val acc 0.487, time 3.4 sec\n",
            "epoch 2, train loss 0.5002, train acc 0.586, val loss 1.2431, val acc 0.509, time 3.3 sec\n",
            "epoch 3, train loss 0.2222, train acc 0.753, val loss 1.4823, val acc 0.471, time 3.3 sec\n",
            "epoch 4, train loss 0.0738, train acc 0.902, val loss 1.9174, val acc 0.478, time 3.3 sec\n",
            "epoch 5, train loss 0.0261, train acc 0.958, val loss 2.3464, val acc 0.473, time 3.3 sec\n",
            "epoch 6, train loss 0.0096, train acc 0.981, val loss 2.7779, val acc 0.477, time 3.3 sec\n",
            "epoch 7, train loss 0.0057, train acc 0.986, val loss 3.0308, val acc 0.468, time 3.3 sec\n",
            "epoch 8, train loss 0.0035, train acc 0.991, val loss 2.9816, val acc 0.470, time 3.3 sec\n",
            "epoch 9, train loss 0.0029, train acc 0.992, val loss 3.1321, val acc 0.480, time 3.3 sec\n",
            "epoch 10, train loss 0.0025, train acc 0.992, val loss 3.3045, val acc 0.490, time 3.3 sec\n",
            "epoch 11, train loss 0.0033, train acc 0.989, val loss 3.0245, val acc 0.466, time 3.3 sec\n",
            "epoch 12, train loss 0.0021, train acc 0.991, val loss 3.6226, val acc 0.454, time 3.3 sec\n",
            "epoch 13, train loss 0.0017, train acc 0.993, val loss 3.9267, val acc 0.486, time 3.3 sec\n",
            "epoch 14, train loss 0.0035, train acc 0.986, val loss 3.5157, val acc 0.441, time 3.3 sec\n",
            "epoch 15, train loss 0.0042, train acc 0.982, val loss 3.2764, val acc 0.445, time 3.3 sec\n",
            "epoch 16, train loss 0.0038, train acc 0.984, val loss 3.7241, val acc 0.469, time 3.3 sec\n",
            "epoch 17, train loss 0.0034, train acc 0.985, val loss 3.1520, val acc 0.478, time 3.3 sec\n",
            "epoch 18, train loss 0.0036, train acc 0.982, val loss 3.5781, val acc 0.454, time 3.3 sec\n",
            "epoch 19, train loss 0.0039, train acc 0.980, val loss 4.2084, val acc 0.469, time 3.3 sec\n",
            "epoch 20, train loss 0.0042, train acc 0.976, val loss 4.9737, val acc 0.480, time 3.3 sec\n",
            "epoch 21, train loss 0.0040, train acc 0.979, val loss 2.9869, val acc 0.425, time 3.3 sec\n",
            "epoch 22, train loss 0.0044, train acc 0.976, val loss 4.5933, val acc 0.468, time 3.3 sec\n",
            "epoch 23, train loss 0.0042, train acc 0.972, val loss 5.2498, val acc 0.467, time 3.3 sec\n",
            "epoch 24, train loss 0.0031, train acc 0.983, val loss 4.2381, val acc 0.429, time 3.3 sec\n",
            "epoch 25, train loss 0.0032, train acc 0.979, val loss 5.2358, val acc 0.430, time 3.3 sec\n",
            "epoch 26, train loss 0.0032, train acc 0.980, val loss 4.5751, val acc 0.460, time 3.3 sec\n",
            "epoch 27, train loss 0.0028, train acc 0.981, val loss 4.5089, val acc 0.446, time 3.3 sec\n",
            "epoch 28, train loss 0.0031, train acc 0.979, val loss 4.4760, val acc 0.469, time 3.3 sec\n",
            "epoch 29, train loss 0.0029, train acc 0.979, val loss 4.7052, val acc 0.438, time 3.3 sec\n",
            "epoch 30, train loss 0.0032, train acc 0.978, val loss 4.9088, val acc 0.473, time 3.3 sec\n",
            "epoch 31, train loss 0.0027, train acc 0.980, val loss 5.0202, val acc 0.465, time 3.3 sec\n",
            "epoch 32, train loss 0.0021, train acc 0.983, val loss 5.0883, val acc 0.478, time 3.3 sec\n",
            "epoch 33, train loss 0.0026, train acc 0.979, val loss 5.6641, val acc 0.412, time 3.3 sec\n",
            "epoch 34, train loss 0.0019, train acc 0.985, val loss 4.6738, val acc 0.456, time 3.3 sec\n",
            "epoch 35, train loss 0.0028, train acc 0.976, val loss 4.7083, val acc 0.449, time 3.3 sec\n",
            "epoch 36, train loss 0.0028, train acc 0.977, val loss 4.9137, val acc 0.462, time 3.3 sec\n",
            "epoch 37, train loss 0.0019, train acc 0.981, val loss 6.0320, val acc 0.472, time 3.3 sec\n",
            "epoch 38, train loss 0.0025, train acc 0.979, val loss 5.0333, val acc 0.479, time 3.3 sec\n",
            "epoch 39, train loss 0.0027, train acc 0.975, val loss 5.6763, val acc 0.482, time 3.3 sec\n",
            "epoch 40, train loss 0.0038, train acc 0.969, val loss 4.5460, val acc 0.443, time 3.3 sec\n",
            "epoch 41, train loss 0.0022, train acc 0.977, val loss 5.2371, val acc 0.467, time 3.3 sec\n",
            "epoch 42, train loss 0.0013, train acc 0.985, val loss 5.0677, val acc 0.448, time 3.3 sec\n",
            "epoch 43, train loss 0.0011, train acc 0.988, val loss 6.0637, val acc 0.446, time 3.3 sec\n",
            "epoch 44, train loss 0.0010, train acc 0.990, val loss 5.8806, val acc 0.435, time 3.3 sec\n",
            "epoch 45, train loss 0.0016, train acc 0.984, val loss 7.4040, val acc 0.469, time 3.3 sec\n",
            "epoch 46, train loss 0.0018, train acc 0.982, val loss 5.2172, val acc 0.449, time 3.3 sec\n",
            "epoch 47, train loss 0.0015, train acc 0.984, val loss 6.3596, val acc 0.475, time 3.3 sec\n",
            "epoch 48, train loss 0.0011, train acc 0.986, val loss 6.1432, val acc 0.464, time 3.3 sec\n",
            "epoch 49, train loss 0.0010, train acc 0.989, val loss 5.6094, val acc 0.451, time 3.3 sec\n",
            "epoch 50, train loss 0.0014, train acc 0.986, val loss 5.7800, val acc 0.446, time 3.3 sec\n"
          ],
          "name": "stdout"
        }
      ]
    },
    {
      "cell_type": "code",
      "metadata": {
        "colab": {
          "base_uri": "https://localhost:8080/",
          "height": 296
        },
        "id": "fbcgyHZZ1M32",
        "outputId": "7911a2fd-e5ae-4948-a614-626ae20da867"
      },
      "source": [
        "import numpy as np\n",
        "import matplotlib.pyplot as plt\n",
        "\n",
        "epochNum = np.arange(1,51)\n",
        "train_acc = history['train_acc']\n",
        "val_acc = history['val_acc']\n",
        "plt.plot(epochNum, train_acc, label='Train')\n",
        "plt.plot(epochNum, val_acc, label='Validation')\n",
        "plt.xlabel(\"Epoch\") \n",
        "plt.ylabel(\"Accuracy\") \n",
        "plt.legend()"
      ],
      "execution_count": 19,
      "outputs": [
        {
          "output_type": "execute_result",
          "data": {
            "text/plain": [
              "<matplotlib.legend.Legend at 0x7f40ad79f3d0>"
            ]
          },
          "metadata": {
            "tags": []
          },
          "execution_count": 19
        },
        {
          "output_type": "display_data",
          "data": {
            "image/png": "[encoded data removed]",
            "text/plain": [
              "<Figure size 432x288 with 1 Axes>"
            ]
          },
          "metadata": {
            "tags": [],
            "needs_background": "light"
          }
        }
      ]
    },
    {
      "cell_type": "code",
      "metadata": {
        "colab": {
          "base_uri": "https://localhost:8080/",
          "height": 296
        },
        "id": "irlzEAU91M33",
        "outputId": "7fb2785c-ccaf-40e2-d109-578c36e9e4d0"
      },
      "source": [
        "train_loss = history['train_loss']\n",
        "val_loss = history['val_loss']\n",
        "plt.plot(epochNum, train_loss, label='Train')\n",
        "plt.plot(epochNum, val_loss, label='Validation')\n",
        "plt.xlabel(\"Epoch\") \n",
        "plt.ylabel(\"Loss\") \n",
        "plt.legend()"
      ],
      "execution_count": 20,
      "outputs": [
        {
          "output_type": "execute_result",
          "data": {
            "text/plain": [
              "<matplotlib.legend.Legend at 0x7f40ad94ed10>"
            ]
          },
          "metadata": {
            "tags": []
          },
          "execution_count": 20
        },
        {
          "output_type": "display_data",
          "data": {
            "image/png": "[encoded data removed]",
            "text/plain": [
              "<Figure size 432x288 with 1 Axes>"
            ]
          },
          "metadata": {
            "tags": [],
            "needs_background": "light"
          }
        }
      ]
    },
    {
      "cell_type": "code",
      "metadata": {
        "colab": {
          "base_uri": "https://localhost:8080/"
        },
        "id": "3pIiv8TxdMDe",
        "outputId": "d7fd1125-8ed9-417c-88c4-13fc6bb2e7ac"
      },
      "source": [
        "test_acc,_ = evaluate_accuracy(test_iter, net, loss)\n",
        "print(test_acc)"
      ],
      "execution_count": 27,
      "outputs": [
        {
          "output_type": "stream",
          "text": [
            "0.39267057783492726\n"
          ],
          "name": "stdout"
        }
      ]
    },
    {
      "cell_type": "markdown",
      "metadata": {
        "id": "aX51zpyEul9e"
      },
      "source": [
        "## Experiment with merge data"
      ]
    },
    {
      "cell_type": "code",
      "metadata": {
        "id": "Xaz4x_vdoV75"
      },
      "source": [
        "train, val, test = data.TabularDataset.splits(path='/content/',\n",
        "                      skip_header=True,\n",
        "                      train='merge_train.tsv',\n",
        "                      validation='merge_val.tsv',\n",
        "                      test='merge_test.tsv',\n",
        "                      format='tsv',\n",
        "                      fields=[('id',LABEL),\n",
        "                          ('topic', ASPECT),\n",
        "                          ('score', LABEL),\n",
        "                          ('text', TEXT)])"
      ],
      "execution_count": 5,
      "outputs": []
    },
    {
      "cell_type": "code",
      "metadata": {
        "id": "jcr533TzvEp7"
      },
      "source": [
        "TEXT.build_vocab(train, val, test, vectors=GloVe(name='6B', dim=300))\n",
        "ASPECT.build_vocab(train, val, test, vectors=GloVe(name='6B', dim=300))\n",
        "LABEL.build_vocab(train, val, test)"
      ],
      "execution_count": 6,
      "outputs": []
    },
    {
      "cell_type": "code",
      "metadata": {
        "colab": {
          "base_uri": "https://localhost:8080/"
        },
        "id": "W57S6dWnvQkC",
        "outputId": "95c2acb5-7042-46d1-dc98-20eb3d983c43"
      },
      "source": [
        "TEXT.vocab.freqs.most_common(10)"
      ],
      "execution_count": 7,
      "outputs": [
        {
          "output_type": "execute_result",
          "data": {
            "text/plain": [
              "[('the', 16721),\n",
              " ('.', 14365),\n",
              " (':', 10298),\n",
              " (',', 9779),\n",
              " ('to', 9161),\n",
              " ('@', 7707),\n",
              " ('i', 7352),\n",
              " ('a', 6119),\n",
              " ('in', 5931),\n",
              " ('!', 5764)]"
            ]
          },
          "metadata": {
            "tags": []
          },
          "execution_count": 7
        }
      ]
    },
    {
      "cell_type": "code",
      "metadata": {
        "colab": {
          "base_uri": "https://localhost:8080/"
        },
        "id": "wlqjhsvGvQkD",
        "outputId": "60add06d-93bf-49d9-8d10-701617dcba12"
      },
      "source": [
        "print(TEXT.vocab.vectors.shape)\n",
        "print(ASPECT.vocab.vectors.shape)"
      ],
      "execution_count": 8,
      "outputs": [
        {
          "output_type": "stream",
          "text": [
            "torch.Size([40911, 300])\n",
            "torch.Size([177, 300])\n"
          ],
          "name": "stdout"
        }
      ]
    },
    {
      "cell_type": "code",
      "metadata": {
        "id": "8gwlOdPhvQkD"
      },
      "source": [
        "batch_size=64\n",
        "device = torch.device('cuda:0')\n",
        "\n",
        "train_iter = data.Iterator(dataset=train, batch_size=batch_size, shuffle=True, sort_within_batch=False, repeat=False, device=device)\n",
        "val_iter = data.Iterator(dataset=val, batch_size=batch_size, repeat=False, device=device)\n",
        "test_iter = data.Iterator(dataset=test, batch_size=batch_size, repeat=False, device=device)"
      ],
      "execution_count": 9,
      "outputs": []
    },
    {
      "cell_type": "code",
      "metadata": {
        "id": "ZP4F1XYHvQkE"
      },
      "source": [
        "text_vocab_size = len(TEXT.vocab)\n",
        "aspect_vocab_size = len(ASPECT.vocab)\n",
        "text_vector=TEXT.vocab.vectors\n",
        "aspect_vector=ASPECT.vocab.vectors"
      ],
      "execution_count": 10,
      "outputs": []
    },
    {
      "cell_type": "code",
      "metadata": {
        "colab": {
          "base_uri": "https://localhost:8080/"
        },
        "id": "F4IjqACcvQkE",
        "outputId": "797038cf-2134-4ee8-ef89-5970cc06aeff"
      },
      "source": [
        "batch = next(iter(train_iter))\n",
        "print(batch.text.shape)#(seq_len,batch_size)\n",
        "print(batch.topic.shape)\n",
        "print(batch.score.shape)"
      ],
      "execution_count": 11,
      "outputs": [
        {
          "output_type": "stream",
          "text": [
            "torch.Size([37, 64])\n",
            "torch.Size([64])\n",
            "torch.Size([64])\n"
          ],
          "name": "stdout"
        }
      ]
    },
    {
      "cell_type": "code",
      "metadata": {
        "colab": {
          "base_uri": "https://localhost:8080/"
        },
        "id": "BpMgF5ZvvYIC",
        "outputId": "79b686fa-974d-4c05-800f-373511ab6440"
      },
      "source": [
        "lr, num_epochs = 0.01, 50\n",
        "optimizer = torch.optim.Adam(net.parameters(), lr=lr)\n",
        "loss = nn.CrossEntropyLoss().to(device)\n",
        "history = train(train_iter, val_iter, net, loss, optimizer, num_epochs)"
      ],
      "execution_count": 17,
      "outputs": [
        {
          "output_type": "stream",
          "text": [
            "epoch 1, train loss 1.0732, train acc 0.527, val loss 1.0396, val acc 0.506, time 9.2 sec\n",
            "epoch 2, train loss 0.5118, train acc 0.550, val loss 1.0338, val acc 0.549, time 9.0 sec\n",
            "epoch 3, train loss 0.3464, train acc 0.549, val loss 1.1392, val acc 0.543, time 9.0 sec\n",
            "epoch 4, train loss 0.2594, train acc 0.582, val loss 1.0861, val acc 0.516, time 9.0 sec\n",
            "epoch 5, train loss 0.2038, train acc 0.587, val loss 1.1826, val acc 0.535, time 9.0 sec\n",
            "epoch 6, train loss 0.1657, train acc 0.613, val loss 1.2531, val acc 0.557, time 9.0 sec\n",
            "epoch 7, train loss 0.1360, train acc 0.627, val loss 1.1890, val acc 0.534, time 9.0 sec\n",
            "epoch 8, train loss 0.1159, train acc 0.642, val loss 1.1443, val acc 0.531, time 9.0 sec\n",
            "epoch 9, train loss 0.0999, train acc 0.654, val loss 1.1866, val acc 0.535, time 9.0 sec\n",
            "epoch 10, train loss 0.0898, train acc 0.655, val loss 1.1451, val acc 0.528, time 9.0 sec\n",
            "epoch 11, train loss 0.0791, train acc 0.666, val loss 1.2951, val acc 0.496, time 9.0 sec\n",
            "epoch 12, train loss 0.0721, train acc 0.673, val loss 1.1402, val acc 0.512, time 9.0 sec\n",
            "epoch 13, train loss 0.0644, train acc 0.676, val loss 1.3181, val acc 0.503, time 9.0 sec\n",
            "epoch 14, train loss 0.0604, train acc 0.673, val loss 1.2803, val acc 0.511, time 9.0 sec\n",
            "epoch 15, train loss 0.0549, train acc 0.683, val loss 1.2818, val acc 0.521, time 9.0 sec\n",
            "epoch 16, train loss 0.0516, train acc 0.686, val loss 1.3412, val acc 0.498, time 9.0 sec\n",
            "epoch 17, train loss 0.0479, train acc 0.685, val loss 1.3000, val acc 0.527, time 9.0 sec\n",
            "epoch 18, train loss 0.0446, train acc 0.690, val loss 1.2829, val acc 0.522, time 9.0 sec\n",
            "epoch 19, train loss 0.0422, train acc 0.694, val loss 1.3476, val acc 0.534, time 9.0 sec\n",
            "epoch 20, train loss 0.0400, train acc 0.690, val loss 1.3431, val acc 0.520, time 9.0 sec\n",
            "epoch 21, train loss 0.0379, train acc 0.696, val loss 1.3783, val acc 0.502, time 9.0 sec\n",
            "epoch 22, train loss 0.0362, train acc 0.693, val loss 1.2558, val acc 0.516, time 9.0 sec\n",
            "epoch 23, train loss 0.0339, train acc 0.702, val loss 1.6083, val acc 0.492, time 9.0 sec\n",
            "epoch 24, train loss 0.0329, train acc 0.700, val loss 1.4593, val acc 0.471, time 9.0 sec\n",
            "epoch 25, train loss 0.0310, train acc 0.704, val loss 1.3189, val acc 0.535, time 9.0 sec\n",
            "epoch 26, train loss 0.0297, train acc 0.703, val loss 1.4552, val acc 0.494, time 9.0 sec\n",
            "epoch 27, train loss 0.0290, train acc 0.704, val loss 1.4249, val acc 0.497, time 9.0 sec\n",
            "epoch 28, train loss 0.0276, train acc 0.705, val loss 1.4902, val acc 0.513, time 9.0 sec\n",
            "epoch 29, train loss 0.0267, train acc 0.705, val loss 1.3193, val acc 0.491, time 9.0 sec\n",
            "epoch 30, train loss 0.0259, train acc 0.705, val loss 1.3674, val acc 0.515, time 9.0 sec\n",
            "epoch 31, train loss 0.0248, train acc 0.703, val loss 1.3952, val acc 0.505, time 9.0 sec\n",
            "epoch 32, train loss 0.0238, train acc 0.709, val loss 1.7835, val acc 0.477, time 9.0 sec\n",
            "epoch 33, train loss 0.0232, train acc 0.712, val loss 1.4222, val acc 0.486, time 9.0 sec\n",
            "epoch 34, train loss 0.0229, train acc 0.707, val loss 1.3541, val acc 0.526, time 9.0 sec\n",
            "epoch 35, train loss 0.0216, train acc 0.711, val loss 1.4696, val acc 0.470, time 9.0 sec\n",
            "epoch 36, train loss 0.0207, train acc 0.713, val loss 1.4022, val acc 0.519, time 9.0 sec\n",
            "epoch 37, train loss 0.0208, train acc 0.710, val loss 1.5248, val acc 0.481, time 9.0 sec\n",
            "epoch 38, train loss 0.0200, train acc 0.711, val loss 1.3877, val acc 0.523, time 9.0 sec\n",
            "epoch 39, train loss 0.0195, train acc 0.707, val loss 1.3590, val acc 0.499, time 9.0 sec\n",
            "epoch 40, train loss 0.0189, train acc 0.711, val loss 1.5841, val acc 0.529, time 9.0 sec\n",
            "epoch 41, train loss 0.0183, train acc 0.717, val loss 1.5296, val acc 0.511, time 9.0 sec\n",
            "epoch 42, train loss 0.0180, train acc 0.711, val loss 1.3244, val acc 0.519, time 9.0 sec\n",
            "epoch 43, train loss 0.0180, train acc 0.710, val loss 1.5098, val acc 0.512, time 9.0 sec\n",
            "epoch 44, train loss 0.0175, train acc 0.709, val loss 1.4809, val acc 0.504, time 9.0 sec\n",
            "epoch 45, train loss 0.0172, train acc 0.708, val loss 1.4129, val acc 0.475, time 9.0 sec\n",
            "epoch 46, train loss 0.0165, train acc 0.710, val loss 1.3007, val acc 0.517, time 9.0 sec\n",
            "epoch 47, train loss 0.0160, train acc 0.717, val loss 1.4910, val acc 0.496, time 9.0 sec\n",
            "epoch 48, train loss 0.0160, train acc 0.707, val loss 1.5419, val acc 0.463, time 9.0 sec\n",
            "epoch 49, train loss 0.0154, train acc 0.712, val loss 1.4272, val acc 0.457, time 9.0 sec\n",
            "epoch 50, train loss 0.0151, train acc 0.711, val loss 1.3578, val acc 0.495, time 9.0 sec\n"
          ],
          "name": "stdout"
        }
      ]
    },
    {
      "cell_type": "code",
      "metadata": {
        "colab": {
          "base_uri": "https://localhost:8080/",
          "height": 296
        },
        "id": "kGqyjz1L04em",
        "outputId": "a7510580-e342-46f1-eaea-2474478e317b"
      },
      "source": [
        "import matplotlib.pyplot as plt\n",
        "\n",
        "epochNum = np.arange(1,51)\n",
        "train_acc = history['train_acc']\n",
        "val_acc = history['val_acc']\n",
        "plt.plot(epochNum, train_acc, label='Train')\n",
        "plt.plot(epochNum, val_acc, label='Validation')\n",
        "plt.xlabel(\"Epoch\") \n",
        "plt.ylabel(\"Accuracy\") \n",
        "plt.legend()"
      ],
      "execution_count": 18,
      "outputs": [
        {
          "output_type": "execute_result",
          "data": {
            "text/plain": [
              "<matplotlib.legend.Legend at 0x7f1fda4a79d0>"
            ]
          },
          "metadata": {
            "tags": []
          },
          "execution_count": 18
        },
        {
          "output_type": "display_data",
          "data": {
            "image/png": "[encoded data removed]",
            "text/plain": [
              "<Figure size 432x288 with 1 Axes>"
            ]
          },
          "metadata": {
            "tags": [],
            "needs_background": "light"
          }
        }
      ]
    },
    {
      "cell_type": "code",
      "metadata": {
        "colab": {
          "base_uri": "https://localhost:8080/",
          "height": 296
        },
        "id": "tG2T2K-x06pm",
        "outputId": "d24b3904-8515-440e-94cd-0016a231c080"
      },
      "source": [
        "train_loss = history['train_loss']\n",
        "val_loss = history['val_loss']\n",
        "plt.plot(epochNum, train_loss, label='Train')\n",
        "plt.plot(epochNum, val_loss, label='Validation')\n",
        "plt.xlabel(\"Epoch\") \n",
        "plt.ylabel(\"Loss\") \n",
        "plt.legend()"
      ],
      "execution_count": 19,
      "outputs": [
        {
          "output_type": "execute_result",
          "data": {
            "text/plain": [
              "<matplotlib.legend.Legend at 0x7f1fda2b2110>"
            ]
          },
          "metadata": {
            "tags": []
          },
          "execution_count": 19
        },
        {
          "output_type": "display_data",
          "data": {
            "image/png": "[encoded data removed]",
            "text/plain": [
              "<Figure size 432x288 with 1 Axes>"
            ]
          },
          "metadata": {
            "tags": [],
            "needs_background": "light"
          }
        }
      ]
    },
    {
      "cell_type": "code",
      "metadata": {
        "colab": {
          "base_uri": "https://localhost:8080/"
        },
        "id": "4T2urEsPvYrC",
        "outputId": "7cb50493-1d98-4918-fbda-dfd509ab0024"
      },
      "source": [
        "test_acc,_ = evaluate_accuracy(test_iter, net, loss)\n",
        "print(test_acc)"
      ],
      "execution_count": 21,
      "outputs": [
        {
          "output_type": "stream",
          "text": [
            "0.4922027290448343\n"
          ],
          "name": "stdout"
        }
      ]
    },
    {
      "cell_type": "code",
      "metadata": {
        "id": "Y1GZdUjR6H7t"
      },
      "source": [
        ""
      ],
      "execution_count": null,
      "outputs": []
    }
  ]
}