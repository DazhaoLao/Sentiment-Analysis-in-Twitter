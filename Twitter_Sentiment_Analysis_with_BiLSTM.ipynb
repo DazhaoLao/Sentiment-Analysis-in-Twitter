{
  "nbformat": 4,
  "nbformat_minor": 0,
  "metadata": {
    "kernelspec": {
      "display_name": "Python 3",
      "language": "python",
      "name": "python3"
    },
    "language_info": {
      "codemirror_mode": {
        "name": "ipython",
        "version": 3
      },
      "file_extension": ".py",
      "mimetype": "text/x-python",
      "name": "python",
      "nbconvert_exporter": "python",
      "pygments_lexer": "ipython3",
      "version": "3.7.1"
    },
    "colab": {
      "name": "Twitter_Sentiment_Analysis_with_BiLSTM.ipynb",
      "provenance": [],
      "collapsed_sections": [],
      "toc_visible": true
    }
  },
  "cells": [
    {
      "cell_type": "markdown",
      "metadata": {
        "id": "YanGUGBOLg0X"
      },
      "source": [
        "## 1. Import Data\n"
      ]
    },
    {
      "cell_type": "code",
      "metadata": {
        "id": "ABg5n1D4Lg0X",
        "colab": {
          "base_uri": "https://localhost:8080/"
        },
        "outputId": "0c67f50b-01c4-4488-d9ec-1d41c9ee29c5"
      },
      "source": [
        "import pandas as pd\n",
        "import numpy as np\n",
        "\n",
        "# text preprocessing\n",
        "from nltk.tokenize import word_tokenize\n",
        "import nltk\n",
        "nltk.download('punkt')\n",
        "\n",
        "import re\n",
        "\n",
        "# plots and metrics\n",
        "import matplotlib.pyplot as plt\n",
        "from sklearn.metrics import accuracy_score, f1_score, confusion_matrix\n",
        "\n",
        "# preparing input to our model\n",
        "from keras.preprocessing.text import Tokenizer\n",
        "from keras.preprocessing.sequence import pad_sequences\n",
        "from keras.utils import to_categorical\n",
        "\n",
        "# keras layers\n",
        "from keras.models import Sequential\n",
        "from keras.layers import Embedding, Bidirectional, LSTM, GRU, Dense"
      ],
      "execution_count": 1,
      "outputs": [
        {
          "output_type": "stream",
          "text": [
            "[nltk_data] Downloading package punkt to /root/nltk_data...\n",
            "[nltk_data]   Package punkt is already up-to-date!\n"
          ],
          "name": "stdout"
        }
      ]
    },
    {
      "cell_type": "markdown",
      "metadata": {
        "id": "mqUmDGO7Lg0Y"
      },
      "source": [
        "Defining vector space dimension and fixed input size"
      ]
    },
    {
      "cell_type": "code",
      "metadata": {
        "id": "i_jMSi2ELg0Y"
      },
      "source": [
        "num_classes = 5\n",
        "# Number of dimensions for word embedding\n",
        "embed_num_dims = 300\n",
        "# Max input length (max number of words) \n",
        "max_seq_len = 64\n",
        "\n",
        "class_names = [-2, -1, 0, 1, 2]"
      ],
      "execution_count": 2,
      "outputs": []
    },
    {
      "cell_type": "markdown",
      "metadata": {
        "id": "x87uLRQpLg0Z"
      },
      "source": [
        "Importing training and testing datasets"
      ]
    },
    {
      "cell_type": "code",
      "metadata": {
        "colab": {
          "base_uri": "https://localhost:8080/",
          "height": 249
        },
        "id": "au8kZ5IvMNvM",
        "outputId": "56b50dcd-f169-47ce-ca48-3beda5acf2c6"
      },
      "source": [
        "import pandas as pd\n",
        "\n",
        "df_train = pd.read_table(\"/content/twitter-2016train-CE.txt\",sep='\\t|\\n',names=['id','topic','score','text'])\n",
        "df_dev = pd.read_table(\"/content/twitter-2016dev-CE.txt\",sep='\\t|\\n',names=['id','topic','score','text'])\n",
        "df_val = pd.read_table(\"/content/twitter-2016devtest-CE.txt\",sep='\\t|\\n',names=['id','topic','score','text'])\n",
        "df_test = pd.read_table(\"/content/twitter-2016test-CE.txt\",sep='\\t|\\n',names=['id','topic','score','text'])\n",
        "# merge train and dev\n",
        "df_train = pd.concat([df_train,df_dev],axis=0,ignore_index=True)\n",
        "df_train = df_train.sample(frac=1, random_state=5)\n",
        "\n",
        "df_train = df_train[~df_train['text'].isin(['Not Available'])]\n",
        "df_val = df_val[~df_val['text'].isin(['Not Available'])]\n",
        "df_test = df_test[~df_test['text'].isin(['Not Available'])]\n",
        "\n",
        "df_train.head()"
      ],
      "execution_count": 3,
      "outputs": [
        {
          "output_type": "stream",
          "text": [
            "/usr/local/lib/python3.7/dist-packages/pandas/io/parsers.py:767: ParserWarning: Falling back to the 'python' engine because the 'c' engine does not support regex separators (separators > 1 char and different from '\\s+' are interpreted as regex); you can avoid this warning by specifying engine='python'.\n",
            "  return read_csv(**locals())\n"
          ],
          "name": "stderr"
        },
        {
          "output_type": "execute_result",
          "data": {
            "text/html": [
              "<div>\n",
              "<style scoped>\n",
              "    .dataframe tbody tr th:only-of-type {\n",
              "        vertical-align: middle;\n",
              "    }\n",
              "\n",
              "    .dataframe tbody tr th {\n",
              "        vertical-align: top;\n",
              "    }\n",
              "\n",
              "    .dataframe thead th {\n",
              "        text-align: right;\n",
              "    }\n",
              "</style>\n",
              "<table border=\"1\" class=\"dataframe\">\n",
              "  <thead>\n",
              "    <tr style=\"text-align: right;\">\n",
              "      <th></th>\n",
              "      <th>id</th>\n",
              "      <th>topic</th>\n",
              "      <th>score</th>\n",
              "      <th>text</th>\n",
              "    </tr>\n",
              "  </thead>\n",
              "  <tbody>\n",
              "    <tr>\n",
              "      <th>7764</th>\n",
              "      <td>636404876847656960</td>\n",
              "      <td>seinfeld</td>\n",
              "      <td>1</td>\n",
              "      <td>Stay up late, watch Seinfeld, make Steve drive...</td>\n",
              "    </tr>\n",
              "    <tr>\n",
              "      <th>6812</th>\n",
              "      <td>641214034977628160</td>\n",
              "      <td>obama</td>\n",
              "      <td>-1</td>\n",
              "      <td>Y #FireBoehner? He fully funded Obama's #amnes...</td>\n",
              "    </tr>\n",
              "    <tr>\n",
              "      <th>7583</th>\n",
              "      <td>640929313005682688</td>\n",
              "      <td>sarah palin</td>\n",
              "      <td>-1</td>\n",
              "      <td>Saturday Night Live is going to have to find a...</td>\n",
              "    </tr>\n",
              "    <tr>\n",
              "      <th>5223</th>\n",
              "      <td>625865025585053697</td>\n",
              "      <td>kurt cobain</td>\n",
              "      <td>0</td>\n",
              "      <td>I hate Jon for making me watch the Kurt Cobain...</td>\n",
              "    </tr>\n",
              "    <tr>\n",
              "      <th>6772</th>\n",
              "      <td>638976726597406720</td>\n",
              "      <td>nokia</td>\n",
              "      <td>1</td>\n",
              "      <td>OMG. It's the 15th birthday of the Nokia 3310....</td>\n",
              "    </tr>\n",
              "  </tbody>\n",
              "</table>\n",
              "</div>"
            ],
            "text/plain": [
              "                      id  ...                                               text\n",
              "7764  636404876847656960  ...  Stay up late, watch Seinfeld, make Steve drive...\n",
              "6812  641214034977628160  ...  Y #FireBoehner? He fully funded Obama's #amnes...\n",
              "7583  640929313005682688  ...  Saturday Night Live is going to have to find a...\n",
              "5223  625865025585053697  ...  I hate Jon for making me watch the Kurt Cobain...\n",
              "6772  638976726597406720  ...  OMG. It's the 15th birthday of the Nokia 3310....\n",
              "\n",
              "[5 rows x 4 columns]"
            ]
          },
          "metadata": {
            "tags": []
          },
          "execution_count": 3
        }
      ]
    },
    {
      "cell_type": "code",
      "metadata": {
        "id": "wl3xYkjRLg0Z"
      },
      "source": [
        "X_train = df_train.text\n",
        "X_val = df_val.text\n",
        "X_test = df_test.text\n",
        "\n",
        "y_train = df_train.score\n",
        "y_val = df_val.score\n",
        "y_test = df_test.score\n",
        "\n",
        "data = df_train.append(df_val, ignore_index=True)\n",
        "data = data.append(df_test, ignore_index=True)"
      ],
      "execution_count": 4,
      "outputs": []
    },
    {
      "cell_type": "markdown",
      "metadata": {
        "id": "1aKXsMDBLg0b"
      },
      "source": [
        "## Prepare input data"
      ]
    },
    {
      "cell_type": "code",
      "metadata": {
        "id": "7_mWm2qNLg0b"
      },
      "source": [
        "def clean_text(data):\n",
        "    \n",
        "    # remove hashtags and @usernames\n",
        "    data = re.sub(r\"(#[\\d\\w\\.]+)\", '', data)\n",
        "    data = re.sub(r\"(@[\\d\\w\\.]+)\", '', data)\n",
        "    \n",
        "    # tekenization using nltk\n",
        "    data = word_tokenize(data)\n",
        "    \n",
        "    return data"
      ],
      "execution_count": 5,
      "outputs": []
    },
    {
      "cell_type": "code",
      "metadata": {
        "id": "cwEzHsgOLg0c"
      },
      "source": [
        "texts = [' '.join(clean_text(text)) for text in data.text]\n",
        "\n",
        "texts_train = [' '.join(clean_text(text)) for text in X_train]\n",
        "texts_val = [' '.join(clean_text(text)) for text in X_val]\n",
        "texts_test = [' '.join(clean_text(text)) for text in X_test]"
      ],
      "execution_count": 6,
      "outputs": []
    },
    {
      "cell_type": "code",
      "metadata": {
        "id": "93aVKMh_Lg0c",
        "colab": {
          "base_uri": "https://localhost:8080/"
        },
        "outputId": "e978b20a-f1eb-4800-e987-46ffcedb8173"
      },
      "source": [
        "print(texts_train[92])"
      ],
      "execution_count": 7,
      "outputs": [
        {
          "output_type": "stream",
          "text": [
            "Keep in mind , Hillary 's initial refusal to apologize was n't off the cuff . It came after months of scrutiny . https : //t.co/GiraU5N5Fh\n"
          ],
          "name": "stdout"
        }
      ]
    },
    {
      "cell_type": "markdown",
      "metadata": {
        "id": "Uq08oVv7Lg0d"
      },
      "source": [
        "**Tokenization + fitting using keras**"
      ]
    },
    {
      "cell_type": "code",
      "metadata": {
        "id": "EMgUz9gcLg0d",
        "colab": {
          "base_uri": "https://localhost:8080/"
        },
        "outputId": "d36a4055-b687-41de-dc60-bcb7de208a4d"
      },
      "source": [
        "tokenizer = Tokenizer()\n",
        "tokenizer.fit_on_texts(texts)\n",
        "\n",
        "sequence_train = tokenizer.texts_to_sequences(texts_train)\n",
        "sequence_val = tokenizer.texts_to_sequences(texts_val)\n",
        "sequence_test = tokenizer.texts_to_sequences(texts_test)\n",
        "\n",
        "index_of_words = tokenizer.word_index\n",
        "\n",
        "# vacab size is number of unique words + reserved 0 index for padding\n",
        "vocab_size = len(index_of_words) + 1\n",
        "\n",
        "print('Number of unique words: {}'.format(len(index_of_words)))"
      ],
      "execution_count": 8,
      "outputs": [
        {
          "output_type": "stream",
          "text": [
            "Number of unique words: 29935\n"
          ],
          "name": "stdout"
        }
      ]
    },
    {
      "cell_type": "markdown",
      "metadata": {
        "id": "EvLvFXsLLg0d"
      },
      "source": [
        "**Padding** -> each input has the same length\n",
        "\n",
        "We defined maximun number of words for our texts and input size to our model has to be fixed - padding with zeros to keep the same input lenght (longest input in dataset is ~64 words)"
      ]
    },
    {
      "cell_type": "code",
      "metadata": {
        "id": "-ezLmMTCLg0e",
        "colab": {
          "base_uri": "https://localhost:8080/"
        },
        "outputId": "40446f7a-ed0d-4568-f75d-af259588176d"
      },
      "source": [
        "X_train_pad = pad_sequences(sequence_train, maxlen = max_seq_len )\n",
        "X_val_pad = pad_sequences(sequence_val, maxlen = max_seq_len )\n",
        "X_test_pad = pad_sequences(sequence_test, maxlen = max_seq_len )\n",
        "\n",
        "X_train_pad"
      ],
      "execution_count": 9,
      "outputs": [
        {
          "output_type": "execute_result",
          "data": {
            "text/plain": [
              "array([[    0,     0,     0, ...,  1611,   918,    20],\n",
              "       [    0,     0,     0, ...,     2,   451,  5374],\n",
              "       [    0,     0,     0, ...,   175,   111,    72],\n",
              "       ...,\n",
              "       [    0,     0,     0, ...,     4,     5, 17704],\n",
              "       [    0,     0,     0, ...,   518,   232,  2540],\n",
              "       [    0,     0,     0, ...,     4,     5, 17705]], dtype=int32)"
            ]
          },
          "metadata": {
            "tags": []
          },
          "execution_count": 9
        }
      ]
    },
    {
      "cell_type": "markdown",
      "metadata": {
        "id": "wTfjLb9pLg0e"
      },
      "source": [
        "**Categorize** labels: "
      ]
    },
    {
      "cell_type": "code",
      "metadata": {
        "id": "vM-KWlycLg0e"
      },
      "source": [
        "encoding = {\n",
        "    -2 : 0,\n",
        "    -1 : 1,\n",
        "    0 : 2,\n",
        "    1 : 3,\n",
        "    2 : 4\n",
        "}\n",
        "\n",
        "# Integer labels\n",
        "y_train = [encoding[x] for x in y_train]\n",
        "y_val = [encoding[x] for x in y_val]\n",
        "y_test = [encoding[x] for x in y_test]"
      ],
      "execution_count": 10,
      "outputs": []
    },
    {
      "cell_type": "code",
      "metadata": {
        "id": "Y62EL3lCLg0f",
        "colab": {
          "base_uri": "https://localhost:8080/"
        },
        "outputId": "46333d7c-e8ae-4683-efb2-7e72509c614f"
      },
      "source": [
        "y_train = to_categorical(y_train)\n",
        "y_val = to_categorical(y_val)\n",
        "y_test = to_categorical(y_test)\n",
        "\n",
        "y_train"
      ],
      "execution_count": 11,
      "outputs": [
        {
          "output_type": "execute_result",
          "data": {
            "text/plain": [
              "array([[0., 0., 0., 1., 0.],\n",
              "       [0., 1., 0., 0., 0.],\n",
              "       [0., 1., 0., 0., 0.],\n",
              "       ...,\n",
              "       [0., 0., 0., 1., 0.],\n",
              "       [0., 0., 0., 1., 0.],\n",
              "       [0., 0., 0., 1., 0.]], dtype=float32)"
            ]
          },
          "metadata": {
            "tags": []
          },
          "execution_count": 11
        }
      ]
    },
    {
      "cell_type": "markdown",
      "metadata": {
        "id": "iBwz72J6Lg0f"
      },
      "source": [
        "## Import pretrained word vectors"
      ]
    },
    {
      "cell_type": "markdown",
      "metadata": {
        "id": "0BnVQBPoLg0f"
      },
      "source": [
        "* Importing pretrained word2vec from file and creating embedding matrix\n",
        "* We will later map each word in our corpus to existing word vector"
      ]
    },
    {
      "cell_type": "code",
      "metadata": {
        "id": "VkOITHtTLg0g"
      },
      "source": [
        "def create_embedding_matrix(filepath, word_index, embedding_dim):\n",
        "    vocab_size = len(word_index) + 1  # Adding again 1 because of reserved 0 index\n",
        "    embedding_matrix = np.zeros((vocab_size, embedding_dim))\n",
        "    with open(filepath) as f:\n",
        "        for line in f:\n",
        "            word, *vector = line.split()\n",
        "            if word in word_index:\n",
        "                idx = word_index[word] \n",
        "                embedding_matrix[idx] = np.array(\n",
        "                    vector, dtype=np.float32)[:embedding_dim]\n",
        "    return embedding_matrix"
      ],
      "execution_count": 12,
      "outputs": []
    },
    {
      "cell_type": "code",
      "metadata": {
        "id": "TJ8wnRM4Lg0h"
      },
      "source": [
        "import urllib.request\n",
        "import zipfile\n",
        "import os\n",
        "\n",
        "fname = 'embeddings/wiki-news-300d-1M.vec'\n",
        "\n",
        "if not os.path.isfile(fname):\n",
        "    print('Downloading word vectors...')\n",
        "    urllib.request.urlretrieve('https://dl.fbaipublicfiles.com/fasttext/vectors-english/wiki-news-300d-1M.vec.zip',\n",
        "                              'wiki-news-300d-1M.vec.zip')\n",
        "    print('Unzipping...')\n",
        "    with zipfile.ZipFile('wiki-news-300d-1M.vec.zip', 'r') as zip_ref:\n",
        "        zip_ref.extractall('embeddings')\n",
        "    print('done.')\n",
        "    \n",
        "    os.remove('wiki-news-300d-1M.vec.zip')"
      ],
      "execution_count": 13,
      "outputs": []
    },
    {
      "cell_type": "code",
      "metadata": {
        "id": "431XyTZ8Lg0h",
        "colab": {
          "base_uri": "https://localhost:8080/"
        },
        "outputId": "46c39dc2-78f6-4346-ac2b-6bed961669f4"
      },
      "source": [
        "embedd_matrix = create_embedding_matrix(fname, index_of_words, embed_num_dims)\n",
        "embedd_matrix.shape"
      ],
      "execution_count": 14,
      "outputs": [
        {
          "output_type": "execute_result",
          "data": {
            "text/plain": [
              "(29936, 300)"
            ]
          },
          "metadata": {
            "tags": []
          },
          "execution_count": 14
        }
      ]
    },
    {
      "cell_type": "markdown",
      "metadata": {
        "id": "PLAYuZ4lLg0i"
      },
      "source": [
        "Some of the words from our corpus were not included in the pre-trained word vectors. If we inspect those words we'll see that it's mostly spelling errors. It's also good to double check the noise in our data f.e different languages or tokenizer errors."
      ]
    },
    {
      "cell_type": "code",
      "metadata": {
        "scrolled": true,
        "id": "y6PJXJCtLg0i",
        "colab": {
          "base_uri": "https://localhost:8080/"
        },
        "outputId": "332427f9-a4d1-465b-a9d3-b8454b512301"
      },
      "source": [
        "# Inspect unseen words\n",
        "new_words = 0\n",
        "\n",
        "for word in index_of_words:\n",
        "    entry = embedd_matrix[index_of_words[word]]\n",
        "    if all(v == 0 for v in entry):\n",
        "        new_words = new_words + 1\n",
        "\n",
        "print('Words found in wiki vocab: ' + str(len(index_of_words) - new_words))\n",
        "print('New words found: ' + str(new_words))"
      ],
      "execution_count": 15,
      "outputs": [
        {
          "output_type": "stream",
          "text": [
            "Words found in wiki vocab: 19159\n",
            "New words found: 10776\n"
          ],
          "name": "stdout"
        }
      ]
    },
    {
      "cell_type": "markdown",
      "metadata": {
        "id": "11YNucPvLg0j"
      },
      "source": [
        "## Create LSTM Pipeline"
      ]
    },
    {
      "cell_type": "code",
      "metadata": {
        "id": "BSJkvIh3Lg0j"
      },
      "source": [
        "# Embedding layer before the actaul BLSTM \n",
        "embedd_layer = Embedding(vocab_size,\n",
        "            embed_num_dims,\n",
        "            input_length = max_seq_len,\n",
        "            weights = [embedd_matrix],\n",
        "            trainable=False)"
      ],
      "execution_count": 16,
      "outputs": []
    },
    {
      "cell_type": "code",
      "metadata": {
        "id": "9jgiuL8RLg0k"
      },
      "source": [
        "# Parameters\n",
        "output_size = 128\n",
        "\n",
        "# Embedding Layer, biLSTM, Dense, softmax\n",
        "model = Sequential()\n",
        "model.add(embedd_layer)\n",
        "model.add(Bidirectional(LSTM(units=output_size,dropout=0.3,recurrent_dropout=0.3)))\n",
        "model.add(Dense(num_classes, activation='softmax'))"
      ],
      "execution_count": 17,
      "outputs": []
    },
    {
      "cell_type": "code",
      "metadata": {
        "id": "wEH3oKB_Lg0l",
        "colab": {
          "base_uri": "https://localhost:8080/"
        },
        "outputId": "5d46fc12-1636-4099-9e9c-c460f1972193"
      },
      "source": [
        "model.compile(loss = 'categorical_crossentropy', optimizer = 'adam', metrics = ['accuracy',])\n",
        "model.summary()"
      ],
      "execution_count": 18,
      "outputs": [
        {
          "output_type": "stream",
          "text": [
            "Model: \"sequential\"\n",
            "_________________________________________________________________\n",
            "Layer (type)                 Output Shape              Param #   \n",
            "=================================================================\n",
            "embedding (Embedding)        (None, 64, 300)           8980800   \n",
            "_________________________________________________________________\n",
            "bidirectional (Bidirectional (None, 256)               439296    \n",
            "_________________________________________________________________\n",
            "dense (Dense)                (None, 5)                 1285      \n",
            "=================================================================\n",
            "Total params: 9,421,381\n",
            "Trainable params: 440,581\n",
            "Non-trainable params: 8,980,800\n",
            "_________________________________________________________________\n"
          ],
          "name": "stdout"
        }
      ]
    },
    {
      "cell_type": "markdown",
      "metadata": {
        "id": "Zuh_RtoJLg0l"
      },
      "source": [
        "## Train the Model"
      ]
    },
    {
      "cell_type": "code",
      "metadata": {
        "id": "ZeAYzfLHLg0m",
        "colab": {
          "base_uri": "https://localhost:8080/"
        },
        "outputId": "f109adcc-322d-406b-86a5-5bcfe8c6949d"
      },
      "source": [
        "batch_size = 64\n",
        "epochs = 50\n",
        "\n",
        "hist = model.fit(X_train_pad, y_train, \n",
        "          batch_size=batch_size,\n",
        "          epochs=epochs,\n",
        "          validation_data=(X_val_pad,y_val))"
      ],
      "execution_count": 19,
      "outputs": [
        {
          "output_type": "stream",
          "text": [
            "Epoch 1/50\n",
            "101/101 [==============================] - 79s 721ms/step - loss: 1.2399 - accuracy: 0.5086 - val_loss: 1.1661 - val_accuracy: 0.4951\n",
            "Epoch 2/50\n",
            "101/101 [==============================] - 71s 706ms/step - loss: 1.0672 - accuracy: 0.5503 - val_loss: 1.0917 - val_accuracy: 0.5370\n",
            "Epoch 3/50\n",
            "101/101 [==============================] - 70s 696ms/step - loss: 1.0146 - accuracy: 0.5766 - val_loss: 1.1189 - val_accuracy: 0.5462\n",
            "Epoch 4/50\n",
            "101/101 [==============================] - 72s 709ms/step - loss: 0.9917 - accuracy: 0.5853 - val_loss: 1.1132 - val_accuracy: 0.5068\n",
            "Epoch 5/50\n",
            "101/101 [==============================] - 77s 766ms/step - loss: 0.9749 - accuracy: 0.5805 - val_loss: 1.0838 - val_accuracy: 0.5333\n",
            "Epoch 6/50\n",
            "101/101 [==============================] - 69s 688ms/step - loss: 0.9441 - accuracy: 0.5962 - val_loss: 1.0759 - val_accuracy: 0.5364\n",
            "Epoch 7/50\n",
            "101/101 [==============================] - 71s 700ms/step - loss: 0.9269 - accuracy: 0.6117 - val_loss: 1.0807 - val_accuracy: 0.5314\n",
            "Epoch 8/50\n",
            "101/101 [==============================] - 71s 707ms/step - loss: 0.9138 - accuracy: 0.6109 - val_loss: 1.0999 - val_accuracy: 0.5370\n",
            "Epoch 9/50\n",
            "101/101 [==============================] - 71s 705ms/step - loss: 0.9080 - accuracy: 0.6184 - val_loss: 1.1092 - val_accuracy: 0.5105\n",
            "Epoch 10/50\n",
            "101/101 [==============================] - 74s 730ms/step - loss: 0.8965 - accuracy: 0.6156 - val_loss: 1.1147 - val_accuracy: 0.5173\n",
            "Epoch 11/50\n",
            "101/101 [==============================] - 72s 717ms/step - loss: 0.8768 - accuracy: 0.6245 - val_loss: 1.1266 - val_accuracy: 0.5136\n",
            "Epoch 12/50\n",
            "101/101 [==============================] - 72s 717ms/step - loss: 0.8462 - accuracy: 0.6387 - val_loss: 1.1218 - val_accuracy: 0.5197\n",
            "Epoch 13/50\n",
            "101/101 [==============================] - 73s 720ms/step - loss: 0.8306 - accuracy: 0.6399 - val_loss: 1.1382 - val_accuracy: 0.5228\n",
            "Epoch 14/50\n",
            "101/101 [==============================] - 72s 710ms/step - loss: 0.8074 - accuracy: 0.6572 - val_loss: 1.1348 - val_accuracy: 0.5043\n",
            "Epoch 15/50\n",
            "101/101 [==============================] - 69s 687ms/step - loss: 0.7915 - accuracy: 0.6687 - val_loss: 1.1341 - val_accuracy: 0.5142\n",
            "Epoch 16/50\n",
            "101/101 [==============================] - 73s 719ms/step - loss: 0.7834 - accuracy: 0.6764 - val_loss: 1.1841 - val_accuracy: 0.5025\n",
            "Epoch 17/50\n",
            "101/101 [==============================] - 74s 736ms/step - loss: 0.7626 - accuracy: 0.6824 - val_loss: 1.1804 - val_accuracy: 0.5092\n",
            "Epoch 18/50\n",
            "101/101 [==============================] - 73s 727ms/step - loss: 0.7450 - accuracy: 0.6897 - val_loss: 1.1984 - val_accuracy: 0.5068\n",
            "Epoch 19/50\n",
            "101/101 [==============================] - 71s 704ms/step - loss: 0.7317 - accuracy: 0.6920 - val_loss: 1.2035 - val_accuracy: 0.5105\n",
            "Epoch 20/50\n",
            "101/101 [==============================] - 72s 709ms/step - loss: 0.6952 - accuracy: 0.7072 - val_loss: 1.2530 - val_accuracy: 0.5129\n",
            "Epoch 21/50\n",
            "101/101 [==============================] - 73s 726ms/step - loss: 0.6826 - accuracy: 0.7128 - val_loss: 1.2558 - val_accuracy: 0.5247\n",
            "Epoch 22/50\n",
            "101/101 [==============================] - 72s 718ms/step - loss: 0.6769 - accuracy: 0.7209 - val_loss: 1.2940 - val_accuracy: 0.5129\n",
            "Epoch 23/50\n",
            "101/101 [==============================] - 72s 709ms/step - loss: 0.6609 - accuracy: 0.7211 - val_loss: 1.2863 - val_accuracy: 0.5136\n",
            "Epoch 24/50\n",
            "101/101 [==============================] - 70s 693ms/step - loss: 0.6210 - accuracy: 0.7442 - val_loss: 1.2879 - val_accuracy: 0.4975\n",
            "Epoch 25/50\n",
            "101/101 [==============================] - 71s 702ms/step - loss: 0.6144 - accuracy: 0.7421 - val_loss: 1.3571 - val_accuracy: 0.5043\n",
            "Epoch 26/50\n",
            "101/101 [==============================] - 70s 691ms/step - loss: 0.5768 - accuracy: 0.7583 - val_loss: 1.3360 - val_accuracy: 0.4969\n",
            "Epoch 27/50\n",
            "101/101 [==============================] - 71s 707ms/step - loss: 0.5858 - accuracy: 0.7566 - val_loss: 1.3510 - val_accuracy: 0.4858\n",
            "Epoch 28/50\n",
            "101/101 [==============================] - 70s 697ms/step - loss: 0.5504 - accuracy: 0.7792 - val_loss: 1.4255 - val_accuracy: 0.4926\n",
            "Epoch 29/50\n",
            "101/101 [==============================] - 71s 701ms/step - loss: 0.5366 - accuracy: 0.7788 - val_loss: 1.4173 - val_accuracy: 0.4797\n",
            "Epoch 30/50\n",
            "101/101 [==============================] - 70s 695ms/step - loss: 0.5185 - accuracy: 0.7906 - val_loss: 1.4413 - val_accuracy: 0.4864\n",
            "Epoch 31/50\n",
            "101/101 [==============================] - 71s 702ms/step - loss: 0.5204 - accuracy: 0.7886 - val_loss: 1.4542 - val_accuracy: 0.4821\n",
            "Epoch 32/50\n",
            "101/101 [==============================] - 71s 705ms/step - loss: 0.4872 - accuracy: 0.8088 - val_loss: 1.4172 - val_accuracy: 0.4846\n",
            "Epoch 33/50\n",
            "101/101 [==============================] - 70s 697ms/step - loss: 0.4524 - accuracy: 0.8161 - val_loss: 1.5337 - val_accuracy: 0.4945\n",
            "Epoch 34/50\n",
            "101/101 [==============================] - 71s 699ms/step - loss: 0.4439 - accuracy: 0.8281 - val_loss: 1.4766 - val_accuracy: 0.4963\n",
            "Epoch 35/50\n",
            "101/101 [==============================] - 72s 713ms/step - loss: 0.4256 - accuracy: 0.8310 - val_loss: 1.5487 - val_accuracy: 0.4920\n",
            "Epoch 36/50\n",
            "101/101 [==============================] - 73s 720ms/step - loss: 0.4215 - accuracy: 0.8380 - val_loss: 1.5552 - val_accuracy: 0.5031\n",
            "Epoch 37/50\n",
            "101/101 [==============================] - 72s 715ms/step - loss: 0.3907 - accuracy: 0.8446 - val_loss: 1.5666 - val_accuracy: 0.4963\n",
            "Epoch 38/50\n",
            "101/101 [==============================] - 71s 705ms/step - loss: 0.3745 - accuracy: 0.8591 - val_loss: 1.6705 - val_accuracy: 0.4864\n",
            "Epoch 39/50\n",
            "101/101 [==============================] - 72s 712ms/step - loss: 0.3896 - accuracy: 0.8391 - val_loss: 1.6392 - val_accuracy: 0.4920\n",
            "Epoch 40/50\n",
            "101/101 [==============================] - 69s 680ms/step - loss: 0.3454 - accuracy: 0.8692 - val_loss: 1.6467 - val_accuracy: 0.4932\n",
            "Epoch 41/50\n",
            "101/101 [==============================] - 71s 703ms/step - loss: 0.3501 - accuracy: 0.8603 - val_loss: 1.7428 - val_accuracy: 0.4938\n",
            "Epoch 42/50\n",
            "101/101 [==============================] - 74s 732ms/step - loss: 0.3380 - accuracy: 0.8712 - val_loss: 1.8484 - val_accuracy: 0.4932\n",
            "Epoch 43/50\n",
            "101/101 [==============================] - 73s 722ms/step - loss: 0.3304 - accuracy: 0.8716 - val_loss: 1.8092 - val_accuracy: 0.4778\n",
            "Epoch 44/50\n",
            "101/101 [==============================] - 73s 720ms/step - loss: 0.3071 - accuracy: 0.8776 - val_loss: 1.7951 - val_accuracy: 0.4834\n",
            "Epoch 45/50\n",
            "101/101 [==============================] - 71s 702ms/step - loss: 0.2990 - accuracy: 0.8874 - val_loss: 1.8337 - val_accuracy: 0.4852\n",
            "Epoch 46/50\n",
            "101/101 [==============================] - 71s 703ms/step - loss: 0.2916 - accuracy: 0.8877 - val_loss: 1.7857 - val_accuracy: 0.4661\n",
            "Epoch 47/50\n",
            "101/101 [==============================] - 72s 713ms/step - loss: 0.2586 - accuracy: 0.9055 - val_loss: 1.8325 - val_accuracy: 0.4630\n",
            "Epoch 48/50\n",
            "101/101 [==============================] - 73s 728ms/step - loss: 0.2592 - accuracy: 0.9036 - val_loss: 1.9709 - val_accuracy: 0.4945\n",
            "Epoch 49/50\n",
            "101/101 [==============================] - 74s 728ms/step - loss: 0.2627 - accuracy: 0.8972 - val_loss: 1.9507 - val_accuracy: 0.4778\n",
            "Epoch 50/50\n",
            "101/101 [==============================] - 72s 709ms/step - loss: 0.2432 - accuracy: 0.9115 - val_loss: 1.9693 - val_accuracy: 0.4988\n"
          ],
          "name": "stdout"
        }
      ]
    },
    {
      "cell_type": "code",
      "metadata": {
        "id": "qy5BdTcKLg0m",
        "colab": {
          "base_uri": "https://localhost:8080/",
          "height": 573
        },
        "outputId": "be6b84f6-bf58-4b32-d563-dc1e41208f42"
      },
      "source": [
        "#  \"Accuracy\"\n",
        "plt.plot(hist.history['accuracy'])\n",
        "plt.plot(hist.history['val_accuracy'])\n",
        "plt.title('model accuracy')\n",
        "plt.ylabel('accuracy')\n",
        "plt.xlabel('epoch')\n",
        "plt.legend(['train', 'validation'], loc='upper left')\n",
        "plt.show()\n",
        "\n",
        "# \"Loss\"\n",
        "plt.plot(hist.history['loss'])\n",
        "plt.plot(hist.history['val_loss'])\n",
        "plt.title('model loss')\n",
        "plt.ylabel('loss')\n",
        "plt.xlabel('epoch')\n",
        "plt.legend(['train', 'validation'], loc='upper left')\n",
        "plt.show()"
      ],
      "execution_count": 22,
      "outputs": [
        {
          "output_type": "display_data",
          "data": {
            "image/png": "[encoded data removed]",
            "text/plain": [
              "<Figure size 432x288 with 1 Axes>"
            ]
          },
          "metadata": {
            "tags": [],
            "needs_background": "light"
          }
        },
        {
          "output_type": "display_data",
          "data": {
            "image/png": "[encoded data removed]",
            "text/plain": [
              "<Figure size 432x288 with 1 Axes>"
            ]
          },
          "metadata": {
            "tags": [],
            "needs_background": "light"
          }
        }
      ]
    },
    {
      "cell_type": "markdown",
      "metadata": {
        "id": "baqXw1yjLg0m"
      },
      "source": [
        "## Evaluation"
      ]
    },
    {
      "cell_type": "code",
      "metadata": {
        "id": "9HRhq7Y6Lg0n"
      },
      "source": [
        "predictions = model.predict(X_test_pad)\n",
        "predictions = np.argmax(predictions, axis=1)\n",
        "predictions = [class_names[pred] for pred in predictions]"
      ],
      "execution_count": 23,
      "outputs": []
    },
    {
      "cell_type": "code",
      "metadata": {
        "id": "utQj7coULg0n",
        "colab": {
          "base_uri": "https://localhost:8080/"
        },
        "outputId": "e27a631a-bb48-4bee-93bf-9b1f4c08425d"
      },
      "source": [
        "print(\"Accuracy: {:.2f}%\".format(accuracy_score(df_test.score, predictions) * 100))\n",
        "print(\"\\nF1 Score: {:.2f}\".format(f1_score(df_test.score, predictions, average='micro') * 100))"
      ],
      "execution_count": 24,
      "outputs": [
        {
          "output_type": "stream",
          "text": [
            "Accuracy: 47.09%\n",
            "\n",
            "F1 Score: 47.09\n"
          ],
          "name": "stdout"
        }
      ]
    },
    {
      "cell_type": "markdown",
      "metadata": {
        "id": "Xw8VJ0jaLg0n"
      },
      "source": [
        "#### Plotting confusion Matrix:"
      ]
    },
    {
      "cell_type": "code",
      "metadata": {
        "id": "vc6n7vi8Lg0n"
      },
      "source": [
        "def plot_confusion_matrix(y_true, y_pred, classes,\n",
        "              normalize=False,\n",
        "              title=None,\n",
        "              cmap=plt.cm.Blues):\n",
        "    '''\n",
        "    This function prints and plots the confusion matrix.\n",
        "    Normalization can be applied by setting `normalize=True`.\n",
        "    '''\n",
        "    if not title:\n",
        "        if normalize:\n",
        "            title = 'Normalized confusion matrix'\n",
        "        else:\n",
        "            title = 'Confusion matrix, without normalization'\n",
        "\n",
        "    # Compute confusion matrix\n",
        "    cm = confusion_matrix(y_true, y_pred)\n",
        "\n",
        "    if normalize:\n",
        "        cm = cm.astype('float') / cm.sum(axis=1)[:, np.newaxis]\n",
        "\n",
        "    fig, ax = plt.subplots()\n",
        "    \n",
        "    # Set size\n",
        "    fig.set_size_inches(12.5, 7.5)\n",
        "    im = ax.imshow(cm, interpolation='nearest', cmap=cmap)\n",
        "    ax.figure.colorbar(im, ax=ax)\n",
        "    ax.grid(False)\n",
        "    \n",
        "    # We want to show all ticks...\n",
        "    ax.set(xticks=np.arange(cm.shape[1]),\n",
        "           yticks=np.arange(cm.shape[0]),\n",
        "           # ... and label them with the respective list entries\n",
        "           xticklabels=classes, yticklabels=classes,\n",
        "           title=title,\n",
        "           ylabel='True label',\n",
        "           xlabel='Predicted label')\n",
        "\n",
        "    # Rotate the tick labels and set their alignment.\n",
        "    plt.setp(ax.get_xticklabels(), rotation=45, ha=\"right\",\n",
        "             rotation_mode=\"anchor\")\n",
        "\n",
        "    # Loop over data dimensions and create text annotations.\n",
        "    fmt = '.2f' if normalize else 'd'\n",
        "    thresh = cm.max() / 2.\n",
        "    for i in range(cm.shape[0]):\n",
        "        for j in range(cm.shape[1]):\n",
        "            ax.text(j, i, format(cm[i, j], fmt),\n",
        "                    ha=\"center\", va=\"center\",\n",
        "                    color=\"white\" if cm[i, j] > thresh else \"black\")\n",
        "    fig.tight_layout()\n",
        "    return ax"
      ],
      "execution_count": 27,
      "outputs": []
    },
    {
      "cell_type": "code",
      "metadata": {
        "id": "OcFthWvuLg0o",
        "colab": {
          "base_uri": "https://localhost:8080/",
          "height": 582
        },
        "outputId": "7227819f-73ed-4ba3-f25a-aac323aea1f3"
      },
      "source": [
        "print(\"\\nF1 Score: {:.2f}\".format(f1_score(df_test.score, predictions, average='micro') * 100))\n",
        "\n",
        "# Plot normalized confusion matrix\n",
        "plot_confusion_matrix(df_test.score, predictions, classes=class_names, normalize=True, title='Normalized confusion matrix')\n",
        "plt.show()"
      ],
      "execution_count": 26,
      "outputs": [
        {
          "output_type": "stream",
          "text": [
            "\n",
            "F1 Score: 47.09\n"
          ],
          "name": "stdout"
        },
        {
          "output_type": "display_data",
          "data": {
            "image/png": "[encoded data removed]",
            "text/plain": [
              "<Figure size 900x540 with 2 Axes>"
            ]
          },
          "metadata": {
            "tags": [],
            "needs_background": "light"
          }
        }
      ]
    },
    {
      "cell_type": "code",
      "metadata": {
        "id": "VMAQ4UdYhhMt"
      },
      "source": [
        ""
      ],
      "execution_count": null,
      "outputs": []
    }
  ]
}