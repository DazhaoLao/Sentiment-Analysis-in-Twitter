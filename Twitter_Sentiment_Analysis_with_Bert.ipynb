{
  "nbformat": 4,
  "nbformat_minor": 0,
  "metadata": {
    "colab": {
      "name": "Twitter_Sentiment_Analysis_with_Bert.ipynb",
      "provenance": [],
      "collapsed_sections": []
    },
    "kernelspec": {
      "name": "python3",
      "display_name": "Python 3"
    },
    "accelerator": "GPU",
    "widgets": {
      "application/vnd.jupyter.widget-state+json": {
        "1aa08d46bd4b4ae88f6a01b08dcd04d9": {
          "model_module": "@jupyter-widgets/controls",
          "model_name": "HBoxModel",
          "state": {
            "_view_name": "HBoxView",
            "_dom_classes": [],
            "_model_name": "HBoxModel",
            "_view_module": "@jupyter-widgets/controls",
            "_model_module_version": "1.5.0",
            "_view_count": null,
            "_view_module_version": "1.5.0",
            "box_style": "",
            "layout": "IPY_MODEL_b558b54d4701415fae9375f9c9764f25",
            "_model_module": "@jupyter-widgets/controls",
            "children": [
              "IPY_MODEL_30a36765f2fd4b5682ae483823b3e39d",
              "IPY_MODEL_ae4c1aaf283b476093ca401083105589"
            ]
          }
        },
        "b558b54d4701415fae9375f9c9764f25": {
          "model_module": "@jupyter-widgets/base",
          "model_name": "LayoutModel",
          "state": {
            "_view_name": "LayoutView",
            "grid_template_rows": null,
            "right": null,
            "justify_content": null,
            "_view_module": "@jupyter-widgets/base",
            "overflow": null,
            "_model_module_version": "1.2.0",
            "_view_count": null,
            "flex_flow": null,
            "width": null,
            "min_width": null,
            "border": null,
            "align_items": null,
            "bottom": null,
            "_model_module": "@jupyter-widgets/base",
            "top": null,
            "grid_column": null,
            "overflow_y": null,
            "overflow_x": null,
            "grid_auto_flow": null,
            "grid_area": null,
            "grid_template_columns": null,
            "flex": null,
            "_model_name": "LayoutModel",
            "justify_items": null,
            "grid_row": null,
            "max_height": null,
            "align_content": null,
            "visibility": null,
            "align_self": null,
            "height": null,
            "min_height": null,
            "padding": null,
            "grid_auto_rows": null,
            "grid_gap": null,
            "max_width": null,
            "order": null,
            "_view_module_version": "1.2.0",
            "grid_template_areas": null,
            "object_position": null,
            "object_fit": null,
            "grid_auto_columns": null,
            "margin": null,
            "display": null,
            "left": null
          }
        },
        "30a36765f2fd4b5682ae483823b3e39d": {
          "model_module": "@jupyter-widgets/controls",
          "model_name": "FloatProgressModel",
          "state": {
            "_view_name": "ProgressView",
            "style": "IPY_MODEL_0d7d0c8f2d4d46528962709e6ce5cfbd",
            "_dom_classes": [],
            "description": "Downloading: 100%",
            "_model_name": "FloatProgressModel",
            "bar_style": "success",
            "max": 213450,
            "_view_module": "@jupyter-widgets/controls",
            "_model_module_version": "1.5.0",
            "value": 213450,
            "_view_count": null,
            "_view_module_version": "1.5.0",
            "orientation": "horizontal",
            "min": 0,
            "description_tooltip": null,
            "_model_module": "@jupyter-widgets/controls",
            "layout": "IPY_MODEL_ddbc70a59e3944768413c30d5a8b2d35"
          }
        },
        "ae4c1aaf283b476093ca401083105589": {
          "model_module": "@jupyter-widgets/controls",
          "model_name": "HTMLModel",
          "state": {
            "_view_name": "HTMLView",
            "style": "IPY_MODEL_3416c4191dac4861b7685a1572134598",
            "_dom_classes": [],
            "description": "",
            "_model_name": "HTMLModel",
            "placeholder": "​",
            "_view_module": "@jupyter-widgets/controls",
            "_model_module_version": "1.5.0",
            "value": " 213k/213k [00:02&lt;00:00, 89.8kB/s]",
            "_view_count": null,
            "_view_module_version": "1.5.0",
            "description_tooltip": null,
            "_model_module": "@jupyter-widgets/controls",
            "layout": "IPY_MODEL_89f9933441824edeb11bdab933e6a2fd"
          }
        },
        "0d7d0c8f2d4d46528962709e6ce5cfbd": {
          "model_module": "@jupyter-widgets/controls",
          "model_name": "ProgressStyleModel",
          "state": {
            "_view_name": "StyleView",
            "_model_name": "ProgressStyleModel",
            "description_width": "initial",
            "_view_module": "@jupyter-widgets/base",
            "_model_module_version": "1.5.0",
            "_view_count": null,
            "_view_module_version": "1.2.0",
            "bar_color": null,
            "_model_module": "@jupyter-widgets/controls"
          }
        },
        "ddbc70a59e3944768413c30d5a8b2d35": {
          "model_module": "@jupyter-widgets/base",
          "model_name": "LayoutModel",
          "state": {
            "_view_name": "LayoutView",
            "grid_template_rows": null,
            "right": null,
            "justify_content": null,
            "_view_module": "@jupyter-widgets/base",
            "overflow": null,
            "_model_module_version": "1.2.0",
            "_view_count": null,
            "flex_flow": null,
            "width": null,
            "min_width": null,
            "border": null,
            "align_items": null,
            "bottom": null,
            "_model_module": "@jupyter-widgets/base",
            "top": null,
            "grid_column": null,
            "overflow_y": null,
            "overflow_x": null,
            "grid_auto_flow": null,
            "grid_area": null,
            "grid_template_columns": null,
            "flex": null,
            "_model_name": "LayoutModel",
            "justify_items": null,
            "grid_row": null,
            "max_height": null,
            "align_content": null,
            "visibility": null,
            "align_self": null,
            "height": null,
            "min_height": null,
            "padding": null,
            "grid_auto_rows": null,
            "grid_gap": null,
            "max_width": null,
            "order": null,
            "_view_module_version": "1.2.0",
            "grid_template_areas": null,
            "object_position": null,
            "object_fit": null,
            "grid_auto_columns": null,
            "margin": null,
            "display": null,
            "left": null
          }
        },
        "3416c4191dac4861b7685a1572134598": {
          "model_module": "@jupyter-widgets/controls",
          "model_name": "DescriptionStyleModel",
          "state": {
            "_view_name": "StyleView",
            "_model_name": "DescriptionStyleModel",
            "description_width": "",
            "_view_module": "@jupyter-widgets/base",
            "_model_module_version": "1.5.0",
            "_view_count": null,
            "_view_module_version": "1.2.0",
            "_model_module": "@jupyter-widgets/controls"
          }
        },
        "89f9933441824edeb11bdab933e6a2fd": {
          "model_module": "@jupyter-widgets/base",
          "model_name": "LayoutModel",
          "state": {
            "_view_name": "LayoutView",
            "grid_template_rows": null,
            "right": null,
            "justify_content": null,
            "_view_module": "@jupyter-widgets/base",
            "overflow": null,
            "_model_module_version": "1.2.0",
            "_view_count": null,
            "flex_flow": null,
            "width": null,
            "min_width": null,
            "border": null,
            "align_items": null,
            "bottom": null,
            "_model_module": "@jupyter-widgets/base",
            "top": null,
            "grid_column": null,
            "overflow_y": null,
            "overflow_x": null,
            "grid_auto_flow": null,
            "grid_area": null,
            "grid_template_columns": null,
            "flex": null,
            "_model_name": "LayoutModel",
            "justify_items": null,
            "grid_row": null,
            "max_height": null,
            "align_content": null,
            "visibility": null,
            "align_self": null,
            "height": null,
            "min_height": null,
            "padding": null,
            "grid_auto_rows": null,
            "grid_gap": null,
            "max_width": null,
            "order": null,
            "_view_module_version": "1.2.0",
            "grid_template_areas": null,
            "object_position": null,
            "object_fit": null,
            "grid_auto_columns": null,
            "margin": null,
            "display": null,
            "left": null
          }
        },
        "454647ab8cb54c7bbcb7f02766ae3307": {
          "model_module": "@jupyter-widgets/controls",
          "model_name": "HBoxModel",
          "state": {
            "_view_name": "HBoxView",
            "_dom_classes": [],
            "_model_name": "HBoxModel",
            "_view_module": "@jupyter-widgets/controls",
            "_model_module_version": "1.5.0",
            "_view_count": null,
            "_view_module_version": "1.5.0",
            "box_style": "",
            "layout": "IPY_MODEL_5808a1959b9d459baf844826bc4dfce0",
            "_model_module": "@jupyter-widgets/controls",
            "children": [
              "IPY_MODEL_4a129ed765c344c4997a448510d7afee",
              "IPY_MODEL_c2fc3139916b48e1be496ff7b259b6bd"
            ]
          }
        },
        "5808a1959b9d459baf844826bc4dfce0": {
          "model_module": "@jupyter-widgets/base",
          "model_name": "LayoutModel",
          "state": {
            "_view_name": "LayoutView",
            "grid_template_rows": null,
            "right": null,
            "justify_content": null,
            "_view_module": "@jupyter-widgets/base",
            "overflow": null,
            "_model_module_version": "1.2.0",
            "_view_count": null,
            "flex_flow": null,
            "width": null,
            "min_width": null,
            "border": null,
            "align_items": null,
            "bottom": null,
            "_model_module": "@jupyter-widgets/base",
            "top": null,
            "grid_column": null,
            "overflow_y": null,
            "overflow_x": null,
            "grid_auto_flow": null,
            "grid_area": null,
            "grid_template_columns": null,
            "flex": null,
            "_model_name": "LayoutModel",
            "justify_items": null,
            "grid_row": null,
            "max_height": null,
            "align_content": null,
            "visibility": null,
            "align_self": null,
            "height": null,
            "min_height": null,
            "padding": null,
            "grid_auto_rows": null,
            "grid_gap": null,
            "max_width": null,
            "order": null,
            "_view_module_version": "1.2.0",
            "grid_template_areas": null,
            "object_position": null,
            "object_fit": null,
            "grid_auto_columns": null,
            "margin": null,
            "display": null,
            "left": null
          }
        },
        "4a129ed765c344c4997a448510d7afee": {
          "model_module": "@jupyter-widgets/controls",
          "model_name": "FloatProgressModel",
          "state": {
            "_view_name": "ProgressView",
            "style": "IPY_MODEL_b3b349335fb34ebdba62815b01010cb1",
            "_dom_classes": [],
            "description": "Downloading: 100%",
            "_model_name": "FloatProgressModel",
            "bar_style": "success",
            "max": 29,
            "_view_module": "@jupyter-widgets/controls",
            "_model_module_version": "1.5.0",
            "value": 29,
            "_view_count": null,
            "_view_module_version": "1.5.0",
            "orientation": "horizontal",
            "min": 0,
            "description_tooltip": null,
            "_model_module": "@jupyter-widgets/controls",
            "layout": "IPY_MODEL_18b3b139f4db42ca92fc1a72a7c630b5"
          }
        },
        "c2fc3139916b48e1be496ff7b259b6bd": {
          "model_module": "@jupyter-widgets/controls",
          "model_name": "HTMLModel",
          "state": {
            "_view_name": "HTMLView",
            "style": "IPY_MODEL_1c596efa32cc47769b1ed097a7ceaeca",
            "_dom_classes": [],
            "description": "",
            "_model_name": "HTMLModel",
            "placeholder": "​",
            "_view_module": "@jupyter-widgets/controls",
            "_model_module_version": "1.5.0",
            "value": " 29.0/29.0 [00:01&lt;00:00, 28.9B/s]",
            "_view_count": null,
            "_view_module_version": "1.5.0",
            "description_tooltip": null,
            "_model_module": "@jupyter-widgets/controls",
            "layout": "IPY_MODEL_fc235e8cdf224e1ebde5e9c9e70f9b6e"
          }
        },
        "b3b349335fb34ebdba62815b01010cb1": {
          "model_module": "@jupyter-widgets/controls",
          "model_name": "ProgressStyleModel",
          "state": {
            "_view_name": "StyleView",
            "_model_name": "ProgressStyleModel",
            "description_width": "initial",
            "_view_module": "@jupyter-widgets/base",
            "_model_module_version": "1.5.0",
            "_view_count": null,
            "_view_module_version": "1.2.0",
            "bar_color": null,
            "_model_module": "@jupyter-widgets/controls"
          }
        },
        "18b3b139f4db42ca92fc1a72a7c630b5": {
          "model_module": "@jupyter-widgets/base",
          "model_name": "LayoutModel",
          "state": {
            "_view_name": "LayoutView",
            "grid_template_rows": null,
            "right": null,
            "justify_content": null,
            "_view_module": "@jupyter-widgets/base",
            "overflow": null,
            "_model_module_version": "1.2.0",
            "_view_count": null,
            "flex_flow": null,
            "width": null,
            "min_width": null,
            "border": null,
            "align_items": null,
            "bottom": null,
            "_model_module": "@jupyter-widgets/base",
            "top": null,
            "grid_column": null,
            "overflow_y": null,
            "overflow_x": null,
            "grid_auto_flow": null,
            "grid_area": null,
            "grid_template_columns": null,
            "flex": null,
            "_model_name": "LayoutModel",
            "justify_items": null,
            "grid_row": null,
            "max_height": null,
            "align_content": null,
            "visibility": null,
            "align_self": null,
            "height": null,
            "min_height": null,
            "padding": null,
            "grid_auto_rows": null,
            "grid_gap": null,
            "max_width": null,
            "order": null,
            "_view_module_version": "1.2.0",
            "grid_template_areas": null,
            "object_position": null,
            "object_fit": null,
            "grid_auto_columns": null,
            "margin": null,
            "display": null,
            "left": null
          }
        },
        "1c596efa32cc47769b1ed097a7ceaeca": {
          "model_module": "@jupyter-widgets/controls",
          "model_name": "DescriptionStyleModel",
          "state": {
            "_view_name": "StyleView",
            "_model_name": "DescriptionStyleModel",
            "description_width": "",
            "_view_module": "@jupyter-widgets/base",
            "_model_module_version": "1.5.0",
            "_view_count": null,
            "_view_module_version": "1.2.0",
            "_model_module": "@jupyter-widgets/controls"
          }
        },
        "fc235e8cdf224e1ebde5e9c9e70f9b6e": {
          "model_module": "@jupyter-widgets/base",
          "model_name": "LayoutModel",
          "state": {
            "_view_name": "LayoutView",
            "grid_template_rows": null,
            "right": null,
            "justify_content": null,
            "_view_module": "@jupyter-widgets/base",
            "overflow": null,
            "_model_module_version": "1.2.0",
            "_view_count": null,
            "flex_flow": null,
            "width": null,
            "min_width": null,
            "border": null,
            "align_items": null,
            "bottom": null,
            "_model_module": "@jupyter-widgets/base",
            "top": null,
            "grid_column": null,
            "overflow_y": null,
            "overflow_x": null,
            "grid_auto_flow": null,
            "grid_area": null,
            "grid_template_columns": null,
            "flex": null,
            "_model_name": "LayoutModel",
            "justify_items": null,
            "grid_row": null,
            "max_height": null,
            "align_content": null,
            "visibility": null,
            "align_self": null,
            "height": null,
            "min_height": null,
            "padding": null,
            "grid_auto_rows": null,
            "grid_gap": null,
            "max_width": null,
            "order": null,
            "_view_module_version": "1.2.0",
            "grid_template_areas": null,
            "object_position": null,
            "object_fit": null,
            "grid_auto_columns": null,
            "margin": null,
            "display": null,
            "left": null
          }
        },
        "2153d9264d084b999ccf52caf0f2f15d": {
          "model_module": "@jupyter-widgets/controls",
          "model_name": "HBoxModel",
          "state": {
            "_view_name": "HBoxView",
            "_dom_classes": [],
            "_model_name": "HBoxModel",
            "_view_module": "@jupyter-widgets/controls",
            "_model_module_version": "1.5.0",
            "_view_count": null,
            "_view_module_version": "1.5.0",
            "box_style": "",
            "layout": "IPY_MODEL_0eef0468fe7441449d19302b2eb9d843",
            "_model_module": "@jupyter-widgets/controls",
            "children": [
              "IPY_MODEL_dfc1c40517b1433cb3366b5b4814f0ba",
              "IPY_MODEL_0d9260bbae2941cd854401f9b9eb5c47"
            ]
          }
        },
        "0eef0468fe7441449d19302b2eb9d843": {
          "model_module": "@jupyter-widgets/base",
          "model_name": "LayoutModel",
          "state": {
            "_view_name": "LayoutView",
            "grid_template_rows": null,
            "right": null,
            "justify_content": null,
            "_view_module": "@jupyter-widgets/base",
            "overflow": null,
            "_model_module_version": "1.2.0",
            "_view_count": null,
            "flex_flow": null,
            "width": null,
            "min_width": null,
            "border": null,
            "align_items": null,
            "bottom": null,
            "_model_module": "@jupyter-widgets/base",
            "top": null,
            "grid_column": null,
            "overflow_y": null,
            "overflow_x": null,
            "grid_auto_flow": null,
            "grid_area": null,
            "grid_template_columns": null,
            "flex": null,
            "_model_name": "LayoutModel",
            "justify_items": null,
            "grid_row": null,
            "max_height": null,
            "align_content": null,
            "visibility": null,
            "align_self": null,
            "height": null,
            "min_height": null,
            "padding": null,
            "grid_auto_rows": null,
            "grid_gap": null,
            "max_width": null,
            "order": null,
            "_view_module_version": "1.2.0",
            "grid_template_areas": null,
            "object_position": null,
            "object_fit": null,
            "grid_auto_columns": null,
            "margin": null,
            "display": null,
            "left": null
          }
        },
        "dfc1c40517b1433cb3366b5b4814f0ba": {
          "model_module": "@jupyter-widgets/controls",
          "model_name": "FloatProgressModel",
          "state": {
            "_view_name": "ProgressView",
            "style": "IPY_MODEL_e3b2bce67a004fe5a4f618b3be0a31d8",
            "_dom_classes": [],
            "description": "Downloading: 100%",
            "_model_name": "FloatProgressModel",
            "bar_style": "success",
            "max": 435797,
            "_view_module": "@jupyter-widgets/controls",
            "_model_module_version": "1.5.0",
            "value": 435797,
            "_view_count": null,
            "_view_module_version": "1.5.0",
            "orientation": "horizontal",
            "min": 0,
            "description_tooltip": null,
            "_model_module": "@jupyter-widgets/controls",
            "layout": "IPY_MODEL_45df5dadcaf845678559e7219a766f44"
          }
        },
        "0d9260bbae2941cd854401f9b9eb5c47": {
          "model_module": "@jupyter-widgets/controls",
          "model_name": "HTMLModel",
          "state": {
            "_view_name": "HTMLView",
            "style": "IPY_MODEL_cc08aa775da94b20b217da0629692c29",
            "_dom_classes": [],
            "description": "",
            "_model_name": "HTMLModel",
            "placeholder": "​",
            "_view_module": "@jupyter-widgets/controls",
            "_model_module_version": "1.5.0",
            "value": " 436k/436k [00:00&lt;00:00, 1.00MB/s]",
            "_view_count": null,
            "_view_module_version": "1.5.0",
            "description_tooltip": null,
            "_model_module": "@jupyter-widgets/controls",
            "layout": "IPY_MODEL_2a94b3566ab8404384f777bcadd36d53"
          }
        },
        "e3b2bce67a004fe5a4f618b3be0a31d8": {
          "model_module": "@jupyter-widgets/controls",
          "model_name": "ProgressStyleModel",
          "state": {
            "_view_name": "StyleView",
            "_model_name": "ProgressStyleModel",
            "description_width": "initial",
            "_view_module": "@jupyter-widgets/base",
            "_model_module_version": "1.5.0",
            "_view_count": null,
            "_view_module_version": "1.2.0",
            "bar_color": null,
            "_model_module": "@jupyter-widgets/controls"
          }
        },
        "45df5dadcaf845678559e7219a766f44": {
          "model_module": "@jupyter-widgets/base",
          "model_name": "LayoutModel",
          "state": {
            "_view_name": "LayoutView",
            "grid_template_rows": null,
            "right": null,
            "justify_content": null,
            "_view_module": "@jupyter-widgets/base",
            "overflow": null,
            "_model_module_version": "1.2.0",
            "_view_count": null,
            "flex_flow": null,
            "width": null,
            "min_width": null,
            "border": null,
            "align_items": null,
            "bottom": null,
            "_model_module": "@jupyter-widgets/base",
            "top": null,
            "grid_column": null,
            "overflow_y": null,
            "overflow_x": null,
            "grid_auto_flow": null,
            "grid_area": null,
            "grid_template_columns": null,
            "flex": null,
            "_model_name": "LayoutModel",
            "justify_items": null,
            "grid_row": null,
            "max_height": null,
            "align_content": null,
            "visibility": null,
            "align_self": null,
            "height": null,
            "min_height": null,
            "padding": null,
            "grid_auto_rows": null,
            "grid_gap": null,
            "max_width": null,
            "order": null,
            "_view_module_version": "1.2.0",
            "grid_template_areas": null,
            "object_position": null,
            "object_fit": null,
            "grid_auto_columns": null,
            "margin": null,
            "display": null,
            "left": null
          }
        },
        "cc08aa775da94b20b217da0629692c29": {
          "model_module": "@jupyter-widgets/controls",
          "model_name": "DescriptionStyleModel",
          "state": {
            "_view_name": "StyleView",
            "_model_name": "DescriptionStyleModel",
            "description_width": "",
            "_view_module": "@jupyter-widgets/base",
            "_model_module_version": "1.5.0",
            "_view_count": null,
            "_view_module_version": "1.2.0",
            "_model_module": "@jupyter-widgets/controls"
          }
        },
        "2a94b3566ab8404384f777bcadd36d53": {
          "model_module": "@jupyter-widgets/base",
          "model_name": "LayoutModel",
          "state": {
            "_view_name": "LayoutView",
            "grid_template_rows": null,
            "right": null,
            "justify_content": null,
            "_view_module": "@jupyter-widgets/base",
            "overflow": null,
            "_model_module_version": "1.2.0",
            "_view_count": null,
            "flex_flow": null,
            "width": null,
            "min_width": null,
            "border": null,
            "align_items": null,
            "bottom": null,
            "_model_module": "@jupyter-widgets/base",
            "top": null,
            "grid_column": null,
            "overflow_y": null,
            "overflow_x": null,
            "grid_auto_flow": null,
            "grid_area": null,
            "grid_template_columns": null,
            "flex": null,
            "_model_name": "LayoutModel",
            "justify_items": null,
            "grid_row": null,
            "max_height": null,
            "align_content": null,
            "visibility": null,
            "align_self": null,
            "height": null,
            "min_height": null,
            "padding": null,
            "grid_auto_rows": null,
            "grid_gap": null,
            "max_width": null,
            "order": null,
            "_view_module_version": "1.2.0",
            "grid_template_areas": null,
            "object_position": null,
            "object_fit": null,
            "grid_auto_columns": null,
            "margin": null,
            "display": null,
            "left": null
          }
        },
        "a9f8693761674375ab2b2ee2f79fcb56": {
          "model_module": "@jupyter-widgets/controls",
          "model_name": "HBoxModel",
          "state": {
            "_view_name": "HBoxView",
            "_dom_classes": [],
            "_model_name": "HBoxModel",
            "_view_module": "@jupyter-widgets/controls",
            "_model_module_version": "1.5.0",
            "_view_count": null,
            "_view_module_version": "1.5.0",
            "box_style": "",
            "layout": "IPY_MODEL_de820a8c3a5844eaa9da242c3c5cda6f",
            "_model_module": "@jupyter-widgets/controls",
            "children": [
              "IPY_MODEL_38f635b34975474fb22a2f136ec70e3c",
              "IPY_MODEL_d18105c5711c4fe3b6aa8c9960f49d18"
            ]
          }
        },
        "de820a8c3a5844eaa9da242c3c5cda6f": {
          "model_module": "@jupyter-widgets/base",
          "model_name": "LayoutModel",
          "state": {
            "_view_name": "LayoutView",
            "grid_template_rows": null,
            "right": null,
            "justify_content": null,
            "_view_module": "@jupyter-widgets/base",
            "overflow": null,
            "_model_module_version": "1.2.0",
            "_view_count": null,
            "flex_flow": null,
            "width": null,
            "min_width": null,
            "border": null,
            "align_items": null,
            "bottom": null,
            "_model_module": "@jupyter-widgets/base",
            "top": null,
            "grid_column": null,
            "overflow_y": null,
            "overflow_x": null,
            "grid_auto_flow": null,
            "grid_area": null,
            "grid_template_columns": null,
            "flex": null,
            "_model_name": "LayoutModel",
            "justify_items": null,
            "grid_row": null,
            "max_height": null,
            "align_content": null,
            "visibility": null,
            "align_self": null,
            "height": null,
            "min_height": null,
            "padding": null,
            "grid_auto_rows": null,
            "grid_gap": null,
            "max_width": null,
            "order": null,
            "_view_module_version": "1.2.0",
            "grid_template_areas": null,
            "object_position": null,
            "object_fit": null,
            "grid_auto_columns": null,
            "margin": null,
            "display": null,
            "left": null
          }
        },
        "38f635b34975474fb22a2f136ec70e3c": {
          "model_module": "@jupyter-widgets/controls",
          "model_name": "FloatProgressModel",
          "state": {
            "_view_name": "ProgressView",
            "style": "IPY_MODEL_209a51f47cf645fe8141fae280772a43",
            "_dom_classes": [],
            "description": "Downloading: 100%",
            "_model_name": "FloatProgressModel",
            "bar_style": "success",
            "max": 570,
            "_view_module": "@jupyter-widgets/controls",
            "_model_module_version": "1.5.0",
            "value": 570,
            "_view_count": null,
            "_view_module_version": "1.5.0",
            "orientation": "horizontal",
            "min": 0,
            "description_tooltip": null,
            "_model_module": "@jupyter-widgets/controls",
            "layout": "IPY_MODEL_4ec696ef7bae4b10bef3ed26a0e15432"
          }
        },
        "d18105c5711c4fe3b6aa8c9960f49d18": {
          "model_module": "@jupyter-widgets/controls",
          "model_name": "HTMLModel",
          "state": {
            "_view_name": "HTMLView",
            "style": "IPY_MODEL_4c568dc0647b4d7da049a9de899a1658",
            "_dom_classes": [],
            "description": "",
            "_model_name": "HTMLModel",
            "placeholder": "​",
            "_view_module": "@jupyter-widgets/controls",
            "_model_module_version": "1.5.0",
            "value": " 570/570 [00:15&lt;00:00, 37.5B/s]",
            "_view_count": null,
            "_view_module_version": "1.5.0",
            "description_tooltip": null,
            "_model_module": "@jupyter-widgets/controls",
            "layout": "IPY_MODEL_da25521a7bac4d49ba6d2a1290f4c3b0"
          }
        },
        "209a51f47cf645fe8141fae280772a43": {
          "model_module": "@jupyter-widgets/controls",
          "model_name": "ProgressStyleModel",
          "state": {
            "_view_name": "StyleView",
            "_model_name": "ProgressStyleModel",
            "description_width": "initial",
            "_view_module": "@jupyter-widgets/base",
            "_model_module_version": "1.5.0",
            "_view_count": null,
            "_view_module_version": "1.2.0",
            "bar_color": null,
            "_model_module": "@jupyter-widgets/controls"
          }
        },
        "4ec696ef7bae4b10bef3ed26a0e15432": {
          "model_module": "@jupyter-widgets/base",
          "model_name": "LayoutModel",
          "state": {
            "_view_name": "LayoutView",
            "grid_template_rows": null,
            "right": null,
            "justify_content": null,
            "_view_module": "@jupyter-widgets/base",
            "overflow": null,
            "_model_module_version": "1.2.0",
            "_view_count": null,
            "flex_flow": null,
            "width": null,
            "min_width": null,
            "border": null,
            "align_items": null,
            "bottom": null,
            "_model_module": "@jupyter-widgets/base",
            "top": null,
            "grid_column": null,
            "overflow_y": null,
            "overflow_x": null,
            "grid_auto_flow": null,
            "grid_area": null,
            "grid_template_columns": null,
            "flex": null,
            "_model_name": "LayoutModel",
            "justify_items": null,
            "grid_row": null,
            "max_height": null,
            "align_content": null,
            "visibility": null,
            "align_self": null,
            "height": null,
            "min_height": null,
            "padding": null,
            "grid_auto_rows": null,
            "grid_gap": null,
            "max_width": null,
            "order": null,
            "_view_module_version": "1.2.0",
            "grid_template_areas": null,
            "object_position": null,
            "object_fit": null,
            "grid_auto_columns": null,
            "margin": null,
            "display": null,
            "left": null
          }
        },
        "4c568dc0647b4d7da049a9de899a1658": {
          "model_module": "@jupyter-widgets/controls",
          "model_name": "DescriptionStyleModel",
          "state": {
            "_view_name": "StyleView",
            "_model_name": "DescriptionStyleModel",
            "description_width": "",
            "_view_module": "@jupyter-widgets/base",
            "_model_module_version": "1.5.0",
            "_view_count": null,
            "_view_module_version": "1.2.0",
            "_model_module": "@jupyter-widgets/controls"
          }
        },
        "da25521a7bac4d49ba6d2a1290f4c3b0": {
          "model_module": "@jupyter-widgets/base",
          "model_name": "LayoutModel",
          "state": {
            "_view_name": "LayoutView",
            "grid_template_rows": null,
            "right": null,
            "justify_content": null,
            "_view_module": "@jupyter-widgets/base",
            "overflow": null,
            "_model_module_version": "1.2.0",
            "_view_count": null,
            "flex_flow": null,
            "width": null,
            "min_width": null,
            "border": null,
            "align_items": null,
            "bottom": null,
            "_model_module": "@jupyter-widgets/base",
            "top": null,
            "grid_column": null,
            "overflow_y": null,
            "overflow_x": null,
            "grid_auto_flow": null,
            "grid_area": null,
            "grid_template_columns": null,
            "flex": null,
            "_model_name": "LayoutModel",
            "justify_items": null,
            "grid_row": null,
            "max_height": null,
            "align_content": null,
            "visibility": null,
            "align_self": null,
            "height": null,
            "min_height": null,
            "padding": null,
            "grid_auto_rows": null,
            "grid_gap": null,
            "max_width": null,
            "order": null,
            "_view_module_version": "1.2.0",
            "grid_template_areas": null,
            "object_position": null,
            "object_fit": null,
            "grid_auto_columns": null,
            "margin": null,
            "display": null,
            "left": null
          }
        },
        "59db3e3a419843309fbbc62960ec0cff": {
          "model_module": "@jupyter-widgets/controls",
          "model_name": "HBoxModel",
          "state": {
            "_view_name": "HBoxView",
            "_dom_classes": [],
            "_model_name": "HBoxModel",
            "_view_module": "@jupyter-widgets/controls",
            "_model_module_version": "1.5.0",
            "_view_count": null,
            "_view_module_version": "1.5.0",
            "box_style": "",
            "layout": "IPY_MODEL_aa3bdc4c1a4043778371390f74f0e439",
            "_model_module": "@jupyter-widgets/controls",
            "children": [
              "IPY_MODEL_3107d512b2d24f73956a80daef70aafc",
              "IPY_MODEL_998e3f3e495e4cf5a620e433b6bc6706"
            ]
          }
        },
        "aa3bdc4c1a4043778371390f74f0e439": {
          "model_module": "@jupyter-widgets/base",
          "model_name": "LayoutModel",
          "state": {
            "_view_name": "LayoutView",
            "grid_template_rows": null,
            "right": null,
            "justify_content": null,
            "_view_module": "@jupyter-widgets/base",
            "overflow": null,
            "_model_module_version": "1.2.0",
            "_view_count": null,
            "flex_flow": null,
            "width": null,
            "min_width": null,
            "border": null,
            "align_items": null,
            "bottom": null,
            "_model_module": "@jupyter-widgets/base",
            "top": null,
            "grid_column": null,
            "overflow_y": null,
            "overflow_x": null,
            "grid_auto_flow": null,
            "grid_area": null,
            "grid_template_columns": null,
            "flex": null,
            "_model_name": "LayoutModel",
            "justify_items": null,
            "grid_row": null,
            "max_height": null,
            "align_content": null,
            "visibility": null,
            "align_self": null,
            "height": null,
            "min_height": null,
            "padding": null,
            "grid_auto_rows": null,
            "grid_gap": null,
            "max_width": null,
            "order": null,
            "_view_module_version": "1.2.0",
            "grid_template_areas": null,
            "object_position": null,
            "object_fit": null,
            "grid_auto_columns": null,
            "margin": null,
            "display": null,
            "left": null
          }
        },
        "3107d512b2d24f73956a80daef70aafc": {
          "model_module": "@jupyter-widgets/controls",
          "model_name": "FloatProgressModel",
          "state": {
            "_view_name": "ProgressView",
            "style": "IPY_MODEL_d6d2827e181f445b92b52a418d40c336",
            "_dom_classes": [],
            "description": "Downloading: 100%",
            "_model_name": "FloatProgressModel",
            "bar_style": "success",
            "max": 435779157,
            "_view_module": "@jupyter-widgets/controls",
            "_model_module_version": "1.5.0",
            "value": 435779157,
            "_view_count": null,
            "_view_module_version": "1.5.0",
            "orientation": "horizontal",
            "min": 0,
            "description_tooltip": null,
            "_model_module": "@jupyter-widgets/controls",
            "layout": "IPY_MODEL_0f5f3b5a5d0349aa8bdd23cea5510bb2"
          }
        },
        "998e3f3e495e4cf5a620e433b6bc6706": {
          "model_module": "@jupyter-widgets/controls",
          "model_name": "HTMLModel",
          "state": {
            "_view_name": "HTMLView",
            "style": "IPY_MODEL_794e033a9a644954829d4fa4c566b7dd",
            "_dom_classes": [],
            "description": "",
            "_model_name": "HTMLModel",
            "placeholder": "​",
            "_view_module": "@jupyter-widgets/controls",
            "_model_module_version": "1.5.0",
            "value": " 436M/436M [00:14&lt;00:00, 30.9MB/s]",
            "_view_count": null,
            "_view_module_version": "1.5.0",
            "description_tooltip": null,
            "_model_module": "@jupyter-widgets/controls",
            "layout": "IPY_MODEL_864d2677080746039a50cf6d5efad6a3"
          }
        },
        "d6d2827e181f445b92b52a418d40c336": {
          "model_module": "@jupyter-widgets/controls",
          "model_name": "ProgressStyleModel",
          "state": {
            "_view_name": "StyleView",
            "_model_name": "ProgressStyleModel",
            "description_width": "initial",
            "_view_module": "@jupyter-widgets/base",
            "_model_module_version": "1.5.0",
            "_view_count": null,
            "_view_module_version": "1.2.0",
            "bar_color": null,
            "_model_module": "@jupyter-widgets/controls"
          }
        },
        "0f5f3b5a5d0349aa8bdd23cea5510bb2": {
          "model_module": "@jupyter-widgets/base",
          "model_name": "LayoutModel",
          "state": {
            "_view_name": "LayoutView",
            "grid_template_rows": null,
            "right": null,
            "justify_content": null,
            "_view_module": "@jupyter-widgets/base",
            "overflow": null,
            "_model_module_version": "1.2.0",
            "_view_count": null,
            "flex_flow": null,
            "width": null,
            "min_width": null,
            "border": null,
            "align_items": null,
            "bottom": null,
            "_model_module": "@jupyter-widgets/base",
            "top": null,
            "grid_column": null,
            "overflow_y": null,
            "overflow_x": null,
            "grid_auto_flow": null,
            "grid_area": null,
            "grid_template_columns": null,
            "flex": null,
            "_model_name": "LayoutModel",
            "justify_items": null,
            "grid_row": null,
            "max_height": null,
            "align_content": null,
            "visibility": null,
            "align_self": null,
            "height": null,
            "min_height": null,
            "padding": null,
            "grid_auto_rows": null,
            "grid_gap": null,
            "max_width": null,
            "order": null,
            "_view_module_version": "1.2.0",
            "grid_template_areas": null,
            "object_position": null,
            "object_fit": null,
            "grid_auto_columns": null,
            "margin": null,
            "display": null,
            "left": null
          }
        },
        "794e033a9a644954829d4fa4c566b7dd": {
          "model_module": "@jupyter-widgets/controls",
          "model_name": "DescriptionStyleModel",
          "state": {
            "_view_name": "StyleView",
            "_model_name": "DescriptionStyleModel",
            "description_width": "",
            "_view_module": "@jupyter-widgets/base",
            "_model_module_version": "1.5.0",
            "_view_count": null,
            "_view_module_version": "1.2.0",
            "_model_module": "@jupyter-widgets/controls"
          }
        },
        "864d2677080746039a50cf6d5efad6a3": {
          "model_module": "@jupyter-widgets/base",
          "model_name": "LayoutModel",
          "state": {
            "_view_name": "LayoutView",
            "grid_template_rows": null,
            "right": null,
            "justify_content": null,
            "_view_module": "@jupyter-widgets/base",
            "overflow": null,
            "_model_module_version": "1.2.0",
            "_view_count": null,
            "flex_flow": null,
            "width": null,
            "min_width": null,
            "border": null,
            "align_items": null,
            "bottom": null,
            "_model_module": "@jupyter-widgets/base",
            "top": null,
            "grid_column": null,
            "overflow_y": null,
            "overflow_x": null,
            "grid_auto_flow": null,
            "grid_area": null,
            "grid_template_columns": null,
            "flex": null,
            "_model_name": "LayoutModel",
            "justify_items": null,
            "grid_row": null,
            "max_height": null,
            "align_content": null,
            "visibility": null,
            "align_self": null,
            "height": null,
            "min_height": null,
            "padding": null,
            "grid_auto_rows": null,
            "grid_gap": null,
            "max_width": null,
            "order": null,
            "_view_module_version": "1.2.0",
            "grid_template_areas": null,
            "object_position": null,
            "object_fit": null,
            "grid_auto_columns": null,
            "margin": null,
            "display": null,
            "left": null
          }
        }
      }
    }
  },
  "cells": [
    {
      "cell_type": "markdown",
      "metadata": {
        "id": "wmj22-TcZMef"
      },
      "source": [
        "## Setup\n",
        "\n",
        "Install [the Transformers library](https://huggingface.co/transformers/) by Hugging Face:"
      ]
    },
    {
      "cell_type": "code",
      "metadata": {
        "id": "Kj_7Tz0-pK69"
      },
      "source": [
        "!pip install -q -U watermark"
      ],
      "execution_count": 1,
      "outputs": []
    },
    {
      "cell_type": "code",
      "metadata": {
        "id": "Jjsbi1u3QFEM",
        "colab": {
          "base_uri": "https://localhost:8080/"
        },
        "outputId": "0a9f6fab-5e95-4c23-b0a1-7f6faa068b68"
      },
      "source": [
        "!pip install -qq transformers"
      ],
      "execution_count": 2,
      "outputs": [
        {
          "output_type": "stream",
          "text": [
            "\u001b[K     |████████████████████████████████| 2.3MB 10.7MB/s \n",
            "\u001b[K     |████████████████████████████████| 901kB 36.4MB/s \n",
            "\u001b[K     |████████████████████████████████| 3.3MB 35.2MB/s \n",
            "\u001b[?25h"
          ],
          "name": "stdout"
        }
      ]
    },
    {
      "cell_type": "code",
      "metadata": {
        "id": "AJqoaFpVpoM8",
        "colab": {
          "base_uri": "https://localhost:8080/"
        },
        "outputId": "d9f2c11f-dbba-4b30-eafb-35fed257f571"
      },
      "source": [
        "%reload_ext watermark\n",
        "%watermark -v -p numpy,pandas,torch,transformers"
      ],
      "execution_count": 3,
      "outputs": [
        {
          "output_type": "stream",
          "text": [
            "Python implementation: CPython\n",
            "Python version       : 3.7.10\n",
            "IPython version      : 5.5.0\n",
            "\n",
            "numpy       : 1.19.5\n",
            "pandas      : 1.1.5\n",
            "torch       : 1.8.1+cu101\n",
            "transformers: 4.6.1\n",
            "\n"
          ],
          "name": "stdout"
        }
      ]
    },
    {
      "cell_type": "markdown",
      "metadata": {
        "id": "ufzPdoTtNikq"
      },
      "source": [
        "## Data Exploration"
      ]
    },
    {
      "cell_type": "code",
      "metadata": {
        "id": "4hC9JkX8WVuw"
      },
      "source": [
        "import warnings\n",
        "warnings.filterwarnings('ignore')\n",
        "\n",
        "import logging\n",
        "logging.basicConfig(level=logging.ERROR)"
      ],
      "execution_count": 4,
      "outputs": []
    },
    {
      "cell_type": "code",
      "metadata": {
        "id": "mUKLyKc7I6Qp",
        "colab": {
          "base_uri": "https://localhost:8080/",
          "height": 195
        },
        "outputId": "ddb97f0f-363b-4293-f08f-fc43dc7fe6cc"
      },
      "source": [
        "import pandas as pd\n",
        "\n",
        "df_train = pd.read_table(\"/content/twitter-2016train-CE.txt\",sep='\\t|\\n',names=['id','topic','score','text'])\n",
        "df_dev = pd.read_table(\"/content/twitter-2016dev-CE.txt\",sep='\\t|\\n',names=['id','topic','score','text'])\n",
        "df_val = pd.read_table(\"/content/twitter-2016devtest-CE.txt\",sep='\\t|\\n',names=['id','topic','score','text'])\n",
        "df_test = pd.read_table(\"/content/twitter-2016test-CE.txt\",sep='\\t|\\n',names=['id','topic','score','text'])\n",
        "# merge train and dev\n",
        "df_train = pd.concat([df_train,df_dev],axis=0,ignore_index=True)\n",
        "\n",
        "df_train = df_train[~df_train['text'].isin(['Not Available'])]\n",
        "df_val = df_val[~df_val['text'].isin(['Not Available'])]\n",
        "df_test = df_test[~df_test['text'].isin(['Not Available'])]\n",
        "\n",
        "df_train.head()"
      ],
      "execution_count": null,
      "outputs": [
        {
          "output_type": "execute_result",
          "data": {
            "text/html": [
              "<div>\n",
              "<style scoped>\n",
              "    .dataframe tbody tr th:only-of-type {\n",
              "        vertical-align: middle;\n",
              "    }\n",
              "\n",
              "    .dataframe tbody tr th {\n",
              "        vertical-align: top;\n",
              "    }\n",
              "\n",
              "    .dataframe thead th {\n",
              "        text-align: right;\n",
              "    }\n",
              "</style>\n",
              "<table border=\"1\" class=\"dataframe\">\n",
              "  <thead>\n",
              "    <tr style=\"text-align: right;\">\n",
              "      <th></th>\n",
              "      <th>id</th>\n",
              "      <th>topic</th>\n",
              "      <th>score</th>\n",
              "      <th>text</th>\n",
              "    </tr>\n",
              "  </thead>\n",
              "  <tbody>\n",
              "    <tr>\n",
              "      <th>0</th>\n",
              "      <td>628949369883000832</td>\n",
              "      <td>@microsoft</td>\n",
              "      <td>-1</td>\n",
              "      <td>dear @Microsoft the newOoffice for Mac is grea...</td>\n",
              "    </tr>\n",
              "    <tr>\n",
              "      <th>1</th>\n",
              "      <td>628976607420645377</td>\n",
              "      <td>@microsoft</td>\n",
              "      <td>-2</td>\n",
              "      <td>@Microsoft how about you make a system that do...</td>\n",
              "    </tr>\n",
              "    <tr>\n",
              "      <th>4</th>\n",
              "      <td>629186282179153920</td>\n",
              "      <td>@microsoft</td>\n",
              "      <td>0</td>\n",
              "      <td>If I make a game as a #windows10 Universal App...</td>\n",
              "    </tr>\n",
              "    <tr>\n",
              "      <th>5</th>\n",
              "      <td>629226490152914944</td>\n",
              "      <td>@microsoft</td>\n",
              "      <td>1</td>\n",
              "      <td>Microsoft, I may not prefer your gaming branch...</td>\n",
              "    </tr>\n",
              "    <tr>\n",
              "      <th>6</th>\n",
              "      <td>629345637155360768</td>\n",
              "      <td>@microsoft</td>\n",
              "      <td>-1</td>\n",
              "      <td>@MikeWolf1980 @Microsoft I will be downgrading...</td>\n",
              "    </tr>\n",
              "  </tbody>\n",
              "</table>\n",
              "</div>"
            ],
            "text/plain": [
              "                   id  ...                                               text\n",
              "0  628949369883000832  ...  dear @Microsoft the newOoffice for Mac is grea...\n",
              "1  628976607420645377  ...  @Microsoft how about you make a system that do...\n",
              "4  629186282179153920  ...  If I make a game as a #windows10 Universal App...\n",
              "5  629226490152914944  ...  Microsoft, I may not prefer your gaming branch...\n",
              "6  629345637155360768  ...  @MikeWolf1980 @Microsoft I will be downgrading...\n",
              "\n",
              "[5 rows x 4 columns]"
            ]
          },
          "metadata": {
            "tags": []
          },
          "execution_count": 5
        }
      ]
    },
    {
      "cell_type": "markdown",
      "metadata": {
        "id": "9AiAdQ3j6SDe"
      },
      "source": [
        "#### Dataset description."
      ]
    },
    {
      "cell_type": "code",
      "metadata": {
        "colab": {
          "base_uri": "https://localhost:8080/"
        },
        "id": "_L0Pd5I2XhQD",
        "outputId": "cd2d0e30-6004-48d2-e4d7-ac13c176f25d"
      },
      "source": [
        "train_samples = df_train.shape[0]\n",
        "val_samples = df_val.shape[0]\n",
        "test_samples = df_test.shape[0]\n",
        "\n",
        "print(\"Sample Number of train: \", df_train.shape[0])\n",
        "print(\"Sample Number of val: \", df_val.shape[0])\n",
        "print(\"Sample Number of test: \", df_test.shape[0])"
      ],
      "execution_count": null,
      "outputs": [
        {
          "output_type": "stream",
          "text": [
            "Sample Number of train:  6452\n",
            "Sample Number of val:  1622\n",
            "Sample Number of test:  12443\n"
          ],
          "name": "stdout"
        }
      ]
    },
    {
      "cell_type": "code",
      "metadata": {
        "colab": {
          "base_uri": "https://localhost:8080/",
          "height": 282
        },
        "id": "Mn725McIS3pA",
        "outputId": "1c9d1860-a4b1-4082-f160-8e172a5e6b83"
      },
      "source": [
        "def to_sentiment(rating):\n",
        "  rating = int(rating)\n",
        "  if rating == -2:\n",
        "    return 0\n",
        "  elif rating == -1:\n",
        "    return 1\n",
        "  elif rating == 0:\n",
        "    return 2\n",
        "  elif rating == 1:\n",
        "    return 3\n",
        "  else: \n",
        "    return 4\n",
        "\n",
        "df_train['sentiment'] = df_train.score.apply(to_sentiment)\n",
        "df_val['sentiment'] = df_val.score.apply(to_sentiment)\n",
        "df_test['sentiment'] = df_test.score.apply(to_sentiment)\n",
        "df_train.sentiment.plot.hist()"
      ],
      "execution_count": null,
      "outputs": [
        {
          "output_type": "execute_result",
          "data": {
            "text/plain": [
              "<matplotlib.axes._subplots.AxesSubplot at 0x7f18deb1e4d0>"
            ]
          },
          "metadata": {
            "tags": []
          },
          "execution_count": 7
        },
        {
          "output_type": "display_data",
          "data": {
            "image/png": "[encoded data removed]",
            "text/plain": [
              "<Figure size 432x288 with 1 Axes>"
            ]
          },
          "metadata": {
            "tags": [],
            "needs_background": "light"
          }
        }
      ]
    },
    {
      "cell_type": "code",
      "metadata": {
        "colab": {
          "base_uri": "https://localhost:8080/",
          "height": 282
        },
        "id": "Hon-fNhwFJ8v",
        "outputId": "2e88c347-e5b6-4435-ee47-fe68e32cd3f4"
      },
      "source": [
        "lengths = df_train[\"text\"].apply(lambda x : len(x.split(\" \")))\n",
        "lengths.hist()\n",
        "print(\"Max length: \", lengths.max())"
      ],
      "execution_count": null,
      "outputs": [
        {
          "output_type": "stream",
          "text": [
            "Max length:  44\n"
          ],
          "name": "stdout"
        },
        {
          "output_type": "display_data",
          "data": {
            "image/png": "[encoded data removed]",
            "text/plain": [
              "<Figure size 432x288 with 1 Axes>"
            ]
          },
          "metadata": {
            "tags": [],
            "needs_background": "light"
          }
        }
      ]
    },
    {
      "cell_type": "markdown",
      "metadata": {
        "id": "9aHyGuTFgyPO"
      },
      "source": [
        "## Data Preprocessing\n",
        "Load a pre-trained BERT model and the corresponding tokenizer, which converts text data into tokens. \n"
      ]
    },
    {
      "cell_type": "code",
      "metadata": {
        "id": "E7Mj-0ne--5t"
      },
      "source": [
        "PRE_TRAINED_MODEL_NAME = 'bert-base-cased'"
      ],
      "execution_count": 9,
      "outputs": []
    },
    {
      "cell_type": "code",
      "metadata": {
        "id": "H3AfJSZ8NNLF",
        "colab": {
          "base_uri": "https://localhost:8080/",
          "height": 163,
          "referenced_widgets": [
            "1aa08d46bd4b4ae88f6a01b08dcd04d9",
            "b558b54d4701415fae9375f9c9764f25",
            "30a36765f2fd4b5682ae483823b3e39d",
            "ae4c1aaf283b476093ca401083105589",
            "0d7d0c8f2d4d46528962709e6ce5cfbd",
            "ddbc70a59e3944768413c30d5a8b2d35",
            "3416c4191dac4861b7685a1572134598",
            "89f9933441824edeb11bdab933e6a2fd",
            "454647ab8cb54c7bbcb7f02766ae3307",
            "5808a1959b9d459baf844826bc4dfce0",
            "4a129ed765c344c4997a448510d7afee",
            "c2fc3139916b48e1be496ff7b259b6bd",
            "b3b349335fb34ebdba62815b01010cb1",
            "18b3b139f4db42ca92fc1a72a7c630b5",
            "1c596efa32cc47769b1ed097a7ceaeca",
            "fc235e8cdf224e1ebde5e9c9e70f9b6e",
            "2153d9264d084b999ccf52caf0f2f15d",
            "0eef0468fe7441449d19302b2eb9d843",
            "dfc1c40517b1433cb3366b5b4814f0ba",
            "0d9260bbae2941cd854401f9b9eb5c47",
            "e3b2bce67a004fe5a4f618b3be0a31d8",
            "45df5dadcaf845678559e7219a766f44",
            "cc08aa775da94b20b217da0629692c29",
            "2a94b3566ab8404384f777bcadd36d53"
          ]
        },
        "outputId": "5806f88a-b4de-4754-e688-ccde739958a3"
      },
      "source": [
        "import transformers\n",
        "from transformers import BertTokenizer\n",
        "\n",
        "tokenizer = BertTokenizer.from_pretrained(PRE_TRAINED_MODEL_NAME)"
      ],
      "execution_count": 10,
      "outputs": [
        {
          "output_type": "display_data",
          "data": {
            "application/vnd.jupyter.widget-view+json": {
              "model_id": "1aa08d46bd4b4ae88f6a01b08dcd04d9",
              "version_minor": 0,
              "version_major": 2
            },
            "text/plain": [
              "HBox(children=(FloatProgress(value=0.0, description='Downloading', max=213450.0, style=ProgressStyle(descripti…"
            ]
          },
          "metadata": {
            "tags": []
          }
        },
        {
          "output_type": "stream",
          "text": [
            "\n"
          ],
          "name": "stdout"
        },
        {
          "output_type": "display_data",
          "data": {
            "application/vnd.jupyter.widget-view+json": {
              "model_id": "454647ab8cb54c7bbcb7f02766ae3307",
              "version_minor": 0,
              "version_major": 2
            },
            "text/plain": [
              "HBox(children=(FloatProgress(value=0.0, description='Downloading', max=29.0, style=ProgressStyle(description_w…"
            ]
          },
          "metadata": {
            "tags": []
          }
        },
        {
          "output_type": "stream",
          "text": [
            "\n"
          ],
          "name": "stdout"
        },
        {
          "output_type": "display_data",
          "data": {
            "application/vnd.jupyter.widget-view+json": {
              "model_id": "2153d9264d084b999ccf52caf0f2f15d",
              "version_minor": 0,
              "version_major": 2
            },
            "text/plain": [
              "HBox(children=(FloatProgress(value=0.0, description='Downloading', max=435797.0, style=ProgressStyle(descripti…"
            ]
          },
          "metadata": {
            "tags": []
          }
        },
        {
          "output_type": "stream",
          "text": [
            "\n"
          ],
          "name": "stdout"
        }
      ]
    },
    {
      "cell_type": "markdown",
      "metadata": {
        "id": "oW6ajl30t6du"
      },
      "source": [
        "From above we can got that most text in the dataset contain less than around 30 tokens, but let us choose a maximum length of 50."
      ]
    },
    {
      "cell_type": "code",
      "metadata": {
        "id": "t7xSmJtLuoxW"
      },
      "source": [
        "MAX_LEN = 64"
      ],
      "execution_count": 12,
      "outputs": []
    },
    {
      "cell_type": "markdown",
      "metadata": {
        "id": "XvvcoU6nurHy"
      },
      "source": [
        "## Building the dataset"
      ]
    },
    {
      "cell_type": "code",
      "metadata": {
        "id": "E2BPgRJ7YBK0"
      },
      "source": [
        "from torch.utils.data import Dataset\n",
        "\n",
        "class TwitterDataset(Dataset):\n",
        "\n",
        "  def __init__(self, texts, targets, tokenizer, max_len):\n",
        "    self.texts = texts\n",
        "    self.targets = targets\n",
        "    self.tokenizer = tokenizer\n",
        "    self.max_len = max_len\n",
        "  \n",
        "  def __len__(self):\n",
        "    return len(self.texts)\n",
        "  \n",
        "  def __getitem__(self, item):\n",
        "    text = str(self.texts[item])\n",
        "    target = self.targets[item]\n",
        "\n",
        "    encoding = self.tokenizer.encode_plus(\n",
        "      text,\n",
        "      add_special_tokens=True,\n",
        "      max_length=self.max_len,\n",
        "      return_token_type_ids=False,\n",
        "      pad_to_max_length=True,\n",
        "      return_attention_mask=True,\n",
        "      return_tensors='pt',\n",
        "      truncation=True,\n",
        "    )\n",
        "\n",
        "    return {\n",
        "      'text': text,\n",
        "      'input_ids': encoding['input_ids'].flatten(),\n",
        "      'attention_mask': encoding['attention_mask'].flatten(),\n",
        "      'targets': torch.tensor(target, dtype=torch.long)\n",
        "    }"
      ],
      "execution_count": 13,
      "outputs": []
    },
    {
      "cell_type": "code",
      "metadata": {
        "id": "KEGqcvkuOuTX"
      },
      "source": [
        "from torch.utils.data import DataLoader\n",
        "\n",
        "def create_data_loader(df, tokenizer, max_len, batch_size):\n",
        "  ds = TwitterDataset(\n",
        "    texts=df.text.to_numpy(),\n",
        "    targets=df.sentiment.to_numpy(),\n",
        "    tokenizer=tokenizer,\n",
        "    max_len=max_len\n",
        "  )\n",
        "\n",
        "  return DataLoader(\n",
        "    ds,\n",
        "    batch_size=batch_size,\n",
        "    num_workers=4\n",
        "  )"
      ],
      "execution_count": 14,
      "outputs": []
    },
    {
      "cell_type": "code",
      "metadata": {
        "id": "vODDxMKsPHqI"
      },
      "source": [
        "BATCH_SIZE = 64\n",
        "\n",
        "train_data_loader = create_data_loader(df_train, tokenizer, MAX_LEN, BATCH_SIZE)\n",
        "val_data_loader = create_data_loader(df_val, tokenizer, MAX_LEN, BATCH_SIZE)\n",
        "test_data_loader = create_data_loader(df_test, tokenizer, MAX_LEN, BATCH_SIZE)"
      ],
      "execution_count": 15,
      "outputs": []
    },
    {
      "cell_type": "markdown",
      "metadata": {
        "id": "A6dlOptwqlhF"
      },
      "source": [
        "An example batch from training data loader:"
      ]
    },
    {
      "cell_type": "code",
      "metadata": {
        "id": "Y93ldSN47FeT",
        "colab": {
          "base_uri": "https://localhost:8080/"
        },
        "outputId": "2b9ac899-e3e0-4659-8e3d-ca5fb500363c"
      },
      "source": [
        "import torch\n",
        "\n",
        "data = next(iter(train_data_loader))\n",
        "data.keys()\n",
        "print(data['input_ids'].shape)\n",
        "print(data['attention_mask'].shape)\n",
        "print(data['targets'].shape)"
      ],
      "execution_count": null,
      "outputs": [
        {
          "output_type": "stream",
          "text": [
            "torch.Size([64, 50])\n",
            "torch.Size([64, 50])\n",
            "torch.Size([64])\n"
          ],
          "name": "stdout"
        }
      ]
    },
    {
      "cell_type": "markdown",
      "metadata": {
        "id": "440Nd31VTHER"
      },
      "source": [
        "Load the basic [BertModel](https://huggingface.co/transformers/model_doc/bert.html#bertmodel) and build sentiment classifier on top of it. Load the model using:"
      ]
    },
    {
      "cell_type": "code",
      "metadata": {
        "id": "0P41FayISNRI",
        "colab": {
          "base_uri": "https://localhost:8080/",
          "height": 185,
          "referenced_widgets": [
            "a9f8693761674375ab2b2ee2f79fcb56",
            "de820a8c3a5844eaa9da242c3c5cda6f",
            "38f635b34975474fb22a2f136ec70e3c",
            "d18105c5711c4fe3b6aa8c9960f49d18",
            "209a51f47cf645fe8141fae280772a43",
            "4ec696ef7bae4b10bef3ed26a0e15432",
            "4c568dc0647b4d7da049a9de899a1658",
            "da25521a7bac4d49ba6d2a1290f4c3b0",
            "59db3e3a419843309fbbc62960ec0cff",
            "aa3bdc4c1a4043778371390f74f0e439",
            "3107d512b2d24f73956a80daef70aafc",
            "998e3f3e495e4cf5a620e433b6bc6706",
            "d6d2827e181f445b92b52a418d40c336",
            "0f5f3b5a5d0349aa8bdd23cea5510bb2",
            "794e033a9a644954829d4fa4c566b7dd",
            "864d2677080746039a50cf6d5efad6a3"
          ]
        },
        "outputId": "3f4d2863-d25b-4670-e88e-cf38c23f59af"
      },
      "source": [
        "from transformers import BertModel\n",
        "bert_model = BertModel.from_pretrained(PRE_TRAINED_MODEL_NAME)"
      ],
      "execution_count": 17,
      "outputs": [
        {
          "output_type": "display_data",
          "data": {
            "application/vnd.jupyter.widget-view+json": {
              "model_id": "a9f8693761674375ab2b2ee2f79fcb56",
              "version_minor": 0,
              "version_major": 2
            },
            "text/plain": [
              "HBox(children=(FloatProgress(value=0.0, description='Downloading', max=570.0, style=ProgressStyle(description_…"
            ]
          },
          "metadata": {
            "tags": []
          }
        },
        {
          "output_type": "stream",
          "text": [
            "\n"
          ],
          "name": "stdout"
        },
        {
          "output_type": "display_data",
          "data": {
            "application/vnd.jupyter.widget-view+json": {
              "model_id": "59db3e3a419843309fbbc62960ec0cff",
              "version_minor": 0,
              "version_major": 2
            },
            "text/plain": [
              "HBox(children=(FloatProgress(value=0.0, description='Downloading', max=435779157.0, style=ProgressStyle(descri…"
            ]
          },
          "metadata": {
            "tags": []
          }
        },
        {
          "output_type": "stream",
          "text": [
            "\n"
          ],
          "name": "stdout"
        },
        {
          "output_type": "stream",
          "text": [
            "Some weights of the model checkpoint at bert-base-cased were not used when initializing BertModel: ['cls.predictions.transform.dense.weight', 'cls.predictions.transform.LayerNorm.weight', 'cls.seq_relationship.bias', 'cls.predictions.decoder.weight', 'cls.predictions.bias', 'cls.predictions.transform.dense.bias', 'cls.seq_relationship.weight', 'cls.predictions.transform.LayerNorm.bias']\n",
            "- This IS expected if you are initializing BertModel from the checkpoint of a model trained on another task or with another architecture (e.g. initializing a BertForSequenceClassification model from a BertForPreTraining model).\n",
            "- This IS NOT expected if you are initializing BertModel from the checkpoint of a model that you expect to be exactly identical (initializing a BertForSequenceClassification model from a BertForSequenceClassification model).\n"
          ],
          "name": "stderr"
        }
      ]
    },
    {
      "cell_type": "code",
      "metadata": {
        "id": "m_mRflxPl32F"
      },
      "source": [
        "import torch.nn as nn\n",
        "\n",
        "class SentimentClassifier(nn.Module):\n",
        "\n",
        "  def __init__(self, n_classes):\n",
        "    super(SentimentClassifier, self).__init__()\n",
        "    self.bert = BertModel.from_pretrained(PRE_TRAINED_MODEL_NAME)\n",
        "    self.drop = nn.Dropout(p=0.3)\n",
        "    self.out = nn.Linear(self.bert.config.hidden_size, n_classes)\n",
        "  \n",
        "  def forward(self, input_ids, attention_mask):\n",
        "    output = self.bert(\n",
        "      input_ids=input_ids,\n",
        "      attention_mask=attention_mask\n",
        "    )\n",
        "    output = self.drop(output.pooler_output)\n",
        "    return self.out(output)"
      ],
      "execution_count": 18,
      "outputs": []
    },
    {
      "cell_type": "code",
      "metadata": {
        "id": "i0yQnuSFsjDp",
        "colab": {
          "base_uri": "https://localhost:8080/"
        },
        "outputId": "7857aef6-d02c-4e33-818d-6911b45c29d2"
      },
      "source": [
        "model = SentimentClassifier(5)\n",
        "device = torch.device('cuda:0')\n",
        "model = model.to(device)"
      ],
      "execution_count": 19,
      "outputs": [
        {
          "output_type": "stream",
          "text": [
            "Some weights of the model checkpoint at bert-base-cased were not used when initializing BertModel: ['cls.predictions.transform.dense.weight', 'cls.predictions.transform.LayerNorm.weight', 'cls.seq_relationship.bias', 'cls.predictions.decoder.weight', 'cls.predictions.bias', 'cls.predictions.transform.dense.bias', 'cls.seq_relationship.weight', 'cls.predictions.transform.LayerNorm.bias']\n",
            "- This IS expected if you are initializing BertModel from the checkpoint of a model trained on another task or with another architecture (e.g. initializing a BertForSequenceClassification model from a BertForPreTraining model).\n",
            "- This IS NOT expected if you are initializing BertModel from the checkpoint of a model that you expect to be exactly identical (initializing a BertForSequenceClassification model from a BertForSequenceClassification model).\n"
          ],
          "name": "stderr"
        }
      ]
    },
    {
      "cell_type": "code",
      "metadata": {
        "id": "mz7p__CqdaMO"
      },
      "source": [
        "input_ids = data['input_ids'].to(device)\n",
        "attention_mask = data['attention_mask'].to(device)"
      ],
      "execution_count": 20,
      "outputs": []
    },
    {
      "cell_type": "markdown",
      "metadata": {
        "id": "Hr1EgkEtKOIB"
      },
      "source": [
        "To get the predicted probabilities from our trained model, we'll apply the softmax function to the outputs:"
      ]
    },
    {
      "cell_type": "code",
      "metadata": {
        "id": "2rTCj46Zamry",
        "colab": {
          "base_uri": "https://localhost:8080/"
        },
        "outputId": "beb5b5b0-7513-46d4-b0b3-2c7aa568db90"
      },
      "source": [
        "import torch.nn.functional as F\n",
        "\n",
        "F.softmax(model(input_ids, attention_mask), dim=1)"
      ],
      "execution_count": null,
      "outputs": [
        {
          "output_type": "execute_result",
          "data": {
            "text/plain": [
              "tensor([[0.2519, 0.1803, 0.1436, 0.2248, 0.1994],\n",
              "        [0.1414, 0.3559, 0.2395, 0.1263, 0.1369],\n",
              "        [0.2141, 0.2440, 0.1367, 0.2193, 0.1860],\n",
              "        [0.2712, 0.2394, 0.0930, 0.2025, 0.1939],\n",
              "        [0.2177, 0.2354, 0.1173, 0.2739, 0.1556],\n",
              "        [0.1577, 0.1666, 0.2105, 0.2459, 0.2192],\n",
              "        [0.2096, 0.1308, 0.2504, 0.2831, 0.1262],\n",
              "        [0.2418, 0.1685, 0.1186, 0.3217, 0.1494],\n",
              "        [0.2140, 0.2644, 0.1078, 0.2887, 0.1251],\n",
              "        [0.2036, 0.1338, 0.1573, 0.3695, 0.1359],\n",
              "        [0.1684, 0.2406, 0.1589, 0.2616, 0.1704],\n",
              "        [0.2088, 0.1710, 0.1654, 0.3368, 0.1180],\n",
              "        [0.1168, 0.3063, 0.1634, 0.2343, 0.1792],\n",
              "        [0.2067, 0.2922, 0.2015, 0.2032, 0.0963],\n",
              "        [0.2247, 0.2960, 0.1528, 0.1561, 0.1704],\n",
              "        [0.2286, 0.2127, 0.1303, 0.2633, 0.1651],\n",
              "        [0.1748, 0.2371, 0.2163, 0.2854, 0.0864],\n",
              "        [0.1916, 0.3477, 0.1250, 0.2078, 0.1279],\n",
              "        [0.2585, 0.2120, 0.1943, 0.2508, 0.0844],\n",
              "        [0.2709, 0.2681, 0.1005, 0.1593, 0.2011],\n",
              "        [0.2501, 0.1377, 0.1458, 0.3280, 0.1384],\n",
              "        [0.1216, 0.1670, 0.3144, 0.2389, 0.1581],\n",
              "        [0.2539, 0.2481, 0.0550, 0.3583, 0.0847],\n",
              "        [0.1529, 0.2762, 0.2238, 0.1484, 0.1987],\n",
              "        [0.2336, 0.1912, 0.1652, 0.2679, 0.1421],\n",
              "        [0.1651, 0.1509, 0.2142, 0.2600, 0.2098],\n",
              "        [0.2262, 0.1629, 0.2400, 0.2081, 0.1627],\n",
              "        [0.1630, 0.2081, 0.1897, 0.3267, 0.1125],\n",
              "        [0.1459, 0.2332, 0.1129, 0.2975, 0.2105],\n",
              "        [0.1923, 0.2315, 0.1402, 0.2122, 0.2239],\n",
              "        [0.2208, 0.1504, 0.1507, 0.3790, 0.0991],\n",
              "        [0.1452, 0.1080, 0.1958, 0.3825, 0.1685],\n",
              "        [0.1007, 0.3677, 0.1040, 0.2407, 0.1869],\n",
              "        [0.1581, 0.1996, 0.2284, 0.3120, 0.1019],\n",
              "        [0.2285, 0.1440, 0.1931, 0.3261, 0.1082],\n",
              "        [0.2199, 0.2261, 0.1088, 0.2530, 0.1922],\n",
              "        [0.1692, 0.3166, 0.1248, 0.2303, 0.1592],\n",
              "        [0.1658, 0.2271, 0.2140, 0.2969, 0.0963],\n",
              "        [0.1052, 0.2259, 0.2815, 0.2467, 0.1407],\n",
              "        [0.1972, 0.1803, 0.1806, 0.2419, 0.2000],\n",
              "        [0.1987, 0.2186, 0.1333, 0.3186, 0.1307],\n",
              "        [0.2743, 0.2380, 0.1399, 0.1744, 0.1734],\n",
              "        [0.1531, 0.1366, 0.2618, 0.3573, 0.0912],\n",
              "        [0.2599, 0.1826, 0.2140, 0.2515, 0.0920],\n",
              "        [0.2859, 0.2060, 0.1548, 0.1479, 0.2055],\n",
              "        [0.1636, 0.2089, 0.1349, 0.3233, 0.1694],\n",
              "        [0.1867, 0.1931, 0.2202, 0.2930, 0.1070],\n",
              "        [0.1653, 0.2504, 0.0969, 0.2613, 0.2261],\n",
              "        [0.2038, 0.2909, 0.1420, 0.2299, 0.1334],\n",
              "        [0.1874, 0.1621, 0.1776, 0.3356, 0.1373],\n",
              "        [0.1819, 0.1787, 0.3033, 0.2062, 0.1299],\n",
              "        [0.2776, 0.1900, 0.1644, 0.2017, 0.1664],\n",
              "        [0.2308, 0.1609, 0.1207, 0.3584, 0.1292],\n",
              "        [0.1541, 0.2095, 0.1328, 0.3002, 0.2034],\n",
              "        [0.2021, 0.1936, 0.2095, 0.2097, 0.1851],\n",
              "        [0.2302, 0.1923, 0.1514, 0.3066, 0.1194],\n",
              "        [0.1012, 0.2746, 0.2086, 0.2679, 0.1477],\n",
              "        [0.1990, 0.2538, 0.1932, 0.1343, 0.2198],\n",
              "        [0.2202, 0.2452, 0.1311, 0.2444, 0.1591],\n",
              "        [0.2339, 0.1415, 0.1215, 0.3409, 0.1622],\n",
              "        [0.1929, 0.2032, 0.2031, 0.2293, 0.1715],\n",
              "        [0.1994, 0.1621, 0.2054, 0.2312, 0.2019],\n",
              "        [0.2044, 0.1845, 0.2461, 0.2436, 0.1214],\n",
              "        [0.2251, 0.1663, 0.1284, 0.2105, 0.2697]], device='cuda:0',\n",
              "       grad_fn=<SoftmaxBackward>)"
            ]
          },
          "metadata": {
            "tags": []
          },
          "execution_count": 20
        }
      ]
    },
    {
      "cell_type": "markdown",
      "metadata": {
        "id": "g9xikRdtRN1N"
      },
      "source": [
        "## Training"
      ]
    },
    {
      "cell_type": "markdown",
      "metadata": {
        "id": "76g7FV85H-T8"
      },
      "source": [
        "To train the model, we will use the AdamW optimizer and a linear learning-rate scheduler with no warmup steps, along with the cross-entropy loss."
      ]
    },
    {
      "cell_type": "code",
      "metadata": {
        "id": "5v-ArJ2fCCcU"
      },
      "source": [
        "from transformers import AdamW\n",
        "from transformers import get_linear_schedule_with_warmup\n",
        "\n",
        "EPOCHS = 50\n",
        "\n",
        "optimizer = AdamW(model.parameters(), lr=2e-5, correct_bias=False)\n",
        "total_steps = len(train_data_loader) * EPOCHS\n",
        "\n",
        "scheduler = get_linear_schedule_with_warmup(\n",
        "  optimizer,\n",
        "  num_warmup_steps=0,\n",
        "  num_training_steps=total_steps\n",
        ")\n",
        "\n",
        "loss_fn = nn.CrossEntropyLoss().to(device)"
      ],
      "execution_count": 21,
      "outputs": []
    },
    {
      "cell_type": "code",
      "metadata": {
        "id": "bzl9UhuNx1_Q"
      },
      "source": [
        "def train_epoch(\n",
        "  model, \n",
        "  data_loader, \n",
        "  loss_fn, \n",
        "  optimizer, \n",
        "  device, \n",
        "  scheduler, \n",
        "  n_examples\n",
        "):\n",
        "  model = model.train()\n",
        "\n",
        "  losses = []\n",
        "  correct_predictions = 0\n",
        "  \n",
        "  for d in data_loader:    \n",
        "    input_ids = d['input_ids'].to(device)\n",
        "    attention_mask = d['attention_mask'].to(device)\n",
        "    targets = d['targets'].to(device)\n",
        "\n",
        "    outputs = model(\n",
        "      input_ids=input_ids,\n",
        "      attention_mask=attention_mask\n",
        "    )\n",
        "\n",
        "    _, preds = torch.max(outputs, dim=1)\n",
        "    loss = loss_fn(outputs, targets)\n",
        "    #print(loss)\n",
        "    correct_predictions += (preds == targets).float().sum()\n",
        "    \n",
        "    losses.append(loss.item())\n",
        "\n",
        "    loss.backward()\n",
        "    nn.utils.clip_grad_norm_(model.parameters(), max_norm=1.0)\n",
        "    optimizer.step()\n",
        "    scheduler.step()\n",
        "    optimizer.zero_grad()\n",
        "\n",
        "  return correct_predictions.double() / n_examples, np.mean(losses)"
      ],
      "execution_count": 22,
      "outputs": []
    },
    {
      "cell_type": "code",
      "metadata": {
        "id": "CXeRorVGIKre"
      },
      "source": [
        "def eval_model(model, data_loader, loss_fn, device, n_examples):\n",
        "  model = model.eval()\n",
        "  losses = []\n",
        "  correct_predictions = 0\n",
        "  \n",
        "  for d in data_loader: \n",
        "    input_ids = d['input_ids'].to(device)\n",
        "    attention_mask = d['attention_mask'].to(device)\n",
        "    targets = d['targets'].to(device)\n",
        "\n",
        "    \n",
        "    outputs = model(\n",
        "      input_ids=input_ids,\n",
        "      attention_mask=attention_mask\n",
        "    )\n",
        "\n",
        "    _, preds = torch.max(outputs, dim=1)\n",
        "    loss = loss_fn(outputs, targets)\n",
        "\n",
        "    correct_predictions += (preds == targets).float().sum()\n",
        "    losses.append(loss.item())\n",
        "\n",
        "  return correct_predictions.double() / n_examples, np.mean(losses)"
      ],
      "execution_count": 23,
      "outputs": []
    },
    {
      "cell_type": "code",
      "metadata": {
        "id": "1zhHoFNsxufs",
        "colab": {
          "base_uri": "https://localhost:8080/"
        },
        "outputId": "dd6f6235-0d0a-4051-c44e-62b90d1138bf"
      },
      "source": [
        "\n",
        "from collections import defaultdict\n",
        "import numpy as np\n",
        "import warnings\n",
        " \n",
        "warnings.filterwarnings('ignore')\n",
        "\n",
        "history = defaultdict(list)\n",
        "best_accuracy = 0\n",
        "\n",
        "for epoch in range(EPOCHS):\n",
        "\n",
        "  print(f'Epoch {epoch + 1}/{EPOCHS}')\n",
        "  print('-' * 10)\n",
        "\n",
        "  train_acc, train_loss = train_epoch(model, train_data_loader, loss_fn, optimizer, device, scheduler, train_samples)\n",
        "\n",
        "  print(f'Train loss {train_loss} accuracy {train_acc}')\n",
        "\n",
        "  val_acc, val_loss = eval_model(model, val_data_loader, loss_fn, device, val_samples)\n",
        "\n",
        "  print(f'Val   loss {val_loss} accuracy {val_acc}')\n",
        "  print()\n",
        "\n",
        "  history['train_acc'].append(train_acc)\n",
        "  history['train_loss'].append(train_loss)\n",
        "  history['val_acc'].append(val_acc)\n",
        "  history['val_loss'].append(val_loss)\n",
        "\n",
        "  if val_acc >= best_accuracy:\n",
        "    torch.save(model.state_dict(), 'best_model_state.bin')\n",
        "    best_accuracy = val_acc"
      ],
      "execution_count": null,
      "outputs": [
        {
          "output_type": "stream",
          "text": [
            "Epoch 1/50\n",
            "----------\n",
            "Train loss 1.2214831084308058 accuracy 0.4986050836949783\n",
            "Val   loss 1.244799643754959 accuracy 0.5456226880394575\n",
            "\n",
            "Epoch 2/50\n",
            "----------\n",
            "Train loss 1.0451760929409821 accuracy 0.5641661500309981\n",
            "Val   loss 1.1000590737049396 accuracy 0.5431565967940813\n",
            "\n",
            "Epoch 3/50\n",
            "----------\n",
            "Train loss 0.8299141340326555 accuracy 0.6611903285802851\n",
            "Val   loss 1.1796852098061488 accuracy 0.5573366214549939\n",
            "\n",
            "Epoch 4/50\n",
            "----------\n",
            "Train loss 0.656120363143411 accuracy 0.7376007439553627\n",
            "Val   loss 1.2669777021958277 accuracy 0.5431565967940813\n",
            "\n",
            "Epoch 5/50\n",
            "----------\n",
            "Train loss 0.5740956996041949 accuracy 0.7816181029138252\n",
            "Val   loss 1.847510814666748 accuracy 0.44204685573366215\n",
            "\n",
            "Epoch 6/50\n",
            "----------\n",
            "Train loss 0.4175549289303841 accuracy 0.8471791692498449\n",
            "Val   loss 1.7350929975509644 accuracy 0.5382244143033292\n",
            "\n",
            "Epoch 7/50\n",
            "----------\n",
            "Train loss 0.2744139474954936 accuracy 0.9032858028518288\n",
            "Val   loss 1.9189361746494586 accuracy 0.5524044389642417\n",
            "\n",
            "Epoch 8/50\n",
            "----------\n",
            "Train loss 0.19468967079894967 accuracy 0.9376937383756974\n",
            "Val   loss 2.113405773272881 accuracy 0.5363748458692972\n",
            "\n",
            "Epoch 9/50\n",
            "----------\n",
            "Train loss 0.14335960107348342 accuracy 0.9544327340359579\n",
            "Val   loss 2.1909135625912595 accuracy 0.5425400739827374\n",
            "\n",
            "Epoch 10/50\n",
            "----------\n",
            "Train loss 0.09343007235963008 accuracy 0.972101673899566\n",
            "Val   loss 2.3649832698015065 accuracy 0.55980271270037\n",
            "\n",
            "Epoch 11/50\n",
            "----------\n",
            "Train loss 0.09515810777239575 accuracy 0.9666769993800371\n",
            "Val   loss 2.5197149240053616 accuracy 0.5715166461159062\n",
            "\n",
            "Epoch 12/50\n",
            "----------\n",
            "Train loss 0.09267611709183617 accuracy 0.9680719156850589\n",
            "Val   loss 2.777914652457604 accuracy 0.5635018495684341\n",
            "\n",
            "Epoch 13/50\n",
            "----------\n",
            "Train loss 0.09926886011219334 accuracy 0.9685368877867327\n",
            "Val   loss 2.916329475549551 accuracy 0.5536374845869297\n",
            "\n",
            "Epoch 14/50\n",
            "----------\n",
            "Train loss 0.0752564892115182 accuracy 0.9752014879107254\n",
            "Val   loss 2.8276212307123036 accuracy 0.5561035758323059\n",
            "\n",
            "Epoch 15/50\n",
            "----------\n",
            "Train loss 0.05759373829771516 accuracy 0.9820210787352759\n",
            "Val   loss 2.820617299813491 accuracy 0.5388409371146733\n",
            "\n",
            "Epoch 16/50\n",
            "----------\n",
            "Train loss 0.030569283583888433 accuracy 0.9914755114693118\n",
            "Val   loss 2.965155106324416 accuracy 0.5561035758323059\n",
            "\n",
            "Epoch 17/50\n",
            "----------\n",
            "Train loss 0.0288697925568005 accuracy 0.9925604463732176\n",
            "Val   loss 3.1651059755912194 accuracy 0.5536374845869297\n",
            "\n",
            "Epoch 18/50\n",
            "----------\n",
            "Train loss 0.027432025660354974 accuracy 0.9934903905765654\n",
            "Val   loss 3.1357001662254333 accuracy 0.5499383477188656\n",
            "\n",
            "Epoch 19/50\n",
            "----------\n",
            "Train loss 0.023718194685078752 accuracy 0.9942653440793552\n",
            "Val   loss 3.0292667884093065 accuracy 0.561652281134402\n",
            "\n",
            "Epoch 20/50\n",
            "----------\n",
            "Train loss 0.017485343539075337 accuracy 0.9950402975821451\n",
            "Val   loss 3.10871958732605 accuracy 0.5517879161528977\n",
            "\n",
            "Epoch 21/50\n",
            "----------\n",
            "Train loss 0.01502117170579962 accuracy 0.9959702417854929\n",
            "Val   loss 3.18135929107666 accuracy 0.5672009864364982\n",
            "\n",
            "Epoch 22/50\n",
            "----------\n",
            "Train loss 0.01432345031315719 accuracy 0.9959702417854929\n",
            "Val   loss 3.1484832763671875 accuracy 0.5653514180024661\n",
            "\n",
            "Epoch 23/50\n",
            "----------\n",
            "Train loss 0.016429306561758946 accuracy 0.995195288282703\n",
            "Val   loss 3.1961528888115516 accuracy 0.5585696670776819\n",
            "\n",
            "Epoch 24/50\n",
            "----------\n",
            "Train loss 0.012152086554664546 accuracy 0.995350278983261\n",
            "Val   loss 3.257640847792992 accuracy 0.5554870530209618\n",
            "\n",
            "Epoch 25/50\n",
            "----------\n",
            "Train loss 0.01166257346861553 accuracy 0.9959702417854929\n",
            "Val   loss 3.285554363177373 accuracy 0.56288532675709\n",
            "\n",
            "Epoch 26/50\n",
            "----------\n",
            "Train loss 0.015058030067173081 accuracy 0.995350278983261\n",
            "Val   loss 3.2839086605952335 accuracy 0.5659679408138101\n",
            "\n",
            "Epoch 27/50\n",
            "----------\n",
            "Train loss 0.010659453548412622 accuracy 0.9959702417854929\n",
            "Val   loss 3.3376582310749936 accuracy 0.561652281134402\n",
            "\n",
            "Epoch 28/50\n",
            "----------\n",
            "Train loss 0.009973740812459048 accuracy 0.9962802231866088\n",
            "Val   loss 3.3715195105626035 accuracy 0.5604192355117139\n",
            "\n",
            "Epoch 29/50\n",
            "----------\n",
            "Train loss 0.010175153368301366 accuracy 0.9958152510849348\n",
            "Val   loss 3.4406165159665623 accuracy 0.56288532675709\n",
            "\n",
            "Epoch 30/50\n",
            "----------\n",
            "Train loss 0.0092473503553463 accuracy 0.9962802231866088\n",
            "Val   loss 3.4224644899368286 accuracy 0.5678175092478421\n",
            "\n",
            "Epoch 31/50\n",
            "----------\n",
            "Train loss 0.0075765518635271655 accuracy 0.9962802231866088\n",
            "Val   loss 3.4418650682155905 accuracy 0.56288532675709\n",
            "\n",
            "Epoch 32/50\n",
            "----------\n",
            "Train loss 0.008751307448025304 accuracy 0.9959702417854929\n",
            "Val   loss 3.4450762363580556 accuracy 0.564118372379778\n",
            "\n",
            "Epoch 33/50\n",
            "----------\n",
            "Train loss 0.00917016374627889 accuracy 0.9956602603843769\n",
            "Val   loss 3.4519812235465417 accuracy 0.5678175092478421\n",
            "\n",
            "Epoch 34/50\n",
            "----------\n",
            "Train loss 0.00671655687619932 accuracy 0.9967451952882826\n",
            "Val   loss 3.4322603940963745 accuracy 0.5653514180024661\n",
            "\n",
            "Epoch 35/50\n",
            "----------\n",
            "Train loss 0.0067176556353437675 accuracy 0.9964352138871667\n",
            "Val   loss 3.4785985946655273 accuracy 0.5665844636251541\n",
            "\n",
            "Epoch 36/50\n",
            "----------\n",
            "Train loss 0.006888957541882024 accuracy 0.9962802231866088\n",
            "Val   loss 3.4782288532990675 accuracy 0.5591861898890259\n",
            "\n",
            "Epoch 37/50\n",
            "----------\n",
            "Train loss 0.006447557101817456 accuracy 0.9965902045877247\n",
            "Val   loss 3.5099931955337524 accuracy 0.5604192355117139\n",
            "\n",
            "Epoch 38/50\n",
            "----------\n",
            "Train loss 0.007111832203495081 accuracy 0.9964352138871667\n",
            "Val   loss 3.522171515684861 accuracy 0.5604192355117139\n",
            "\n",
            "Epoch 39/50\n",
            "----------\n",
            "Train loss 0.005049662036206896 accuracy 0.9967451952882826\n",
            "Val   loss 3.583514745418842 accuracy 0.5647348951911221\n",
            "\n",
            "Epoch 40/50\n",
            "----------\n",
            "Train loss 0.005495915356876518 accuracy 0.9965902045877247\n",
            "Val   loss 3.585190534591675 accuracy 0.56288532675709\n",
            "\n",
            "Epoch 41/50\n",
            "----------\n",
            "Train loss 0.0058572191254744116 accuracy 0.9972101673899566\n",
            "Val   loss 3.5860579839119544 accuracy 0.5573366214549939\n",
            "\n",
            "Epoch 42/50\n",
            "----------\n",
            "Train loss 0.004620301827461583 accuracy 0.9970551766893986\n",
            "Val   loss 3.6107075947981615 accuracy 0.5573366214549939\n",
            "\n",
            "Epoch 43/50\n",
            "----------\n",
            "Train loss 0.005227180511853773 accuracy 0.9972101673899566\n",
            "Val   loss 3.6054115845606876 accuracy 0.5561035758323059\n",
            "\n",
            "Epoch 44/50\n",
            "----------\n",
            "Train loss 0.005226191458229487 accuracy 0.9969001859888407\n",
            "Val   loss 3.6069725568477926 accuracy 0.5561035758323059\n",
            "\n",
            "Epoch 45/50\n",
            "----------\n",
            "Train loss 0.0043719915606428425 accuracy 0.9972101673899566\n",
            "Val   loss 3.6256699837171116 accuracy 0.5573366214549939\n",
            "\n",
            "Epoch 46/50\n",
            "----------\n",
            "Train loss 0.004850852597414949 accuracy 0.9973651580905145\n",
            "Val   loss 3.626087894806495 accuracy 0.55980271270037\n",
            "\n",
            "Epoch 47/50\n",
            "----------\n",
            "Train loss 0.005164022618166452 accuracy 0.9965902045877247\n",
            "Val   loss 3.6438460166637716 accuracy 0.55980271270037\n",
            "\n",
            "Epoch 48/50\n",
            "----------\n",
            "Train loss 0.003947927821416057 accuracy 0.9979851208927464\n",
            "Val   loss 3.6534606493436375 accuracy 0.561652281134402\n",
            "\n",
            "Epoch 49/50\n",
            "----------\n",
            "Train loss 0.004374130313327343 accuracy 0.9972101673899566\n",
            "Val   loss 3.6576714790784397 accuracy 0.5604192355117139\n",
            "\n",
            "Epoch 50/50\n",
            "----------\n",
            "Train loss 0.0043570242205803 accuracy 0.9972101673899566\n",
            "Val   loss 3.6600505938896766 accuracy 0.561035758323058\n",
            "\n"
          ],
          "name": "stdout"
        }
      ]
    },
    {
      "cell_type": "code",
      "metadata": {
        "id": "-FWG7kBm372V",
        "colab": {
          "base_uri": "https://localhost:8080/",
          "height": 296
        },
        "outputId": "c7a7b34d-9460-4e0b-a7c1-8042d41df37d"
      },
      "source": [
        "import matplotlib.pyplot as plt\n",
        "\n",
        "epochNum = np.arange(1,51)\n",
        "train_acc = history['train_acc']\n",
        "val_acc = history['val_acc']\n",
        "plt.plot(epochNum, train_acc, label='Train')\n",
        "plt.plot(epochNum, val_acc, label='Validation')\n",
        "plt.xlabel(\"Epoch\") \n",
        "plt.ylabel(\"Accuracy\") \n",
        "plt.legend()"
      ],
      "execution_count": null,
      "outputs": [
        {
          "output_type": "execute_result",
          "data": {
            "text/plain": [
              "<matplotlib.legend.Legend at 0x7f184547d610>"
            ]
          },
          "metadata": {
            "tags": []
          },
          "execution_count": 26
        },
        {
          "output_type": "display_data",
          "data": {
            "image/png": "[encoded data removed]",
            "text/plain": [
              "<Figure size 432x288 with 1 Axes>"
            ]
          },
          "metadata": {
            "tags": [],
            "needs_background": "light"
          }
        }
      ]
    },
    {
      "cell_type": "code",
      "metadata": {
        "colab": {
          "base_uri": "https://localhost:8080/",
          "height": 296
        },
        "id": "z13BLMwl9xM3",
        "outputId": "47fcad93-f123-40fb-9b30-ce4466910022"
      },
      "source": [
        "train_loss = history['train_loss']\n",
        "val_loss = history['val_loss']\n",
        "plt.plot(epochNum, train_loss, label='Train')\n",
        "plt.plot(epochNum, val_loss, label='Validation')\n",
        "plt.xlabel(\"Epoch\") \n",
        "plt.ylabel(\"Loss\") \n",
        "plt.legend()"
      ],
      "execution_count": null,
      "outputs": [
        {
          "output_type": "execute_result",
          "data": {
            "text/plain": [
              "<matplotlib.legend.Legend at 0x7f18453eae90>"
            ]
          },
          "metadata": {
            "tags": []
          },
          "execution_count": 27
        },
        {
          "output_type": "display_data",
          "data": {
            "image/png": "[encoded data removed]",
            "text/plain": [
              "<Figure size 432x288 with 1 Axes>"
            ]
          },
          "metadata": {
            "tags": [],
            "needs_background": "light"
          }
        }
      ]
    },
    {
      "cell_type": "markdown",
      "metadata": {
        "id": "U3HZb3NWFtFf"
      },
      "source": [
        "## Evaluation"
      ]
    },
    {
      "cell_type": "code",
      "metadata": {
        "id": "EgR6MuNS8jr_"
      },
      "source": [
        "def get_predictions(model, data_loader):\n",
        "  model = model.eval()\n",
        "  \n",
        "  review_texts = []\n",
        "  predictions = []\n",
        "  prediction_probs = []\n",
        "  real_values = []\n",
        "\n",
        "  with torch.no_grad():\n",
        "    for d in data_loader:\n",
        "\n",
        "      #texts = d[\"review_text\"]\n",
        "      input_ids = d[\"input_ids\"].to(device)\n",
        "      attention_mask = d[\"attention_mask\"].to(device)\n",
        "      targets = d[\"targets\"].to(device)\n",
        "\n",
        "      outputs = model(\n",
        "        input_ids=input_ids,\n",
        "        attention_mask=attention_mask\n",
        "      )\n",
        "      _, preds = torch.max(outputs, dim=1)\n",
        "\n",
        "      #probs = F.softmax(outputs, dim=1)\n",
        "\n",
        "      #review_texts.extend(texts)\n",
        "      predictions.extend(preds)\n",
        "      #prediction_probs.extend(probs)\n",
        "      real_values.extend(targets)\n",
        "\n",
        "  predictions = torch.stack(predictions).cpu()\n",
        "  #prediction_probs = torch.stack(prediction_probs).cpu()\n",
        "  real_values = torch.stack(real_values).cpu()\n",
        "  #return review_texts, predictions, prediction_probs, real_values\n",
        "  return predictions, real_values"
      ],
      "execution_count": 29,
      "outputs": []
    },
    {
      "cell_type": "code",
      "metadata": {
        "id": "zHdPZr60-0c_"
      },
      "source": [
        "model.load_state_dict(torch.load('best_model_state.bin'))\n",
        "y_pred, y_test = get_predictions(\n",
        "  model,\n",
        "  test_data_loader\n",
        ")"
      ],
      "execution_count": null,
      "outputs": []
    },
    {
      "cell_type": "code",
      "metadata": {
        "colab": {
          "base_uri": "https://localhost:8080/"
        },
        "id": "8ur239sX-THJ",
        "outputId": "762761e8-52ac-4ed1-c70e-cdf5a0c10dca"
      },
      "source": [
        "correct_predictions = (y_pred == y_test).float().sum()\n",
        "test_acc = correct_predictions.double() / test_samples\n",
        "print(\"Test Accuracy: \", test_acc.item())"
      ],
      "execution_count": null,
      "outputs": [
        {
          "output_type": "stream",
          "text": [
            "Test Accuracy:  0.5339548340432372\n"
          ],
          "name": "stdout"
        }
      ]
    },
    {
      "cell_type": "code",
      "metadata": {
        "id": "6d1qxsc__DTh",
        "colab": {
          "base_uri": "https://localhost:8080/",
          "height": 396
        },
        "outputId": "af27bff8-6ed3-401a-ff39-8fd0e821adfd"
      },
      "source": [
        "from sklearn.metrics import confusion_matrix\n",
        "\n",
        "cm = confusion_matrix(y_test,y_pred)\n",
        "print(cm)\n",
        "cm = cm.astype('float')/cm.sum(axis=1)[:,np.newaxis]\n",
        "plt.imshow(cm, interpolation='nearest')\n",
        "plt.title(\"Confusion Matrix\")\n",
        "plt.colorbar()\n",
        "num_local = np.array(range(5))    \n",
        "plt.xticks(num_local, [-2,-1,0,1,2])\n",
        "plt.yticks(num_local, [-2,-1,0,1,2])\n",
        "plt.ylabel('True Sentiment')    \n",
        "plt.xlabel('Predicted Sentiment')"
      ],
      "execution_count": null,
      "outputs": [
        {
          "output_type": "stream",
          "text": [
            "[[   1   34   25   11    0]\n",
            " [   3  210  710  348    1]\n",
            " [   1  181 2212 3587   16]\n",
            " [   1   31  480 4166  171]\n",
            " [   0    2    6  191   55]]\n"
          ],
          "name": "stdout"
        },
        {
          "output_type": "execute_result",
          "data": {
            "text/plain": [
              "Text(0.5, 0, 'Predicted Sentiment')"
            ]
          },
          "metadata": {
            "tags": []
          },
          "execution_count": 35
        },
        {
          "output_type": "display_data",
          "data": {
            "image/png": "[encoded data removed]",
            "text/plain": [
              "<Figure size 432x288 with 2 Axes>"
            ]
          },
          "metadata": {
            "tags": [],
            "needs_background": "light"
          }
        }
      ]
    },
    {
      "cell_type": "markdown",
      "metadata": {
        "id": "2M68Dqzm6iY7"
      },
      "source": [
        "## Experiment with merge data"
      ]
    },
    {
      "cell_type": "code",
      "metadata": {
        "colab": {
          "base_uri": "https://localhost:8080/",
          "height": 195
        },
        "id": "ek38abRl6hsV",
        "outputId": "cbd1480e-54f0-421b-baf0-de146b47b8f4"
      },
      "source": [
        "import pandas as pd\n",
        "\n",
        "df_train = pd.read_csv('/content/merge_train.tsv',sep='\\t')\n",
        "df_val = pd.read_csv('/content/merge_val.tsv',sep='\\t')\n",
        "df_test = pd.read_csv('/content/merge_test.tsv',sep='\\t')\n",
        "\n",
        "df_train.head()"
      ],
      "execution_count": 5,
      "outputs": [
        {
          "output_type": "execute_result",
          "data": {
            "text/html": [
              "<div>\n",
              "<style scoped>\n",
              "    .dataframe tbody tr th:only-of-type {\n",
              "        vertical-align: middle;\n",
              "    }\n",
              "\n",
              "    .dataframe tbody tr th {\n",
              "        vertical-align: top;\n",
              "    }\n",
              "\n",
              "    .dataframe thead th {\n",
              "        text-align: right;\n",
              "    }\n",
              "</style>\n",
              "<table border=\"1\" class=\"dataframe\">\n",
              "  <thead>\n",
              "    <tr style=\"text-align: right;\">\n",
              "      <th></th>\n",
              "      <th>id</th>\n",
              "      <th>topic</th>\n",
              "      <th>score</th>\n",
              "      <th>text</th>\n",
              "    </tr>\n",
              "  </thead>\n",
              "  <tbody>\n",
              "    <tr>\n",
              "      <th>0</th>\n",
              "      <td>629379067578609664</td>\n",
              "      <td>paper towns</td>\n",
              "      <td>1</td>\n",
              "      <td>I went to see Paper Towns as a way to get away...</td>\n",
              "    </tr>\n",
              "    <tr>\n",
              "      <th>1</th>\n",
              "      <td>634868347969122304</td>\n",
              "      <td>george osborne</td>\n",
              "      <td>0</td>\n",
              "      <td>@JTOverath @rockpapershot watch out for George...</td>\n",
              "    </tr>\n",
              "    <tr>\n",
              "      <th>2</th>\n",
              "      <td>681476407243874304</td>\n",
              "      <td>milan</td>\n",
              "      <td>0</td>\n",
              "      <td>Rome, Milan clamp down on cars as smog smother...</td>\n",
              "    </tr>\n",
              "    <tr>\n",
              "      <th>3</th>\n",
              "      <td>638966974203060224</td>\n",
              "      <td>ps4</td>\n",
              "      <td>1</td>\n",
              "      <td>@zar_es95 Uhh, PS1 and PS2 but like the 2nd sm...</td>\n",
              "    </tr>\n",
              "    <tr>\n",
              "      <th>4</th>\n",
              "      <td>629637846668849152</td>\n",
              "      <td>chuck norris</td>\n",
              "      <td>0</td>\n",
              "      <td>If Chuck Norris is telling you to relax on #Fr...</td>\n",
              "    </tr>\n",
              "  </tbody>\n",
              "</table>\n",
              "</div>"
            ],
            "text/plain": [
              "                   id  ...                                               text\n",
              "0  629379067578609664  ...  I went to see Paper Towns as a way to get away...\n",
              "1  634868347969122304  ...  @JTOverath @rockpapershot watch out for George...\n",
              "2  681476407243874304  ...  Rome, Milan clamp down on cars as smog smother...\n",
              "3  638966974203060224  ...  @zar_es95 Uhh, PS1 and PS2 but like the 2nd sm...\n",
              "4  629637846668849152  ...  If Chuck Norris is telling you to relax on #Fr...\n",
              "\n",
              "[5 rows x 4 columns]"
            ]
          },
          "metadata": {
            "tags": []
          },
          "execution_count": 5
        }
      ]
    },
    {
      "cell_type": "code",
      "metadata": {
        "id": "4czqgaCy-5_D",
        "colab": {
          "base_uri": "https://localhost:8080/"
        },
        "outputId": "676b3199-cc75-414a-af36-343fb04162fd"
      },
      "source": [
        "train_samples = df_train.shape[0]\n",
        "val_samples = df_val.shape[0]\n",
        "test_samples = df_test.shape[0]\n",
        "\n",
        "print(\"Sample Number of train: \", df_train.shape[0])\n",
        "print(\"Sample Number of val: \", df_val.shape[0])\n",
        "print(\"Sample Number of test: \", df_test.shape[0])"
      ],
      "execution_count": 6,
      "outputs": [
        {
          "output_type": "stream",
          "text": [
            "Sample Number of train:  18465\n",
            "Sample Number of val:  1026\n",
            "Sample Number of test:  1026\n"
          ],
          "name": "stdout"
        }
      ]
    },
    {
      "cell_type": "code",
      "metadata": {
        "colab": {
          "base_uri": "https://localhost:8080/",
          "height": 282
        },
        "id": "27wdjLU47xlR",
        "outputId": "0886d521-2320-4f20-84be-c1fe75d60f3b"
      },
      "source": [
        "def to_sentiment(rating):\n",
        "  rating = int(rating)\n",
        "  if rating == -2:\n",
        "    return 0\n",
        "  elif rating == -1:\n",
        "    return 1\n",
        "  elif rating == 0:\n",
        "    return 2\n",
        "  elif rating == 1:\n",
        "    return 3\n",
        "  else: \n",
        "    return 4\n",
        "\n",
        "df_train['sentiment'] = df_train.score.apply(to_sentiment)\n",
        "df_val['sentiment'] = df_val.score.apply(to_sentiment)\n",
        "df_test['sentiment'] = df_test.score.apply(to_sentiment)\n",
        "df_train.sentiment.plot.hist()"
      ],
      "execution_count": 7,
      "outputs": [
        {
          "output_type": "execute_result",
          "data": {
            "text/plain": [
              "<matplotlib.axes._subplots.AxesSubplot at 0x7f4e366d2d90>"
            ]
          },
          "metadata": {
            "tags": []
          },
          "execution_count": 7
        },
        {
          "output_type": "display_data",
          "data": {
            "image/png": "[encoded data removed]",
            "text/plain": [
              "<Figure size 432x288 with 1 Axes>"
            ]
          },
          "metadata": {
            "tags": [],
            "needs_background": "light"
          }
        }
      ]
    },
    {
      "cell_type": "code",
      "metadata": {
        "colab": {
          "base_uri": "https://localhost:8080/",
          "height": 282
        },
        "id": "8qLJ2ieU71yS",
        "outputId": "89eee01f-6a24-4903-c21a-985df4dee74a"
      },
      "source": [
        "lengths = df_train[\"text\"].apply(lambda x : len(x.split(\" \")))\n",
        "lengths.hist()\n",
        "print(\"Max length: \", lengths.max())"
      ],
      "execution_count": 8,
      "outputs": [
        {
          "output_type": "stream",
          "text": [
            "Max length:  51\n"
          ],
          "name": "stdout"
        },
        {
          "output_type": "display_data",
          "data": {
            "image/png": "[encoded data removed]",
            "text/plain": [
              "<Figure size 432x288 with 1 Axes>"
            ]
          },
          "metadata": {
            "tags": [],
            "needs_background": "light"
          }
        }
      ]
    },
    {
      "cell_type": "code",
      "metadata": {
        "colab": {
          "base_uri": "https://localhost:8080/"
        },
        "id": "5SZHEiec75V9",
        "outputId": "e9fff5b5-6c3a-4214-f24f-7f42ef980a41"
      },
      "source": [
        "import torch\n",
        "\n",
        "data = next(iter(train_data_loader))\n",
        "data.keys()\n",
        "print(data['input_ids'].shape)\n",
        "print(data['attention_mask'].shape)\n",
        "print(data['targets'].shape)"
      ],
      "execution_count": 16,
      "outputs": [
        {
          "output_type": "stream",
          "text": [
            "torch.Size([64, 64])\n",
            "torch.Size([64, 64])\n",
            "torch.Size([64])\n"
          ],
          "name": "stdout"
        }
      ]
    },
    {
      "cell_type": "code",
      "metadata": {
        "colab": {
          "base_uri": "https://localhost:8080/",
          "height": 1000
        },
        "id": "ZvM9E9G38Hxm",
        "outputId": "1fa1671e-8db3-4341-c5e7-3e11e19be168"
      },
      "source": [
        "import torch.nn.functional as F\n",
        "from collections import defaultdict\n",
        "import numpy as np\n",
        "import warnings\n",
        " \n",
        "warnings.filterwarnings('ignore')\n",
        "\n",
        "history = defaultdict(list)\n",
        "best_accuracy = 0\n",
        "\n",
        "for epoch in range(EPOCHS):\n",
        "\n",
        "  print(f'Epoch {epoch + 1}/{EPOCHS}')\n",
        "  print('-' * 10)\n",
        "\n",
        "  train_acc, train_loss = train_epoch(model, train_data_loader, loss_fn, optimizer, device, scheduler, train_samples)\n",
        "\n",
        "  print(f'Train loss {train_loss} accuracy {train_acc}')\n",
        "\n",
        "  val_acc, val_loss = eval_model(model, val_data_loader, loss_fn, device, val_samples)\n",
        "\n",
        "  print(f'Val   loss {val_loss} accuracy {val_acc}')\n",
        "  print()\n",
        "\n",
        "  history['train_acc'].append(train_acc)\n",
        "  history['train_loss'].append(train_loss)\n",
        "  history['val_acc'].append(val_acc)\n",
        "  history['val_loss'].append(val_loss)\n",
        "\n",
        "  if val_acc >= best_accuracy:\n",
        "    torch.save(model.state_dict(), 'best_model_state.bin')\n",
        "    best_accuracy = val_acc"
      ],
      "execution_count": 24,
      "outputs": [
        {
          "output_type": "stream",
          "text": [
            "Epoch 1/50\n",
            "----------\n",
            "Train loss 0.9305017406965209 accuracy 0.5932304359599242\n",
            "Val   loss 0.830311936490676 accuracy 0.6549707602339181\n",
            "\n",
            "Epoch 2/50\n",
            "----------\n",
            "Train loss 0.6555192835603206 accuracy 0.7286217167614406\n",
            "Val   loss 0.852868560482474 accuracy 0.6432748538011696\n",
            "\n",
            "Epoch 3/50\n",
            "----------\n",
            "Train loss 0.44317007363873784 accuracy 0.82767397779583\n",
            "Val   loss 1.0514501175459694 accuracy 0.6218323586744638\n",
            "\n",
            "Epoch 4/50\n",
            "----------\n",
            "Train loss 0.29960377207573724 accuracy 0.8916869753587869\n",
            "Val   loss 1.2666479243951685 accuracy 0.6228070175438596\n",
            "\n",
            "Epoch 5/50\n",
            "----------\n",
            "Train loss 0.2007015339230996 accuracy 0.930625507717303\n",
            "Val   loss 1.3905460475122227 accuracy 0.6296296296296295\n",
            "\n",
            "Epoch 6/50\n",
            "----------\n",
            "Train loss 0.13705644906727293 accuracy 0.9542377470890875\n",
            "Val   loss 1.5588973460390287 accuracy 0.6325536062378168\n",
            "\n",
            "Epoch 7/50\n",
            "----------\n",
            "Train loss 0.10564212817988748 accuracy 0.9642567018683996\n",
            "Val   loss 1.6803318945800556 accuracy 0.6374269005847952\n",
            "\n",
            "Epoch 8/50\n",
            "----------\n",
            "Train loss 0.10195933865499279 accuracy 0.9672894665583537\n",
            "Val   loss 1.7394629576626945 accuracy 0.6364522417153996\n",
            "\n",
            "Epoch 9/50\n",
            "----------\n",
            "Train loss 0.082024537076832 accuracy 0.972596804765773\n",
            "Val   loss 1.8531048446893692 accuracy 0.638401559454191\n",
            "\n",
            "Epoch 10/50\n",
            "----------\n",
            "Train loss 0.06932727537266137 accuracy 0.9777416734362308\n",
            "Val   loss 1.8257822971243192 accuracy 0.6500974658869395\n",
            "\n",
            "Epoch 11/50\n",
            "----------\n",
            "Train loss 0.05412845491475158 accuracy 0.9826157595450853\n",
            "Val   loss 2.059952332473853 accuracy 0.6452241715399609\n",
            "\n",
            "Epoch 12/50\n",
            "----------\n",
            "Train loss 0.05621740397728116 accuracy 0.9836447332791768\n",
            "Val   loss 2.0759017528856503 accuracy 0.638401559454191\n",
            "\n",
            "Epoch 13/50\n",
            "----------\n",
            "Train loss 0.04551517946571498 accuracy 0.9861900893582454\n",
            "Val   loss 2.189586595577352 accuracy 0.652046783625731\n",
            "\n",
            "Epoch 14/50\n",
            "----------\n",
            "Train loss 0.03840785481460283 accuracy 0.9888979149742757\n",
            "Val   loss 2.1911080570562795 accuracy 0.6530214424951266\n",
            "\n",
            "Epoch 15/50\n",
            "----------\n",
            "Train loss 0.03329004152217931 accuracy 0.989818575683726\n",
            "Val   loss 2.2630324539016273 accuracy 0.6539961013645224\n",
            "\n",
            "Epoch 16/50\n",
            "----------\n",
            "Train loss 0.033228538307050325 accuracy 0.9891145410235581\n",
            "Val   loss 2.3504390514948788 accuracy 0.6442495126705653\n",
            "\n",
            "Epoch 17/50\n",
            "----------\n",
            "Train loss 0.031386625493903225 accuracy 0.9914974275656647\n",
            "Val   loss 2.424988622612813 accuracy 0.6423001949317738\n",
            "\n",
            "Epoch 18/50\n",
            "----------\n",
            "Train loss 0.024840487554451052 accuracy 0.9923097752504739\n",
            "Val   loss 2.500884946654825 accuracy 0.6461988304093567\n",
            "\n",
            "Epoch 19/50\n",
            "----------\n",
            "Train loss 0.025324626504197863 accuracy 0.9914974275656647\n",
            "Val   loss 2.5386494531789245 accuracy 0.6471734892787524\n",
            "\n",
            "Epoch 20/50\n",
            "----------\n",
            "Train loss 0.022290966514406152 accuracy 0.9925805578120769\n",
            "Val   loss 2.6362071677165875 accuracy 0.6500974658869395\n",
            "\n",
            "Epoch 21/50\n",
            "----------\n",
            "Train loss 0.023383718082148768 accuracy 0.9926888708367181\n",
            "Val   loss 2.633744756965076 accuracy 0.6549707602339181\n",
            "\n",
            "Epoch 22/50\n",
            "----------\n",
            "Train loss 0.018199083725892604 accuracy 0.9933387489845654\n",
            "Val   loss 2.6827460454009913 accuracy 0.6481481481481481\n",
            "\n",
            "Epoch 23/50\n",
            "----------\n"
          ],
          "name": "stdout"
        },
        {
          "output_type": "error",
          "ename": "KeyboardInterrupt",
          "evalue": "ignored",
          "traceback": [
            "\u001b[0;31m---------------------------------------------------------------------------\u001b[0m",
            "\u001b[0;31mKeyboardInterrupt\u001b[0m                         Traceback (most recent call last)",
            "\u001b[0;32m<ipython-input-24-16b013f84fc0>\u001b[0m in \u001b[0;36m<module>\u001b[0;34m()\u001b[0m\n\u001b[1;32m     14\u001b[0m   \u001b[0mprint\u001b[0m\u001b[0;34m(\u001b[0m\u001b[0;34m'-'\u001b[0m \u001b[0;34m*\u001b[0m \u001b[0;36m10\u001b[0m\u001b[0;34m)\u001b[0m\u001b[0;34m\u001b[0m\u001b[0;34m\u001b[0m\u001b[0m\n\u001b[1;32m     15\u001b[0m \u001b[0;34m\u001b[0m\u001b[0m\n\u001b[0;32m---> 16\u001b[0;31m   \u001b[0mtrain_acc\u001b[0m\u001b[0;34m,\u001b[0m \u001b[0mtrain_loss\u001b[0m \u001b[0;34m=\u001b[0m \u001b[0mtrain_epoch\u001b[0m\u001b[0;34m(\u001b[0m\u001b[0mmodel\u001b[0m\u001b[0;34m,\u001b[0m \u001b[0mtrain_data_loader\u001b[0m\u001b[0;34m,\u001b[0m \u001b[0mloss_fn\u001b[0m\u001b[0;34m,\u001b[0m \u001b[0moptimizer\u001b[0m\u001b[0;34m,\u001b[0m \u001b[0mdevice\u001b[0m\u001b[0;34m,\u001b[0m \u001b[0mscheduler\u001b[0m\u001b[0;34m,\u001b[0m \u001b[0mtrain_samples\u001b[0m\u001b[0;34m)\u001b[0m\u001b[0;34m\u001b[0m\u001b[0;34m\u001b[0m\u001b[0m\n\u001b[0m\u001b[1;32m     17\u001b[0m \u001b[0;34m\u001b[0m\u001b[0m\n\u001b[1;32m     18\u001b[0m   \u001b[0mprint\u001b[0m\u001b[0;34m(\u001b[0m\u001b[0;34mf'Train loss {train_loss} accuracy {train_acc}'\u001b[0m\u001b[0;34m)\u001b[0m\u001b[0;34m\u001b[0m\u001b[0;34m\u001b[0m\u001b[0m\n",
            "\u001b[0;32m<ipython-input-22-f2c2ae585857>\u001b[0m in \u001b[0;36mtrain_epoch\u001b[0;34m(model, data_loader, loss_fn, optimizer, device, scheduler, n_examples)\u001b[0m\n\u001b[1;32m     28\u001b[0m     \u001b[0mcorrect_predictions\u001b[0m \u001b[0;34m+=\u001b[0m \u001b[0;34m(\u001b[0m\u001b[0mpreds\u001b[0m \u001b[0;34m==\u001b[0m \u001b[0mtargets\u001b[0m\u001b[0;34m)\u001b[0m\u001b[0;34m.\u001b[0m\u001b[0mfloat\u001b[0m\u001b[0;34m(\u001b[0m\u001b[0;34m)\u001b[0m\u001b[0;34m.\u001b[0m\u001b[0msum\u001b[0m\u001b[0;34m(\u001b[0m\u001b[0;34m)\u001b[0m\u001b[0;34m\u001b[0m\u001b[0;34m\u001b[0m\u001b[0m\n\u001b[1;32m     29\u001b[0m \u001b[0;34m\u001b[0m\u001b[0m\n\u001b[0;32m---> 30\u001b[0;31m     \u001b[0mlosses\u001b[0m\u001b[0;34m.\u001b[0m\u001b[0mappend\u001b[0m\u001b[0;34m(\u001b[0m\u001b[0mloss\u001b[0m\u001b[0;34m.\u001b[0m\u001b[0mitem\u001b[0m\u001b[0;34m(\u001b[0m\u001b[0;34m)\u001b[0m\u001b[0;34m)\u001b[0m\u001b[0;34m\u001b[0m\u001b[0;34m\u001b[0m\u001b[0m\n\u001b[0m\u001b[1;32m     31\u001b[0m \u001b[0;34m\u001b[0m\u001b[0m\n\u001b[1;32m     32\u001b[0m     \u001b[0mloss\u001b[0m\u001b[0;34m.\u001b[0m\u001b[0mbackward\u001b[0m\u001b[0;34m(\u001b[0m\u001b[0;34m)\u001b[0m\u001b[0;34m\u001b[0m\u001b[0;34m\u001b[0m\u001b[0m\n",
            "\u001b[0;31mKeyboardInterrupt\u001b[0m: "
          ]
        }
      ]
    },
    {
      "cell_type": "code",
      "metadata": {
        "colab": {
          "base_uri": "https://localhost:8080/",
          "height": 296
        },
        "id": "RI-OL0yT8k8F",
        "outputId": "3dfbddf8-05a9-4ca5-bf34-8448435c1dd7"
      },
      "source": [
        "import matplotlib.pyplot as plt\n",
        "\n",
        "epochNum = np.arange(1,23)\n",
        "train_acc = history['train_acc']\n",
        "val_acc = history['val_acc']\n",
        "plt.plot(epochNum, train_acc, label='Train')\n",
        "plt.plot(epochNum, val_acc, label='Validation')\n",
        "plt.xlabel(\"Epoch\") \n",
        "plt.ylabel(\"Accuracy\") \n",
        "plt.legend()"
      ],
      "execution_count": 26,
      "outputs": [
        {
          "output_type": "execute_result",
          "data": {
            "text/plain": [
              "<matplotlib.legend.Legend at 0x7f4df525ea10>"
            ]
          },
          "metadata": {
            "tags": []
          },
          "execution_count": 26
        },
        {
          "output_type": "display_data",
          "data": {
            "image/png": "[encoded data removed]",
            "text/plain": [
              "<Figure size 432x288 with 1 Axes>"
            ]
          },
          "metadata": {
            "tags": [],
            "needs_background": "light"
          }
        }
      ]
    },
    {
      "cell_type": "code",
      "metadata": {
        "colab": {
          "base_uri": "https://localhost:8080/",
          "height": 296
        },
        "id": "wgtu06bJ8k8Q",
        "outputId": "9dea2444-85df-47eb-9f77-f6f294f6353f"
      },
      "source": [
        "train_loss = history['train_loss']\n",
        "val_loss = history['val_loss']\n",
        "plt.plot(epochNum, train_loss, label='Train')\n",
        "plt.plot(epochNum, val_loss, label='Validation')\n",
        "plt.xlabel(\"Epoch\") \n",
        "plt.ylabel(\"Loss\") \n",
        "plt.legend()"
      ],
      "execution_count": 27,
      "outputs": [
        {
          "output_type": "execute_result",
          "data": {
            "text/plain": [
              "<matplotlib.legend.Legend at 0x7f4df4fef710>"
            ]
          },
          "metadata": {
            "tags": []
          },
          "execution_count": 27
        },
        {
          "output_type": "display_data",
          "data": {
            "image/png": "[encoded data removed]",
            "text/plain": [
              "<Figure size 432x288 with 1 Axes>"
            ]
          },
          "metadata": {
            "tags": [],
            "needs_background": "light"
          }
        }
      ]
    },
    {
      "cell_type": "code",
      "metadata": {
        "id": "d4b2L9bl8uAL"
      },
      "source": [
        "model.load_state_dict(torch.load('best_model_state.bin'))\n",
        "y_pred, y_test = get_predictions(\n",
        "  model,\n",
        "  test_data_loader\n",
        ")"
      ],
      "execution_count": 30,
      "outputs": []
    },
    {
      "cell_type": "code",
      "metadata": {
        "colab": {
          "base_uri": "https://localhost:8080/"
        },
        "id": "2QVDXWnn8uAM",
        "outputId": "f79ba386-2026-40b4-e502-95c89eb507d6"
      },
      "source": [
        "correct_predictions = (y_pred == y_test).float().sum()\n",
        "test_acc = correct_predictions.double() / test_samples\n",
        "print(\"Test Accuracy: \", test_acc.item())"
      ],
      "execution_count": 31,
      "outputs": [
        {
          "output_type": "stream",
          "text": [
            "Test Accuracy:  0.6423001949317739\n"
          ],
          "name": "stdout"
        }
      ]
    },
    {
      "cell_type": "code",
      "metadata": {
        "colab": {
          "base_uri": "https://localhost:8080/",
          "height": 396
        },
        "id": "Lr4DiWwX8uAM",
        "outputId": "5a8d9f34-2c9b-41f7-a919-2c47988efec2"
      },
      "source": [
        "from sklearn.metrics import confusion_matrix\n",
        "\n",
        "cm = confusion_matrix(y_test,y_pred)\n",
        "print(cm)\n",
        "cm = cm.astype('float')/cm.sum(axis=1)[:,np.newaxis]\n",
        "plt.imshow(cm, interpolation='nearest')\n",
        "plt.title(\"Confusion Matrix\")\n",
        "plt.colorbar()\n",
        "num_local = np.array(range(5))    \n",
        "plt.xticks(num_local, [-2,-1,0,1,2])\n",
        "plt.yticks(num_local, [-2,-1,0,1,2])\n",
        "plt.ylabel('True Sentiment')    \n",
        "plt.xlabel('Predicted Sentiment')"
      ],
      "execution_count": 32,
      "outputs": [
        {
          "output_type": "stream",
          "text": [
            "[[  0   8   2   1   0]\n",
            " [  1  59  61  10   0]\n",
            " [  0  43 279  99   2]\n",
            " [  0   8  94 317  16]\n",
            " [  0   0   1  21   4]]\n"
          ],
          "name": "stdout"
        },
        {
          "output_type": "execute_result",
          "data": {
            "text/plain": [
              "Text(0.5, 0, 'Predicted Sentiment')"
            ]
          },
          "metadata": {
            "tags": []
          },
          "execution_count": 32
        },
        {
          "output_type": "display_data",
          "data": {
            "image/png": "[encoded data removed]",
            "text/plain": [
              "<Figure size 432x288 with 2 Axes>"
            ]
          },
          "metadata": {
            "tags": [],
            "needs_background": "light"
          }
        }
      ]
    },
    {
      "cell_type": "code",
      "metadata": {
        "id": "CYcUQlZTcsag"
      },
      "source": [
        ""
      ],
      "execution_count": null,
      "outputs": []
    }
  ]
}