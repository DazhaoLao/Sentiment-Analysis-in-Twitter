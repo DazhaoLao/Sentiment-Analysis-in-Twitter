{
  "nbformat": 4,
  "nbformat_minor": 0,
  "metadata": {
    "colab": {
      "name": "Twitter Sentiment Analysis with Bert.ipynb",
      "provenance": [],
      "collapsed_sections": [],
      "toc_visible": true
    },
    "kernelspec": {
      "name": "python3",
      "display_name": "Python 3"
    },
    "accelerator": "GPU"
  },
  "cells": [
    {
      "cell_type": "markdown",
      "metadata": {
        "id": "wmj22-TcZMef"
      },
      "source": [
        "## Setup\n",
        "\n",
        "Install [the Transformers library](https://huggingface.co/transformers/) by Hugging Face:"
      ]
    },
    {
      "cell_type": "code",
      "metadata": {
        "id": "Kj_7Tz0-pK69"
      },
      "source": [
        "!pip install -q -U watermark"
      ],
      "execution_count": 1,
      "outputs": []
    },
    {
      "cell_type": "code",
      "metadata": {
        "id": "Jjsbi1u3QFEM"
      },
      "source": [
        "!pip install -qq transformers"
      ],
      "execution_count": 2,
      "outputs": []
    },
    {
      "cell_type": "code",
      "metadata": {
        "id": "AJqoaFpVpoM8",
        "colab": {
          "base_uri": "https://localhost:8080/"
        },
        "outputId": "35c2263f-4667-44e0-96d9-1a6dbfe0ac0a"
      },
      "source": [
        "%reload_ext watermark\n",
        "%watermark -v -p numpy,pandas,torch,transformers"
      ],
      "execution_count": 3,
      "outputs": [
        {
          "output_type": "stream",
          "text": [
            "Python implementation: CPython\n",
            "Python version       : 3.7.10\n",
            "IPython version      : 5.5.0\n",
            "\n",
            "numpy       : 1.19.5\n",
            "pandas      : 1.1.5\n",
            "torch       : 1.8.1+cu101\n",
            "transformers: 4.6.0\n",
            "\n"
          ],
          "name": "stdout"
        }
      ]
    },
    {
      "cell_type": "markdown",
      "metadata": {
        "id": "ufzPdoTtNikq"
      },
      "source": [
        "## Data Exploration"
      ]
    },
    {
      "cell_type": "code",
      "metadata": {
        "id": "4hC9JkX8WVuw"
      },
      "source": [
        "import warnings\n",
        "warnings.filterwarnings('ignore')\n",
        "\n",
        "import logging\n",
        "logging.basicConfig(level=logging.ERROR)"
      ],
      "execution_count": 4,
      "outputs": []
    },
    {
      "cell_type": "code",
      "metadata": {
        "id": "mUKLyKc7I6Qp",
        "colab": {
          "base_uri": "https://localhost:8080/",
          "height": 195
        },
        "outputId": "ddb97f0f-363b-4293-f08f-fc43dc7fe6cc"
      },
      "source": [
        "import pandas as pd\n",
        "\n",
        "df_train = pd.read_table(\"/content/twitter-2016train-CE.txt\",sep='\\t|\\n',names=['id','topic','score','text'])\n",
        "df_dev = pd.read_table(\"/content/twitter-2016dev-CE.txt\",sep='\\t|\\n',names=['id','topic','score','text'])\n",
        "df_val = pd.read_table(\"/content/twitter-2016devtest-CE.txt\",sep='\\t|\\n',names=['id','topic','score','text'])\n",
        "df_test = pd.read_table(\"/content/twitter-2016test-CE.txt\",sep='\\t|\\n',names=['id','topic','score','text'])\n",
        "# merge train and dev\n",
        "df_train = pd.concat([df_train,df_dev],axis=0,ignore_index=True)\n",
        "\n",
        "df_train = df_train[~df_train['text'].isin(['Not Available'])]\n",
        "df_val = df_val[~df_val['text'].isin(['Not Available'])]\n",
        "df_test = df_test[~df_test['text'].isin(['Not Available'])]\n",
        "\n",
        "df_train.head()"
      ],
      "execution_count": 5,
      "outputs": [
        {
          "output_type": "execute_result",
          "data": {
            "text/html": [
              "<div>\n",
              "<style scoped>\n",
              "    .dataframe tbody tr th:only-of-type {\n",
              "        vertical-align: middle;\n",
              "    }\n",
              "\n",
              "    .dataframe tbody tr th {\n",
              "        vertical-align: top;\n",
              "    }\n",
              "\n",
              "    .dataframe thead th {\n",
              "        text-align: right;\n",
              "    }\n",
              "</style>\n",
              "<table border=\"1\" class=\"dataframe\">\n",
              "  <thead>\n",
              "    <tr style=\"text-align: right;\">\n",
              "      <th></th>\n",
              "      <th>id</th>\n",
              "      <th>topic</th>\n",
              "      <th>score</th>\n",
              "      <th>text</th>\n",
              "    </tr>\n",
              "  </thead>\n",
              "  <tbody>\n",
              "    <tr>\n",
              "      <th>0</th>\n",
              "      <td>628949369883000832</td>\n",
              "      <td>@microsoft</td>\n",
              "      <td>-1</td>\n",
              "      <td>dear @Microsoft the newOoffice for Mac is grea...</td>\n",
              "    </tr>\n",
              "    <tr>\n",
              "      <th>1</th>\n",
              "      <td>628976607420645377</td>\n",
              "      <td>@microsoft</td>\n",
              "      <td>-2</td>\n",
              "      <td>@Microsoft how about you make a system that do...</td>\n",
              "    </tr>\n",
              "    <tr>\n",
              "      <th>4</th>\n",
              "      <td>629186282179153920</td>\n",
              "      <td>@microsoft</td>\n",
              "      <td>0</td>\n",
              "      <td>If I make a game as a #windows10 Universal App...</td>\n",
              "    </tr>\n",
              "    <tr>\n",
              "      <th>5</th>\n",
              "      <td>629226490152914944</td>\n",
              "      <td>@microsoft</td>\n",
              "      <td>1</td>\n",
              "      <td>Microsoft, I may not prefer your gaming branch...</td>\n",
              "    </tr>\n",
              "    <tr>\n",
              "      <th>6</th>\n",
              "      <td>629345637155360768</td>\n",
              "      <td>@microsoft</td>\n",
              "      <td>-1</td>\n",
              "      <td>@MikeWolf1980 @Microsoft I will be downgrading...</td>\n",
              "    </tr>\n",
              "  </tbody>\n",
              "</table>\n",
              "</div>"
            ],
            "text/plain": [
              "                   id  ...                                               text\n",
              "0  628949369883000832  ...  dear @Microsoft the newOoffice for Mac is grea...\n",
              "1  628976607420645377  ...  @Microsoft how about you make a system that do...\n",
              "4  629186282179153920  ...  If I make a game as a #windows10 Universal App...\n",
              "5  629226490152914944  ...  Microsoft, I may not prefer your gaming branch...\n",
              "6  629345637155360768  ...  @MikeWolf1980 @Microsoft I will be downgrading...\n",
              "\n",
              "[5 rows x 4 columns]"
            ]
          },
          "metadata": {
            "tags": []
          },
          "execution_count": 5
        }
      ]
    },
    {
      "cell_type": "markdown",
      "metadata": {
        "id": "9AiAdQ3j6SDe"
      },
      "source": [
        "Dataset description."
      ]
    },
    {
      "cell_type": "code",
      "metadata": {
        "colab": {
          "base_uri": "https://localhost:8080/"
        },
        "id": "_L0Pd5I2XhQD",
        "outputId": "cd2d0e30-6004-48d2-e4d7-ac13c176f25d"
      },
      "source": [
        "train_samples = df_train.shape[0]\n",
        "val_samples = df_val.shape[0]\n",
        "test_samples = df_test.shape[0]\n",
        "\n",
        "print(\"Sample Number of train: \", df_train.shape[0])\n",
        "print(\"Sample Number of val: \", df_val.shape[0])\n",
        "print(\"Sample Number of test: \", df_test.shape[0])"
      ],
      "execution_count": 6,
      "outputs": [
        {
          "output_type": "stream",
          "text": [
            "Sample Number of train:  6452\n",
            "Sample Number of val:  1622\n",
            "Sample Number of test:  12443\n"
          ],
          "name": "stdout"
        }
      ]
    },
    {
      "cell_type": "code",
      "metadata": {
        "colab": {
          "base_uri": "https://localhost:8080/",
          "height": 282
        },
        "id": "Mn725McIS3pA",
        "outputId": "1c9d1860-a4b1-4082-f160-8e172a5e6b83"
      },
      "source": [
        "def to_sentiment(rating):\n",
        "  rating = int(rating)\n",
        "  if rating == -2:\n",
        "    return 0\n",
        "  elif rating == -1:\n",
        "    return 1\n",
        "  elif rating == 0:\n",
        "    return 2\n",
        "  elif rating == 1:\n",
        "    return 3\n",
        "  else: \n",
        "    return 4\n",
        "\n",
        "df_train['sentiment'] = df_train.score.apply(to_sentiment)\n",
        "df_val['sentiment'] = df_val.score.apply(to_sentiment)\n",
        "df_test['sentiment'] = df_test.score.apply(to_sentiment)\n",
        "df_train.sentiment.plot.hist()"
      ],
      "execution_count": 7,
      "outputs": [
        {
          "output_type": "execute_result",
          "data": {
            "text/plain": [
              "<matplotlib.axes._subplots.AxesSubplot at 0x7f18deb1e4d0>"
            ]
          },
          "metadata": {
            "tags": []
          },
          "execution_count": 7
        },
        {
          "output_type": "display_data",
          "data": {
            "image/png": "[encoded data removed]",
            "text/plain": [
              "<Figure size 432x288 with 1 Axes>"
            ]
          },
          "metadata": {
            "tags": [],
            "needs_background": "light"
          }
        }
      ]
    },
    {
      "cell_type": "code",
      "metadata": {
        "colab": {
          "base_uri": "https://localhost:8080/",
          "height": 282
        },
        "id": "Hon-fNhwFJ8v",
        "outputId": "2e88c347-e5b6-4435-ee47-fe68e32cd3f4"
      },
      "source": [
        "lengths = df_train[\"text\"].apply(lambda x : len(x.split(\" \")))\n",
        "lengths.hist()\n",
        "print(\"Max length: \", lengths.max())"
      ],
      "execution_count": 8,
      "outputs": [
        {
          "output_type": "stream",
          "text": [
            "Max length:  44\n"
          ],
          "name": "stdout"
        },
        {
          "output_type": "display_data",
          "data": {
            "image/png": "[encoded data removed]",
            "text/plain": [
              "<Figure size 432x288 with 1 Axes>"
            ]
          },
          "metadata": {
            "tags": [],
            "needs_background": "light"
          }
        }
      ]
    },
    {
      "cell_type": "markdown",
      "metadata": {
        "id": "9aHyGuTFgyPO"
      },
      "source": [
        "## Data Preprocessing\n",
        "Load a pre-trained BERT model and the corresponding tokenizer, which converts text data into tokens. \n"
      ]
    },
    {
      "cell_type": "code",
      "metadata": {
        "id": "E7Mj-0ne--5t"
      },
      "source": [
        "PRE_TRAINED_MODEL_NAME = 'bert-base-cased'"
      ],
      "execution_count": 9,
      "outputs": []
    },
    {
      "cell_type": "code",
      "metadata": {
        "id": "H3AfJSZ8NNLF"
      },
      "source": [
        "import transformers\n",
        "from transformers import BertTokenizer\n",
        "\n",
        "tokenizer = BertTokenizer.from_pretrained(PRE_TRAINED_MODEL_NAME)"
      ],
      "execution_count": 10,
      "outputs": []
    },
    {
      "cell_type": "markdown",
      "metadata": {
        "id": "oW6ajl30t6du"
      },
      "source": [
        "From above we can got that most text in the dataset contain less than around 30 tokens, but let us choose a maximum length of 50."
      ]
    },
    {
      "cell_type": "code",
      "metadata": {
        "id": "t7xSmJtLuoxW"
      },
      "source": [
        "MAX_LEN = 50"
      ],
      "execution_count": 11,
      "outputs": []
    },
    {
      "cell_type": "markdown",
      "metadata": {
        "id": "XvvcoU6nurHy"
      },
      "source": [
        "## Building the dataset"
      ]
    },
    {
      "cell_type": "code",
      "metadata": {
        "id": "E2BPgRJ7YBK0"
      },
      "source": [
        "from torch.utils.data import Dataset\n",
        "\n",
        "class TwitterDataset(Dataset):\n",
        "\n",
        "  def __init__(self, texts, targets, tokenizer, max_len):\n",
        "    self.texts = texts\n",
        "    self.targets = targets\n",
        "    self.tokenizer = tokenizer\n",
        "    self.max_len = max_len\n",
        "  \n",
        "  def __len__(self):\n",
        "    return len(self.texts)\n",
        "  \n",
        "  def __getitem__(self, item):\n",
        "    text = str(self.texts[item])\n",
        "    target = self.targets[item]\n",
        "\n",
        "    encoding = self.tokenizer.encode_plus(\n",
        "      text,\n",
        "      add_special_tokens=True,\n",
        "      max_length=self.max_len,\n",
        "      return_token_type_ids=False,\n",
        "      pad_to_max_length=True,\n",
        "      return_attention_mask=True,\n",
        "      return_tensors='pt',\n",
        "      truncation=True,\n",
        "    )\n",
        "\n",
        "    return {\n",
        "      'text': text,\n",
        "      'input_ids': encoding['input_ids'].flatten(),\n",
        "      'attention_mask': encoding['attention_mask'].flatten(),\n",
        "      'targets': torch.tensor(target, dtype=torch.long)\n",
        "    }"
      ],
      "execution_count": 12,
      "outputs": []
    },
    {
      "cell_type": "code",
      "metadata": {
        "id": "KEGqcvkuOuTX"
      },
      "source": [
        "from torch.utils.data import DataLoader\n",
        "\n",
        "def create_data_loader(df, tokenizer, max_len, batch_size):\n",
        "  ds = TwitterDataset(\n",
        "    texts=df.text.to_numpy(),\n",
        "    targets=df.sentiment.to_numpy(),\n",
        "    tokenizer=tokenizer,\n",
        "    max_len=max_len\n",
        "  )\n",
        "\n",
        "  return DataLoader(\n",
        "    ds,\n",
        "    batch_size=batch_size,\n",
        "    num_workers=4\n",
        "  )"
      ],
      "execution_count": 13,
      "outputs": []
    },
    {
      "cell_type": "code",
      "metadata": {
        "id": "vODDxMKsPHqI"
      },
      "source": [
        "BATCH_SIZE = 64\n",
        "\n",
        "train_data_loader = create_data_loader(df_train, tokenizer, MAX_LEN, BATCH_SIZE)\n",
        "val_data_loader = create_data_loader(df_val, tokenizer, MAX_LEN, BATCH_SIZE)\n",
        "test_data_loader = create_data_loader(df_test, tokenizer, MAX_LEN, BATCH_SIZE)"
      ],
      "execution_count": 14,
      "outputs": []
    },
    {
      "cell_type": "markdown",
      "metadata": {
        "id": "A6dlOptwqlhF"
      },
      "source": [
        "An example batch from training data loader:"
      ]
    },
    {
      "cell_type": "code",
      "metadata": {
        "id": "Y93ldSN47FeT",
        "colab": {
          "base_uri": "https://localhost:8080/"
        },
        "outputId": "2b9ac899-e3e0-4659-8e3d-ca5fb500363c"
      },
      "source": [
        "import torch\n",
        "\n",
        "data = next(iter(train_data_loader))\n",
        "data.keys()\n",
        "print(data['input_ids'].shape)\n",
        "print(data['attention_mask'].shape)\n",
        "print(data['targets'].shape)"
      ],
      "execution_count": 15,
      "outputs": [
        {
          "output_type": "stream",
          "text": [
            "torch.Size([64, 50])\n",
            "torch.Size([64, 50])\n",
            "torch.Size([64])\n"
          ],
          "name": "stdout"
        }
      ]
    },
    {
      "cell_type": "markdown",
      "metadata": {
        "id": "440Nd31VTHER"
      },
      "source": [
        "Load the basic [BertModel](https://huggingface.co/transformers/model_doc/bert.html#bertmodel) and build sentiment classifier on top of it. Load the model using:"
      ]
    },
    {
      "cell_type": "code",
      "metadata": {
        "id": "0P41FayISNRI",
        "colab": {
          "base_uri": "https://localhost:8080/"
        },
        "outputId": "750bb23c-d67c-4cde-8bb2-ae979a5d2545"
      },
      "source": [
        "from transformers import BertModel\n",
        "bert_model = BertModel.from_pretrained(PRE_TRAINED_MODEL_NAME)"
      ],
      "execution_count": 16,
      "outputs": [
        {
          "output_type": "stream",
          "text": [
            "Some weights of the model checkpoint at bert-base-cased were not used when initializing BertModel: ['cls.predictions.decoder.weight', 'cls.predictions.bias', 'cls.predictions.transform.LayerNorm.bias', 'cls.predictions.transform.LayerNorm.weight', 'cls.seq_relationship.weight', 'cls.predictions.transform.dense.weight', 'cls.seq_relationship.bias', 'cls.predictions.transform.dense.bias']\n",
            "- This IS expected if you are initializing BertModel from the checkpoint of a model trained on another task or with another architecture (e.g. initializing a BertForSequenceClassification model from a BertForPreTraining model).\n",
            "- This IS NOT expected if you are initializing BertModel from the checkpoint of a model that you expect to be exactly identical (initializing a BertForSequenceClassification model from a BertForSequenceClassification model).\n"
          ],
          "name": "stderr"
        }
      ]
    },
    {
      "cell_type": "code",
      "metadata": {
        "id": "m_mRflxPl32F"
      },
      "source": [
        "import torch.nn as nn\n",
        "\n",
        "class SentimentClassifier(nn.Module):\n",
        "\n",
        "  def __init__(self, n_classes):\n",
        "    super(SentimentClassifier, self).__init__()\n",
        "    self.bert = BertModel.from_pretrained(PRE_TRAINED_MODEL_NAME)\n",
        "    self.drop = nn.Dropout(p=0.3)\n",
        "    self.out = nn.Linear(self.bert.config.hidden_size, n_classes)\n",
        "  \n",
        "  def forward(self, input_ids, attention_mask):\n",
        "    output = self.bert(\n",
        "      input_ids=input_ids,\n",
        "      attention_mask=attention_mask\n",
        "    )\n",
        "    output = self.drop(output.pooler_output)\n",
        "    return self.out(output)"
      ],
      "execution_count": 17,
      "outputs": []
    },
    {
      "cell_type": "code",
      "metadata": {
        "id": "i0yQnuSFsjDp",
        "colab": {
          "base_uri": "https://localhost:8080/"
        },
        "outputId": "6532ee38-a572-479b-bf58-2bfa2f002a0c"
      },
      "source": [
        "model = SentimentClassifier(5)\n",
        "device = torch.device('cuda:0')\n",
        "model = model.to(device)"
      ],
      "execution_count": 18,
      "outputs": [
        {
          "output_type": "stream",
          "text": [
            "Some weights of the model checkpoint at bert-base-cased were not used when initializing BertModel: ['cls.predictions.decoder.weight', 'cls.predictions.bias', 'cls.predictions.transform.LayerNorm.bias', 'cls.predictions.transform.LayerNorm.weight', 'cls.seq_relationship.weight', 'cls.predictions.transform.dense.weight', 'cls.seq_relationship.bias', 'cls.predictions.transform.dense.bias']\n",
            "- This IS expected if you are initializing BertModel from the checkpoint of a model trained on another task or with another architecture (e.g. initializing a BertForSequenceClassification model from a BertForPreTraining model).\n",
            "- This IS NOT expected if you are initializing BertModel from the checkpoint of a model that you expect to be exactly identical (initializing a BertForSequenceClassification model from a BertForSequenceClassification model).\n"
          ],
          "name": "stderr"
        }
      ]
    },
    {
      "cell_type": "code",
      "metadata": {
        "id": "mz7p__CqdaMO"
      },
      "source": [
        "input_ids = data['input_ids'].to(device)\n",
        "attention_mask = data['attention_mask'].to(device)"
      ],
      "execution_count": 19,
      "outputs": []
    },
    {
      "cell_type": "markdown",
      "metadata": {
        "id": "Hr1EgkEtKOIB"
      },
      "source": [
        "To get the predicted probabilities from our trained model, we'll apply the softmax function to the outputs:"
      ]
    },
    {
      "cell_type": "code",
      "metadata": {
        "id": "2rTCj46Zamry",
        "colab": {
          "base_uri": "https://localhost:8080/"
        },
        "outputId": "beb5b5b0-7513-46d4-b0b3-2c7aa568db90"
      },
      "source": [
        "import torch.nn.functional as F\n",
        "\n",
        "F.softmax(model(input_ids, attention_mask), dim=1)"
      ],
      "execution_count": 20,
      "outputs": [
        {
          "output_type": "execute_result",
          "data": {
            "text/plain": [
              "tensor([[0.2519, 0.1803, 0.1436, 0.2248, 0.1994],\n",
              "        [0.1414, 0.3559, 0.2395, 0.1263, 0.1369],\n",
              "        [0.2141, 0.2440, 0.1367, 0.2193, 0.1860],\n",
              "        [0.2712, 0.2394, 0.0930, 0.2025, 0.1939],\n",
              "        [0.2177, 0.2354, 0.1173, 0.2739, 0.1556],\n",
              "        [0.1577, 0.1666, 0.2105, 0.2459, 0.2192],\n",
              "        [0.2096, 0.1308, 0.2504, 0.2831, 0.1262],\n",
              "        [0.2418, 0.1685, 0.1186, 0.3217, 0.1494],\n",
              "        [0.2140, 0.2644, 0.1078, 0.2887, 0.1251],\n",
              "        [0.2036, 0.1338, 0.1573, 0.3695, 0.1359],\n",
              "        [0.1684, 0.2406, 0.1589, 0.2616, 0.1704],\n",
              "        [0.2088, 0.1710, 0.1654, 0.3368, 0.1180],\n",
              "        [0.1168, 0.3063, 0.1634, 0.2343, 0.1792],\n",
              "        [0.2067, 0.2922, 0.2015, 0.2032, 0.0963],\n",
              "        [0.2247, 0.2960, 0.1528, 0.1561, 0.1704],\n",
              "        [0.2286, 0.2127, 0.1303, 0.2633, 0.1651],\n",
              "        [0.1748, 0.2371, 0.2163, 0.2854, 0.0864],\n",
              "        [0.1916, 0.3477, 0.1250, 0.2078, 0.1279],\n",
              "        [0.2585, 0.2120, 0.1943, 0.2508, 0.0844],\n",
              "        [0.2709, 0.2681, 0.1005, 0.1593, 0.2011],\n",
              "        [0.2501, 0.1377, 0.1458, 0.3280, 0.1384],\n",
              "        [0.1216, 0.1670, 0.3144, 0.2389, 0.1581],\n",
              "        [0.2539, 0.2481, 0.0550, 0.3583, 0.0847],\n",
              "        [0.1529, 0.2762, 0.2238, 0.1484, 0.1987],\n",
              "        [0.2336, 0.1912, 0.1652, 0.2679, 0.1421],\n",
              "        [0.1651, 0.1509, 0.2142, 0.2600, 0.2098],\n",
              "        [0.2262, 0.1629, 0.2400, 0.2081, 0.1627],\n",
              "        [0.1630, 0.2081, 0.1897, 0.3267, 0.1125],\n",
              "        [0.1459, 0.2332, 0.1129, 0.2975, 0.2105],\n",
              "        [0.1923, 0.2315, 0.1402, 0.2122, 0.2239],\n",
              "        [0.2208, 0.1504, 0.1507, 0.3790, 0.0991],\n",
              "        [0.1452, 0.1080, 0.1958, 0.3825, 0.1685],\n",
              "        [0.1007, 0.3677, 0.1040, 0.2407, 0.1869],\n",
              "        [0.1581, 0.1996, 0.2284, 0.3120, 0.1019],\n",
              "        [0.2285, 0.1440, 0.1931, 0.3261, 0.1082],\n",
              "        [0.2199, 0.2261, 0.1088, 0.2530, 0.1922],\n",
              "        [0.1692, 0.3166, 0.1248, 0.2303, 0.1592],\n",
              "        [0.1658, 0.2271, 0.2140, 0.2969, 0.0963],\n",
              "        [0.1052, 0.2259, 0.2815, 0.2467, 0.1407],\n",
              "        [0.1972, 0.1803, 0.1806, 0.2419, 0.2000],\n",
              "        [0.1987, 0.2186, 0.1333, 0.3186, 0.1307],\n",
              "        [0.2743, 0.2380, 0.1399, 0.1744, 0.1734],\n",
              "        [0.1531, 0.1366, 0.2618, 0.3573, 0.0912],\n",
              "        [0.2599, 0.1826, 0.2140, 0.2515, 0.0920],\n",
              "        [0.2859, 0.2060, 0.1548, 0.1479, 0.2055],\n",
              "        [0.1636, 0.2089, 0.1349, 0.3233, 0.1694],\n",
              "        [0.1867, 0.1931, 0.2202, 0.2930, 0.1070],\n",
              "        [0.1653, 0.2504, 0.0969, 0.2613, 0.2261],\n",
              "        [0.2038, 0.2909, 0.1420, 0.2299, 0.1334],\n",
              "        [0.1874, 0.1621, 0.1776, 0.3356, 0.1373],\n",
              "        [0.1819, 0.1787, 0.3033, 0.2062, 0.1299],\n",
              "        [0.2776, 0.1900, 0.1644, 0.2017, 0.1664],\n",
              "        [0.2308, 0.1609, 0.1207, 0.3584, 0.1292],\n",
              "        [0.1541, 0.2095, 0.1328, 0.3002, 0.2034],\n",
              "        [0.2021, 0.1936, 0.2095, 0.2097, 0.1851],\n",
              "        [0.2302, 0.1923, 0.1514, 0.3066, 0.1194],\n",
              "        [0.1012, 0.2746, 0.2086, 0.2679, 0.1477],\n",
              "        [0.1990, 0.2538, 0.1932, 0.1343, 0.2198],\n",
              "        [0.2202, 0.2452, 0.1311, 0.2444, 0.1591],\n",
              "        [0.2339, 0.1415, 0.1215, 0.3409, 0.1622],\n",
              "        [0.1929, 0.2032, 0.2031, 0.2293, 0.1715],\n",
              "        [0.1994, 0.1621, 0.2054, 0.2312, 0.2019],\n",
              "        [0.2044, 0.1845, 0.2461, 0.2436, 0.1214],\n",
              "        [0.2251, 0.1663, 0.1284, 0.2105, 0.2697]], device='cuda:0',\n",
              "       grad_fn=<SoftmaxBackward>)"
            ]
          },
          "metadata": {
            "tags": []
          },
          "execution_count": 20
        }
      ]
    },
    {
      "cell_type": "markdown",
      "metadata": {
        "id": "g9xikRdtRN1N"
      },
      "source": [
        "## Training"
      ]
    },
    {
      "cell_type": "markdown",
      "metadata": {
        "id": "76g7FV85H-T8"
      },
      "source": [
        "To train the model, we will use the AdamW optimizer and a linear learning-rate scheduler with no warmup steps, along with the cross-entropy loss."
      ]
    },
    {
      "cell_type": "code",
      "metadata": {
        "id": "5v-ArJ2fCCcU"
      },
      "source": [
        "from transformers import AdamW\n",
        "from transformers import get_linear_schedule_with_warmup\n",
        "\n",
        "EPOCHS = 50\n",
        "\n",
        "optimizer = AdamW(model.parameters(), lr=2e-5, correct_bias=False)\n",
        "total_steps = len(train_data_loader) * EPOCHS\n",
        "\n",
        "scheduler = get_linear_schedule_with_warmup(\n",
        "  optimizer,\n",
        "  num_warmup_steps=0,\n",
        "  num_training_steps=total_steps\n",
        ")\n",
        "\n",
        "loss_fn = nn.CrossEntropyLoss().to(device)"
      ],
      "execution_count": 21,
      "outputs": []
    },
    {
      "cell_type": "code",
      "metadata": {
        "id": "bzl9UhuNx1_Q"
      },
      "source": [
        "def train_epoch(\n",
        "  model, \n",
        "  data_loader, \n",
        "  loss_fn, \n",
        "  optimizer, \n",
        "  device, \n",
        "  scheduler, \n",
        "  n_examples\n",
        "):\n",
        "  model = model.train()\n",
        "\n",
        "  losses = []\n",
        "  correct_predictions = 0\n",
        "  \n",
        "  for d in data_loader:    \n",
        "    input_ids = d['input_ids'].to(device)\n",
        "    attention_mask = d['attention_mask'].to(device)\n",
        "    targets = d['targets'].to(device)\n",
        "\n",
        "    outputs = model(\n",
        "      input_ids=input_ids,\n",
        "      attention_mask=attention_mask\n",
        "    )\n",
        "\n",
        "    _, preds = torch.max(outputs, dim=1)\n",
        "    loss = loss_fn(outputs, targets)\n",
        "    #print(loss)\n",
        "    correct_predictions += (preds == targets).float().sum()\n",
        "    \n",
        "    losses.append(loss.item())\n",
        "\n",
        "    loss.backward()\n",
        "    nn.utils.clip_grad_norm_(model.parameters(), max_norm=1.0)\n",
        "    optimizer.step()\n",
        "    scheduler.step()\n",
        "    optimizer.zero_grad()\n",
        "\n",
        "  return correct_predictions.double() / n_examples, np.mean(losses)"
      ],
      "execution_count": 22,
      "outputs": []
    },
    {
      "cell_type": "code",
      "metadata": {
        "id": "CXeRorVGIKre"
      },
      "source": [
        "def eval_model(model, data_loader, loss_fn, device, n_examples):\n",
        "  model = model.eval()\n",
        "  losses = []\n",
        "  correct_predictions = 0\n",
        "  \n",
        "  for d in data_loader: \n",
        "    input_ids = d['input_ids'].to(device)\n",
        "    attention_mask = d['attention_mask'].to(device)\n",
        "    targets = d['targets'].to(device)\n",
        "\n",
        "    \n",
        "    outputs = model(\n",
        "      input_ids=input_ids,\n",
        "      attention_mask=attention_mask\n",
        "    )\n",
        "\n",
        "    _, preds = torch.max(outputs, dim=1)\n",
        "    loss = loss_fn(outputs, targets)\n",
        "\n",
        "    correct_predictions += (preds == targets).float().sum()\n",
        "    losses.append(loss.item())\n",
        "\n",
        "  return correct_predictions.double() / n_examples, np.mean(losses)"
      ],
      "execution_count": 23,
      "outputs": []
    },
    {
      "cell_type": "code",
      "metadata": {
        "id": "1zhHoFNsxufs",
        "colab": {
          "base_uri": "https://localhost:8080/"
        },
        "outputId": "dd6f6235-0d0a-4051-c44e-62b90d1138bf"
      },
      "source": [
        "\n",
        "from collections import defaultdict\n",
        "import numpy as np\n",
        "import warnings\n",
        " \n",
        "warnings.filterwarnings('ignore')\n",
        "\n",
        "history = defaultdict(list)\n",
        "best_accuracy = 0\n",
        "\n",
        "for epoch in range(EPOCHS):\n",
        "\n",
        "  print(f'Epoch {epoch + 1}/{EPOCHS}')\n",
        "  print('-' * 10)\n",
        "\n",
        "  train_acc, train_loss = train_epoch(model, train_data_loader, loss_fn, optimizer, device, scheduler, train_samples)\n",
        "\n",
        "  print(f'Train loss {train_loss} accuracy {train_acc}')\n",
        "\n",
        "  val_acc, val_loss = eval_model(model, val_data_loader, loss_fn, device, val_samples)\n",
        "\n",
        "  print(f'Val   loss {val_loss} accuracy {val_acc}')\n",
        "  print()\n",
        "\n",
        "  history['train_acc'].append(train_acc)\n",
        "  history['train_loss'].append(train_loss)\n",
        "  history['val_acc'].append(val_acc)\n",
        "  history['val_loss'].append(val_loss)\n",
        "\n",
        "  if val_acc >= best_accuracy:\n",
        "    torch.save(model.state_dict(), 'best_model_state.bin')\n",
        "    best_accuracy = val_acc"
      ],
      "execution_count": 24,
      "outputs": [
        {
          "output_type": "stream",
          "text": [
            "Epoch 1/50\n",
            "----------\n",
            "Train loss 1.2214831084308058 accuracy 0.4986050836949783\n",
            "Val   loss 1.244799643754959 accuracy 0.5456226880394575\n",
            "\n",
            "Epoch 2/50\n",
            "----------\n",
            "Train loss 1.0451760929409821 accuracy 0.5641661500309981\n",
            "Val   loss 1.1000590737049396 accuracy 0.5431565967940813\n",
            "\n",
            "Epoch 3/50\n",
            "----------\n",
            "Train loss 0.8299141340326555 accuracy 0.6611903285802851\n",
            "Val   loss 1.1796852098061488 accuracy 0.5573366214549939\n",
            "\n",
            "Epoch 4/50\n",
            "----------\n",
            "Train loss 0.656120363143411 accuracy 0.7376007439553627\n",
            "Val   loss 1.2669777021958277 accuracy 0.5431565967940813\n",
            "\n",
            "Epoch 5/50\n",
            "----------\n",
            "Train loss 0.5740956996041949 accuracy 0.7816181029138252\n",
            "Val   loss 1.847510814666748 accuracy 0.44204685573366215\n",
            "\n",
            "Epoch 6/50\n",
            "----------\n",
            "Train loss 0.4175549289303841 accuracy 0.8471791692498449\n",
            "Val   loss 1.7350929975509644 accuracy 0.5382244143033292\n",
            "\n",
            "Epoch 7/50\n",
            "----------\n",
            "Train loss 0.2744139474954936 accuracy 0.9032858028518288\n",
            "Val   loss 1.9189361746494586 accuracy 0.5524044389642417\n",
            "\n",
            "Epoch 8/50\n",
            "----------\n",
            "Train loss 0.19468967079894967 accuracy 0.9376937383756974\n",
            "Val   loss 2.113405773272881 accuracy 0.5363748458692972\n",
            "\n",
            "Epoch 9/50\n",
            "----------\n",
            "Train loss 0.14335960107348342 accuracy 0.9544327340359579\n",
            "Val   loss 2.1909135625912595 accuracy 0.5425400739827374\n",
            "\n",
            "Epoch 10/50\n",
            "----------\n",
            "Train loss 0.09343007235963008 accuracy 0.972101673899566\n",
            "Val   loss 2.3649832698015065 accuracy 0.55980271270037\n",
            "\n",
            "Epoch 11/50\n",
            "----------\n",
            "Train loss 0.09515810777239575 accuracy 0.9666769993800371\n",
            "Val   loss 2.5197149240053616 accuracy 0.5715166461159062\n",
            "\n",
            "Epoch 12/50\n",
            "----------\n",
            "Train loss 0.09267611709183617 accuracy 0.9680719156850589\n",
            "Val   loss 2.777914652457604 accuracy 0.5635018495684341\n",
            "\n",
            "Epoch 13/50\n",
            "----------\n",
            "Train loss 0.09926886011219334 accuracy 0.9685368877867327\n",
            "Val   loss 2.916329475549551 accuracy 0.5536374845869297\n",
            "\n",
            "Epoch 14/50\n",
            "----------\n",
            "Train loss 0.0752564892115182 accuracy 0.9752014879107254\n",
            "Val   loss 2.8276212307123036 accuracy 0.5561035758323059\n",
            "\n",
            "Epoch 15/50\n",
            "----------\n",
            "Train loss 0.05759373829771516 accuracy 0.9820210787352759\n",
            "Val   loss 2.820617299813491 accuracy 0.5388409371146733\n",
            "\n",
            "Epoch 16/50\n",
            "----------\n",
            "Train loss 0.030569283583888433 accuracy 0.9914755114693118\n",
            "Val   loss 2.965155106324416 accuracy 0.5561035758323059\n",
            "\n",
            "Epoch 17/50\n",
            "----------\n",
            "Train loss 0.0288697925568005 accuracy 0.9925604463732176\n",
            "Val   loss 3.1651059755912194 accuracy 0.5536374845869297\n",
            "\n",
            "Epoch 18/50\n",
            "----------\n",
            "Train loss 0.027432025660354974 accuracy 0.9934903905765654\n",
            "Val   loss 3.1357001662254333 accuracy 0.5499383477188656\n",
            "\n",
            "Epoch 19/50\n",
            "----------\n",
            "Train loss 0.023718194685078752 accuracy 0.9942653440793552\n",
            "Val   loss 3.0292667884093065 accuracy 0.561652281134402\n",
            "\n",
            "Epoch 20/50\n",
            "----------\n",
            "Train loss 0.017485343539075337 accuracy 0.9950402975821451\n",
            "Val   loss 3.10871958732605 accuracy 0.5517879161528977\n",
            "\n",
            "Epoch 21/50\n",
            "----------\n",
            "Train loss 0.01502117170579962 accuracy 0.9959702417854929\n",
            "Val   loss 3.18135929107666 accuracy 0.5672009864364982\n",
            "\n",
            "Epoch 22/50\n",
            "----------\n",
            "Train loss 0.01432345031315719 accuracy 0.9959702417854929\n",
            "Val   loss 3.1484832763671875 accuracy 0.5653514180024661\n",
            "\n",
            "Epoch 23/50\n",
            "----------\n",
            "Train loss 0.016429306561758946 accuracy 0.995195288282703\n",
            "Val   loss 3.1961528888115516 accuracy 0.5585696670776819\n",
            "\n",
            "Epoch 24/50\n",
            "----------\n",
            "Train loss 0.012152086554664546 accuracy 0.995350278983261\n",
            "Val   loss 3.257640847792992 accuracy 0.5554870530209618\n",
            "\n",
            "Epoch 25/50\n",
            "----------\n",
            "Train loss 0.01166257346861553 accuracy 0.9959702417854929\n",
            "Val   loss 3.285554363177373 accuracy 0.56288532675709\n",
            "\n",
            "Epoch 26/50\n",
            "----------\n",
            "Train loss 0.015058030067173081 accuracy 0.995350278983261\n",
            "Val   loss 3.2839086605952335 accuracy 0.5659679408138101\n",
            "\n",
            "Epoch 27/50\n",
            "----------\n",
            "Train loss 0.010659453548412622 accuracy 0.9959702417854929\n",
            "Val   loss 3.3376582310749936 accuracy 0.561652281134402\n",
            "\n",
            "Epoch 28/50\n",
            "----------\n",
            "Train loss 0.009973740812459048 accuracy 0.9962802231866088\n",
            "Val   loss 3.3715195105626035 accuracy 0.5604192355117139\n",
            "\n",
            "Epoch 29/50\n",
            "----------\n",
            "Train loss 0.010175153368301366 accuracy 0.9958152510849348\n",
            "Val   loss 3.4406165159665623 accuracy 0.56288532675709\n",
            "\n",
            "Epoch 30/50\n",
            "----------\n",
            "Train loss 0.0092473503553463 accuracy 0.9962802231866088\n",
            "Val   loss 3.4224644899368286 accuracy 0.5678175092478421\n",
            "\n",
            "Epoch 31/50\n",
            "----------\n",
            "Train loss 0.0075765518635271655 accuracy 0.9962802231866088\n",
            "Val   loss 3.4418650682155905 accuracy 0.56288532675709\n",
            "\n",
            "Epoch 32/50\n",
            "----------\n",
            "Train loss 0.008751307448025304 accuracy 0.9959702417854929\n",
            "Val   loss 3.4450762363580556 accuracy 0.564118372379778\n",
            "\n",
            "Epoch 33/50\n",
            "----------\n",
            "Train loss 0.00917016374627889 accuracy 0.9956602603843769\n",
            "Val   loss 3.4519812235465417 accuracy 0.5678175092478421\n",
            "\n",
            "Epoch 34/50\n",
            "----------\n",
            "Train loss 0.00671655687619932 accuracy 0.9967451952882826\n",
            "Val   loss 3.4322603940963745 accuracy 0.5653514180024661\n",
            "\n",
            "Epoch 35/50\n",
            "----------\n",
            "Train loss 0.0067176556353437675 accuracy 0.9964352138871667\n",
            "Val   loss 3.4785985946655273 accuracy 0.5665844636251541\n",
            "\n",
            "Epoch 36/50\n",
            "----------\n",
            "Train loss 0.006888957541882024 accuracy 0.9962802231866088\n",
            "Val   loss 3.4782288532990675 accuracy 0.5591861898890259\n",
            "\n",
            "Epoch 37/50\n",
            "----------\n",
            "Train loss 0.006447557101817456 accuracy 0.9965902045877247\n",
            "Val   loss 3.5099931955337524 accuracy 0.5604192355117139\n",
            "\n",
            "Epoch 38/50\n",
            "----------\n",
            "Train loss 0.007111832203495081 accuracy 0.9964352138871667\n",
            "Val   loss 3.522171515684861 accuracy 0.5604192355117139\n",
            "\n",
            "Epoch 39/50\n",
            "----------\n",
            "Train loss 0.005049662036206896 accuracy 0.9967451952882826\n",
            "Val   loss 3.583514745418842 accuracy 0.5647348951911221\n",
            "\n",
            "Epoch 40/50\n",
            "----------\n",
            "Train loss 0.005495915356876518 accuracy 0.9965902045877247\n",
            "Val   loss 3.585190534591675 accuracy 0.56288532675709\n",
            "\n",
            "Epoch 41/50\n",
            "----------\n",
            "Train loss 0.0058572191254744116 accuracy 0.9972101673899566\n",
            "Val   loss 3.5860579839119544 accuracy 0.5573366214549939\n",
            "\n",
            "Epoch 42/50\n",
            "----------\n",
            "Train loss 0.004620301827461583 accuracy 0.9970551766893986\n",
            "Val   loss 3.6107075947981615 accuracy 0.5573366214549939\n",
            "\n",
            "Epoch 43/50\n",
            "----------\n",
            "Train loss 0.005227180511853773 accuracy 0.9972101673899566\n",
            "Val   loss 3.6054115845606876 accuracy 0.5561035758323059\n",
            "\n",
            "Epoch 44/50\n",
            "----------\n",
            "Train loss 0.005226191458229487 accuracy 0.9969001859888407\n",
            "Val   loss 3.6069725568477926 accuracy 0.5561035758323059\n",
            "\n",
            "Epoch 45/50\n",
            "----------\n",
            "Train loss 0.0043719915606428425 accuracy 0.9972101673899566\n",
            "Val   loss 3.6256699837171116 accuracy 0.5573366214549939\n",
            "\n",
            "Epoch 46/50\n",
            "----------\n",
            "Train loss 0.004850852597414949 accuracy 0.9973651580905145\n",
            "Val   loss 3.626087894806495 accuracy 0.55980271270037\n",
            "\n",
            "Epoch 47/50\n",
            "----------\n",
            "Train loss 0.005164022618166452 accuracy 0.9965902045877247\n",
            "Val   loss 3.6438460166637716 accuracy 0.55980271270037\n",
            "\n",
            "Epoch 48/50\n",
            "----------\n",
            "Train loss 0.003947927821416057 accuracy 0.9979851208927464\n",
            "Val   loss 3.6534606493436375 accuracy 0.561652281134402\n",
            "\n",
            "Epoch 49/50\n",
            "----------\n",
            "Train loss 0.004374130313327343 accuracy 0.9972101673899566\n",
            "Val   loss 3.6576714790784397 accuracy 0.5604192355117139\n",
            "\n",
            "Epoch 50/50\n",
            "----------\n",
            "Train loss 0.0043570242205803 accuracy 0.9972101673899566\n",
            "Val   loss 3.6600505938896766 accuracy 0.561035758323058\n",
            "\n"
          ],
          "name": "stdout"
        }
      ]
    },
    {
      "cell_type": "code",
      "metadata": {
        "id": "-FWG7kBm372V",
        "colab": {
          "base_uri": "https://localhost:8080/",
          "height": 296
        },
        "outputId": "c7a7b34d-9460-4e0b-a7c1-8042d41df37d"
      },
      "source": [
        "import matplotlib.pyplot as plt\n",
        "\n",
        "epochNum = np.arange(1,51)\n",
        "train_acc = history['train_acc']\n",
        "val_acc = history['val_acc']\n",
        "plt.plot(epochNum, train_acc, label='Train')\n",
        "plt.plot(epochNum, val_acc, label='Validation')\n",
        "plt.xlabel(\"Epoch\") \n",
        "plt.ylabel(\"Accuracy\") \n",
        "plt.legend()"
      ],
      "execution_count": 26,
      "outputs": [
        {
          "output_type": "execute_result",
          "data": {
            "text/plain": [
              "<matplotlib.legend.Legend at 0x7f184547d610>"
            ]
          },
          "metadata": {
            "tags": []
          },
          "execution_count": 26
        },
        {
          "output_type": "display_data",
          "data": {
            "image/png": "[encoded data removed]",
            "text/plain": [
              "<Figure size 432x288 with 1 Axes>"
            ]
          },
          "metadata": {
            "tags": [],
            "needs_background": "light"
          }
        }
      ]
    },
    {
      "cell_type": "code",
      "metadata": {
        "colab": {
          "base_uri": "https://localhost:8080/",
          "height": 296
        },
        "id": "z13BLMwl9xM3",
        "outputId": "47fcad93-f123-40fb-9b30-ce4466910022"
      },
      "source": [
        "train_loss = history['train_loss']\n",
        "val_loss = history['val_loss']\n",
        "plt.plot(epochNum, train_loss, label='Train')\n",
        "plt.plot(epochNum, val_loss, label='Validation')\n",
        "plt.xlabel(\"Epoch\") \n",
        "plt.ylabel(\"Loss\") \n",
        "plt.legend()"
      ],
      "execution_count": 27,
      "outputs": [
        {
          "output_type": "execute_result",
          "data": {
            "text/plain": [
              "<matplotlib.legend.Legend at 0x7f18453eae90>"
            ]
          },
          "metadata": {
            "tags": []
          },
          "execution_count": 27
        },
        {
          "output_type": "display_data",
          "data": {
            "image/png": "[encoded data removed]",
            "text/plain": [
              "<Figure size 432x288 with 1 Axes>"
            ]
          },
          "metadata": {
            "tags": [],
            "needs_background": "light"
          }
        }
      ]
    },
    {
      "cell_type": "markdown",
      "metadata": {
        "id": "U3HZb3NWFtFf"
      },
      "source": [
        "## Evaluation"
      ]
    },
    {
      "cell_type": "code",
      "metadata": {
        "id": "EgR6MuNS8jr_"
      },
      "source": [
        "def get_predictions(model, data_loader):\n",
        "  model = model.eval()\n",
        "  \n",
        "  review_texts = []\n",
        "  predictions = []\n",
        "  prediction_probs = []\n",
        "  real_values = []\n",
        "\n",
        "  with torch.no_grad():\n",
        "    for d in data_loader:\n",
        "\n",
        "      #texts = d[\"review_text\"]\n",
        "      input_ids = d[\"input_ids\"].to(device)\n",
        "      attention_mask = d[\"attention_mask\"].to(device)\n",
        "      targets = d[\"targets\"].to(device)\n",
        "\n",
        "      outputs = model(\n",
        "        input_ids=input_ids,\n",
        "        attention_mask=attention_mask\n",
        "      )\n",
        "      _, preds = torch.max(outputs, dim=1)\n",
        "\n",
        "      #probs = F.softmax(outputs, dim=1)\n",
        "\n",
        "      #review_texts.extend(texts)\n",
        "      predictions.extend(preds)\n",
        "      #prediction_probs.extend(probs)\n",
        "      real_values.extend(targets)\n",
        "\n",
        "  predictions = torch.stack(predictions).cpu()\n",
        "  #prediction_probs = torch.stack(prediction_probs).cpu()\n",
        "  real_values = torch.stack(real_values).cpu()\n",
        "  #return review_texts, predictions, prediction_probs, real_values\n",
        "  return predictions, real_values"
      ],
      "execution_count": 28,
      "outputs": []
    },
    {
      "cell_type": "code",
      "metadata": {
        "id": "zHdPZr60-0c_"
      },
      "source": [
        "model.load_state_dict(torch.load('best_model_state.bin'))\n",
        "y_pred, y_test = get_predictions(\n",
        "  model,\n",
        "  test_data_loader\n",
        ")"
      ],
      "execution_count": 29,
      "outputs": []
    },
    {
      "cell_type": "code",
      "metadata": {
        "colab": {
          "base_uri": "https://localhost:8080/"
        },
        "id": "8ur239sX-THJ",
        "outputId": "762761e8-52ac-4ed1-c70e-cdf5a0c10dca"
      },
      "source": [
        "correct_predictions = (y_pred == y_test).float().sum()\n",
        "test_acc = correct_predictions.double() / test_samples\n",
        "print(\"Test Accuracy: \", test_acc.item())"
      ],
      "execution_count": 33,
      "outputs": [
        {
          "output_type": "stream",
          "text": [
            "Test Accuracy:  0.5339548340432372\n"
          ],
          "name": "stdout"
        }
      ]
    },
    {
      "cell_type": "code",
      "metadata": {
        "id": "6d1qxsc__DTh",
        "colab": {
          "base_uri": "https://localhost:8080/",
          "height": 396
        },
        "outputId": "af27bff8-6ed3-401a-ff39-8fd0e821adfd"
      },
      "source": [
        "from sklearn.metrics import confusion_matrix\n",
        "\n",
        "cm = confusion_matrix(y_test,y_pred)\n",
        "print(cm)\n",
        "cm = cm.astype('float')/cm.sum(axis=1)[:,np.newaxis]\n",
        "plt.imshow(cm, interpolation='nearest')\n",
        "plt.title(\"Confusion Matrix\")\n",
        "plt.colorbar()\n",
        "num_local = np.array(range(5))    \n",
        "plt.xticks(num_local, [-2,-1,0,1,2])\n",
        "plt.yticks(num_local, [-2,-1,0,1,2])\n",
        "plt.ylabel('True Sentiment')    \n",
        "plt.xlabel('Predicted Sentiment')"
      ],
      "execution_count": 35,
      "outputs": [
        {
          "output_type": "stream",
          "text": [
            "[[   1   34   25   11    0]\n",
            " [   3  210  710  348    1]\n",
            " [   1  181 2212 3587   16]\n",
            " [   1   31  480 4166  171]\n",
            " [   0    2    6  191   55]]\n"
          ],
          "name": "stdout"
        },
        {
          "output_type": "execute_result",
          "data": {
            "text/plain": [
              "Text(0.5, 0, 'Predicted Sentiment')"
            ]
          },
          "metadata": {
            "tags": []
          },
          "execution_count": 35
        },
        {
          "output_type": "display_data",
          "data": {
            "image/png": "[encoded data removed]",
            "text/plain": [
              "<Figure size 432x288 with 2 Axes>"
            ]
          },
          "metadata": {
            "tags": [],
            "needs_background": "light"
          }
        }
      ]
    },
    {
      "cell_type": "code",
      "metadata": {
        "id": "4czqgaCy-5_D"
      },
      "source": [
        ""
      ],
      "execution_count": null,
      "outputs": []
    }
  ]
}